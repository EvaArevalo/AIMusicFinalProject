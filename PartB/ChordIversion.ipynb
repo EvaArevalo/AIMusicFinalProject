{
 "cells": [
  {
   "cell_type": "markdown",
   "metadata": {},
   "source": [
    "# 0. Read XML and get measures to invert chords"
   ]
  },
  {
   "cell_type": "markdown",
   "metadata": {},
   "source": [
    "### A. Parse tree"
   ]
  },
  {
   "cell_type": "code",
   "execution_count": 1,
   "metadata": {},
   "outputs": [],
   "source": [
    "import xml.etree.cElementTree as ET\n",
    "\n",
    "filename = \"XMLs/至少還有你_主旋律.musicxml\"\n",
    "tree = ET.parse(filename)"
   ]
  },
  {
   "cell_type": "code",
   "execution_count": 2,
   "metadata": {},
   "outputs": [
    {
     "data": {
      "text/plain": [
       "('score-partwise', {'version': '3.1'})"
      ]
     },
     "execution_count": 2,
     "metadata": {},
     "output_type": "execute_result"
    }
   ],
   "source": [
    "root = tree.getroot()\n",
    "root.tag, root.attrib"
   ]
  },
  {
   "cell_type": "code",
   "execution_count": 3,
   "metadata": {},
   "outputs": [],
   "source": [
    "all_notes = root.findall('.//note')"
   ]
  },
  {
   "cell_type": "markdown",
   "metadata": {},
   "source": [
    "### B. Read measures"
   ]
  },
  {
   "cell_type": "code",
   "execution_count": 9,
   "metadata": {},
   "outputs": [],
   "source": [
    "from mxlParsing import *\n",
    "\n",
    "xml_measures = root.findall('.//measure')\n",
    "measures = []\n",
    "\n",
    "for xml_measure in xml_measures:\n",
    "    measure = Measure(get_meas_notes_xml(xml_measure))\n",
    "    measures.append(measure)"
   ]
  },
  {
   "cell_type": "code",
   "execution_count": 10,
   "metadata": {},
   "outputs": [
    {
     "name": "stdout",
     "output_type": "stream",
     "text": [
      "Note: 0 / None / None\n",
      "Note: 0 / None / None\n",
      "Note: 0 / None / None\n",
      "Note: 0 / whole / None\n",
      "Note: 0 / whole / None\n",
      "Note: 0 / whole / None\n",
      "Note: 0 / None / None\n",
      "Note: 0 / half / None\n",
      "Note: 0 / quarter / None\n",
      "Note: 0 / eighth / None\n",
      "Note: G4 / sixteenth / None\n",
      "Note: G4 / sixteenth / None\n",
      "Note: F4 / eighth / None\n",
      "Note: A4 / sixteenth / None\n",
      "Note: D5 / sixteenth / None\n",
      "Note: D5 / half / None\n",
      "Note: D5 / eighth / None\n",
      "Note: A4 / sixteenth / None\n",
      "Note: A4 / sixteenth / None\n",
      "Note: D5 / eighth / None\n",
      "Note: A4 / sixteenth / None\n",
      "Note: B4 / sixteenth / None\n",
      "Note: B4 / half / None\n",
      "Note: B4 / eighth / None\n",
      "Note: G4 / sixteenth / None\n",
      "Note: G4 / sixteenth / None\n",
      "Note: 0 / None / None\n",
      "Note: F4 / eighth / None\n",
      "Note: A4 / eighth / None\n",
      "Note: D5 / eighth / None\n",
      "Note: E5 / sixteenth / None\n",
      "Note: E5 / sixteenth / None\n",
      "Note: E5 / sixteenth / None\n",
      "Note: D5 / eighth / None\n",
      "Note: 0 / eighth / None\n",
      "Note: D5 / sixteenth / None\n",
      "Note: E5 / sixteenth / None\n",
      "Note: F5 / eighth / None\n",
      "Note: C5 / sixteenth / None\n",
      "Note: C5 / sixteenth / None\n",
      "Note: C5 / eighth / None\n",
      "Note: B4 / eighth / None\n",
      "Note: C5 / quarter / None\n",
      "Note: A4 / sixteenth / None\n",
      "Note: A4 / sixteenth / None\n",
      "Note: B4 / eighth / None\n",
      "Note: D5 / eighth / None\n",
      "Note: D5 / eighth / None\n",
      "Note: B4 / sixteenth / None\n",
      "Note: E5 / sixteenth / None\n",
      "Note: E5 / sixteenth / None\n",
      "Note: D5 / eighth / None\n",
      "Note: D5 / quarter / None\n",
      "Note: 0 / None / None\n",
      "Note: A4 / eighth / None\n",
      "Note: A4 / eighth / None\n",
      "Note: F5 / eighth / None\n",
      "Note: G5 / sixteenth / None\n",
      "Note: G5 / sixteenth / None\n",
      "Note: G5 / eighth / None\n",
      "Note: F5 / quarter / None\n",
      "Note: F5 / eighth / None\n",
      "Note: B4 / sixteenth / None\n",
      "Note: D5 / sixteenth / None\n",
      "Note: D5 / half / None\n",
      "Note: B4 / sixteenth / None\n",
      "Note: B4 / eighth / None\n",
      "Note: A4 / half / None\n",
      "Note: 0 / eighth / None\n",
      "Note: G4 / sixteenth / None\n",
      "Note: G4 / sixteenth / None\n",
      "Note: 0 / None / None\n",
      "Note: F4 / eighth / None\n",
      "Note: A4 / sixteenth / None\n",
      "Note: D5 / sixteenth / None\n",
      "Note: D5 / half / None\n",
      "Note: D5 / eighth / None\n",
      "Note: A4 / sixteenth / None\n",
      "Note: A4 / sixteenth / None\n",
      "Note: D5 / eighth / None\n",
      "Note: A4 / sixteenth / None\n",
      "Note: B4 / sixteenth / None\n",
      "Note: B4 / half / None\n",
      "Note: B4 / eighth / None\n",
      "Note: G4 / sixteenth / None\n",
      "Note: G4 / sixteenth / None\n",
      "Note: F4 / eighth / None\n",
      "Note: A4 / sixteenth / None\n",
      "Note: D5 / sixteenth / None\n",
      "Note: D5 / eighth / None\n",
      "Note: E5 / sixteenth / None\n",
      "Note: E5 / sixteenth / None\n",
      "Note: E5 / sixteenth / None\n",
      "Note: D5 / eighth / None\n",
      "Note: 0 / eighth / None\n",
      "Note: D5 / sixteenth / None\n",
      "Note: E5 / sixteenth / None\n",
      "Note: 0 / None / None\n",
      "Note: F5 / eighth / None\n",
      "Note: C5 / sixteenth / None\n",
      "Note: C5 / sixteenth / None\n",
      "Note: C5 / eighth / None\n",
      "Note: D5 / eighth / None\n",
      "Note: C5 / quarter / None\n",
      "Note: A4 / sixteenth / None\n",
      "Note: A4 / sixteenth / None\n",
      "Note: B4 / eighth / None\n",
      "Note: D5 / eighth / None\n",
      "Note: D5 / eighth / None\n",
      "Note: B4 / sixteenth / None\n",
      "Note: E5 / sixteenth / None\n",
      "Note: E5 / sixteenth / None\n",
      "Note: D5 / eighth / None\n",
      "Note: D5 / quarter / None\n",
      "Note: A4 / eighth / None\n",
      "Note: A4 / eighth / None\n",
      "Note: F5 / eighth / None\n",
      "Note: G5 / sixteenth / None\n",
      "Note: G5 / sixteenth / None\n",
      "Note: G5 / eighth / None\n",
      "Note: F5 / quarter / None\n",
      "Note: 0 / None / None\n",
      "Note: F5 / eighth / None\n",
      "Note: B4 / sixteenth / None\n",
      "Note: D5 / sixteenth / None\n",
      "Note: D5 / quarter / None\n",
      "Note: 0 / eighth / None\n",
      "Note: A4 / sixteenth / None\n",
      "Note: B4 / eighth / None\n",
      "Note: D5 / eighth / None\n",
      "Note: D5 / half / None\n",
      "Note: D5 / quarter / None\n",
      "Note: E5 / quarter / None\n",
      "Note: F5 / eighth / None\n",
      "Note: F5 / eighth / None\n",
      "Note: F5 / eighth / None\n",
      "Note: F5 / sixteenth / None\n",
      "Note: E5 / sixteenth / None\n",
      "Note: F5 / sixteenth / None\n",
      "Note: F5 / sixteenth / None\n",
      "Note: A5 / eighth / None\n",
      "Note: A5 / eighth / None\n",
      "Note: A4 / sixteenth / None\n",
      "Note: A4 / sixteenth / None\n",
      "Note: 0 / None / None\n",
      "Note: F5 / eighth / None\n",
      "Note: E5 / sixteenth / None\n",
      "Note: E5 / sixteenth / None\n",
      "Note: E5 / eighth / None\n",
      "Note: E5 / sixteenth / None\n",
      "Note: D5 / sixteenth / None\n",
      "Note: E5 / sixteenth / None\n",
      "Note: E5 / sixteenth / None\n",
      "Note: A5 / eighth / None\n",
      "Note: A5 / eighth / None\n",
      "Note: A4 / sixteenth / None\n",
      "Note: A4 / sixteenth / None\n",
      "Note: E5 / eighth / None\n",
      "Note: D5 / sixteenth / None\n",
      "Note: D5 / sixteenth / None\n",
      "Note: D5 / eighth / None\n",
      "Note: A4 / sixteenth / None\n",
      "Note: A4 / sixteenth / None\n",
      "Note: F5 / sixteenth / None\n",
      "Note: E5 / eighth / None\n",
      "Note: E5 / eighth / None\n",
      "Note: B4 / sixteenth / None\n",
      "Note: A4 / sixteenth / None\n",
      "Note: A4 / half / None\n",
      "Note: D5 / quarter / None\n",
      "Note: E5 / quarter / None\n",
      "Note: 0 / None / None\n",
      "Note: F5 / eighth / None\n",
      "Note: F5 / eighth / None\n",
      "Note: F5 / eighth / None\n",
      "Note: F5 / sixteenth / None\n",
      "Note: E5 / sixteenth / None\n",
      "Note: F5 / sixteenth / None\n",
      "Note: F5 / sixteenth / None\n",
      "Note: A5 / eighth / None\n",
      "Note: A5 / eighth / None\n",
      "Note: A4 / sixteenth / None\n",
      "Note: A4 / sixteenth / None\n",
      "Note: F5 / eighth / None\n",
      "Note: E5 / sixteenth / None\n",
      "Note: E5 / sixteenth / None\n",
      "Note: E5 / eighth / None\n",
      "Note: E5 / sixteenth / None\n",
      "Note: D5 / sixteenth / None\n",
      "Note: E5 / sixteenth / None\n",
      "Note: E5 / sixteenth / None\n",
      "Note: A5 / eighth / None\n",
      "Note: A5 / eighth / None\n",
      "Note: A4 / sixteenth / None\n",
      "Note: A4 / sixteenth / None\n",
      "Note: E5 / eighth / None\n",
      "Note: D5 / sixteenth / None\n",
      "Note: D5 / sixteenth / None\n",
      "Note: D5 / eighth / None\n",
      "Note: A4 / sixteenth / None\n",
      "Note: A4 / sixteenth / None\n",
      "Note: F5 / sixteenth / None\n",
      "Note: E5 / eighth / None\n",
      "Note: E5 / eighth / None\n",
      "Note: D5 / sixteenth / None\n",
      "Note: D5 / sixteenth / None\n",
      "Note: 0 / None / None\n",
      "Note: D5 / half / None\n",
      "Note: 0 / quarter / None\n",
      "Note: 0 / None / None\n"
     ]
    }
   ],
   "source": [
    "for measure in measures:\n",
    "    measure.printMeasure()"
   ]
  },
  {
   "cell_type": "code",
   "execution_count": null,
   "metadata": {},
   "outputs": [],
   "source": []
  }
 ],
 "metadata": {
  "kernelspec": {
   "display_name": "Python 3",
   "language": "python",
   "name": "python3"
  },
  "language_info": {
   "codemirror_mode": {
    "name": "ipython",
    "version": 3
   },
   "file_extension": ".py",
   "mimetype": "text/x-python",
   "name": "python",
   "nbconvert_exporter": "python",
   "pygments_lexer": "ipython3",
   "version": "3.6.8"
  },
  "varInspector": {
   "cols": {
    "lenName": 16,
    "lenType": 16,
    "lenVar": 40
   },
   "kernels_config": {
    "python": {
     "delete_cmd_postfix": "",
     "delete_cmd_prefix": "del ",
     "library": "var_list.py",
     "varRefreshCmd": "print(var_dic_list())"
    },
    "r": {
     "delete_cmd_postfix": ") ",
     "delete_cmd_prefix": "rm(",
     "library": "var_list.r",
     "varRefreshCmd": "cat(var_dic_list()) "
    }
   },
   "types_to_exclude": [
    "module",
    "function",
    "builtin_function_or_method",
    "instance",
    "_Feature"
   ],
   "window_display": false
  }
 },
 "nbformat": 4,
 "nbformat_minor": 2
}
