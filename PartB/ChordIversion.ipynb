{
 "cells": [
  {
   "cell_type": "markdown",
   "metadata": {},
   "source": [
    "# 0. Read XML and get measures to invert chords"
   ]
  },
  {
   "cell_type": "markdown",
   "metadata": {},
   "source": [
    "### A. Parse tree"
   ]
  },
  {
   "cell_type": "code",
   "execution_count": 10,
   "metadata": {
    "ExecuteTime": {
     "end_time": "2019-12-22T02:11:21.729278Z",
     "start_time": "2019-12-22T02:11:21.711281Z"
    }
   },
   "outputs": [],
   "source": [
    "import xml.etree.cElementTree as ET\n",
    "\n",
    "filename = \"../../XMLs/至少還有你_主旋律.musicxml\"\n",
    "tree = ET.parse(filename)\n"
   ]
  },
  {
   "cell_type": "code",
   "execution_count": 11,
   "metadata": {
    "ExecuteTime": {
     "end_time": "2019-12-22T02:11:21.972240Z",
     "start_time": "2019-12-22T02:11:21.964242Z"
    }
   },
   "outputs": [
    {
     "data": {
      "text/plain": [
       "('score-partwise', {'version': '3.1'})"
      ]
     },
     "execution_count": 11,
     "metadata": {},
     "output_type": "execute_result"
    }
   ],
   "source": [
    "root = tree.getroot()\n",
    "root.tag, root.attrib"
   ]
  },
  {
   "cell_type": "code",
   "execution_count": 12,
   "metadata": {
    "ExecuteTime": {
     "end_time": "2019-12-22T02:11:22.106218Z",
     "start_time": "2019-12-22T02:11:21.977240Z"
    }
   },
   "outputs": [],
   "source": [
    "all_notes = root.findall('.//note')"
   ]
  },
  {
   "cell_type": "markdown",
   "metadata": {},
   "source": [
    "### B. Read measures"
   ]
  },
  {
   "cell_type": "code",
   "execution_count": 13,
   "metadata": {
    "ExecuteTime": {
     "end_time": "2019-12-22T02:11:22.221200Z",
     "start_time": "2019-12-22T02:11:22.110218Z"
    }
   },
   "outputs": [],
   "source": [
    "from mxlParsing import *\n",
    "\n",
    "xml_measures = root.findall('.//measure')\n",
    "measures = []\n",
    "\n",
    "for xml_measure in xml_measures:\n",
    "    measure = Measure(get_meas_notes_xml(xml_measure))\n",
    "    if not measure.get_sos()==['0']:\n",
    "        measures.append(measure)"
   ]
  },
  {
   "cell_type": "code",
   "execution_count": 14,
   "metadata": {
    "ExecuteTime": {
     "end_time": "2019-12-22T02:11:22.347180Z",
     "start_time": "2019-12-22T02:11:22.225199Z"
    }
   },
   "outputs": [
    {
     "name": "stdout",
     "output_type": "stream",
     "text": [
      "Note: rest / half\n",
      "Note: rest / quarter\n",
      "Note: rest / eighth\n",
      "Note: G4 / 16th / None\n",
      "Note: G4 / 16th / None\n",
      "Note: F4 / eighth / None\n",
      "Note: A4 / 16th / None\n",
      "Note: D5 / 16th / start\n",
      "Note: D5 / half / stop\n",
      "Note: D5 / eighth / stop\n",
      "Note: A4 / 16th / None\n",
      "Note: A4 / 16th / None\n",
      "Note: D5 / eighth / None\n",
      "Note: A4 / 16th / None\n",
      "Note: B4 / 16th / start\n",
      "Note: B4 / half / stop\n",
      "Note: B4 / eighth / stop\n",
      "Note: G4 / 16th / None\n",
      "Note: G4 / 16th / None\n",
      "Note: F4 / eighth / None\n",
      "Note: A4 / eighth / None\n",
      "Note: D5 / eighth / None\n",
      "Note: E5 / 16th / None\n",
      "Note: E5 / 16th / start\n",
      "Note: E5 / 16th / stop\n",
      "Note: D5 / eighth / None\n",
      "Note: rest / eighth\n",
      "Note: D5 / 16th / None\n",
      "Note: E5 / 16th / None\n",
      "Note: F5 / eighth / None\n",
      "Note: C5 / 16th / None\n",
      "Note: C5 / 16th / start\n",
      "Note: C5 / eighth / stop\n",
      "Note: B4 / eighth / None\n",
      "Note: C5 / quarter / None\n",
      "Note: A4 / 16th / None\n",
      "Note: A4 / 16th / None\n",
      "Note: B4 / eighth / None\n",
      "Note: D5 / eighth / None\n",
      "Note: D5 / eighth / None\n",
      "Note: B4 / 16th / None\n",
      "Note: E5 / 16th / start\n",
      "Note: E5 / 16th / stop\n",
      "Note: D5 / eighth / start\n",
      "Note: D5 / quarter / stop\n",
      "Note: A4 / eighth / None\n",
      "Note: A4 / eighth / None\n",
      "Note: F5 / eighth / None\n",
      "Note: G5 / 16th / None\n",
      "Note: G5 / 16th / start\n",
      "Note: G5 / eighth / stop\n",
      "Note: F5 / quarter / None\n",
      "Note: F5 / eighth / None\n",
      "Note: B4 / 16th / None\n",
      "Note: D5 / 16th / start\n",
      "Note: D5 / half / stop\n",
      "Note: Bb4 / 16th / None\n",
      "Note: B4 / eighth / None\n",
      "Note: A4 / half / None\n",
      "Note: rest / eighth\n",
      "Note: G4 / 16th / None\n",
      "Note: G4 / 16th / None\n",
      "Note: F4 / eighth / None\n",
      "Note: A4 / 16th / None\n",
      "Note: D5 / 16th / start\n",
      "Note: D5 / half / stop\n",
      "Note: D5 / eighth / stop\n",
      "Note: A4 / 16th / None\n",
      "Note: A4 / 16th / None\n",
      "Note: D5 / eighth / None\n",
      "Note: A4 / 16th / None\n",
      "Note: B4 / 16th / start\n",
      "Note: B4 / half / stop\n",
      "Note: B4 / eighth / stop\n",
      "Note: G4 / 16th / None\n",
      "Note: G4 / 16th / None\n",
      "Note: F4 / eighth / None\n",
      "Note: A4 / 16th / None\n",
      "Note: D5 / 16th / start\n",
      "Note: D5 / eighth / stop\n",
      "Note: E5 / 16th / None\n",
      "Note: E5 / 16th / start\n",
      "Note: E5 / 16th / stop\n",
      "Note: D5 / eighth / None\n",
      "Note: rest / eighth\n",
      "Note: D5 / 16th / None\n",
      "Note: E5 / 16th / None\n",
      "Note: F5 / eighth / None\n",
      "Note: C5 / 16th / None\n",
      "Note: C5 / 16th / start\n",
      "Note: C5 / eighth / stop\n",
      "Note: D5 / eighth / None\n",
      "Note: C5 / quarter / None\n",
      "Note: A4 / 16th / None\n",
      "Note: A4 / 16th / None\n",
      "Note: B4 / eighth / None\n",
      "Note: D5 / eighth / None\n",
      "Note: D5 / eighth / None\n",
      "Note: B4 / 16th / None\n",
      "Note: E5 / 16th / start\n",
      "Note: E5 / 16th / stop\n",
      "Note: D5 / eighth / start\n",
      "Note: D5 / quarter / stop\n",
      "Note: A4 / eighth / None\n",
      "Note: A4 / eighth / None\n",
      "Note: F5 / eighth / None\n",
      "Note: G5 / 16th / None\n",
      "Note: G5 / 16th / start\n",
      "Note: G5 / eighth / stop\n",
      "Note: F5 / quarter / None\n",
      "Note: F5 / eighth / None\n",
      "Note: B4 / 16th / None\n",
      "Note: D5 / 16th / start\n",
      "Note: D5 / quarter / stop\n",
      "Note: rest / eighth\n",
      "Note: A4 / 16th / None\n",
      "Note: B4 / eighth / None\n",
      "Note: D5 / eighth / None\n",
      "Note: D5 / half / None\n",
      "Note: D5 / quarter / None\n",
      "Note: E5 / quarter / None\n",
      "Note: F5 / eighth / None\n",
      "Note: F5 / eighth / None\n",
      "Note: F5 / eighth / None\n",
      "Note: F5 / 16th / None\n",
      "Note: E5 / 16th / None\n",
      "Note: F5 / 16th / None\n",
      "Note: F5 / 16th / None\n",
      "Note: A5 / eighth / None\n",
      "Note: A5 / eighth / None\n",
      "Note: A4 / 16th / None\n",
      "Note: A4 / 16th / None\n",
      "Note: F5 / eighth / None\n",
      "Note: E5 / 16th / None\n",
      "Note: E5 / 16th / start\n",
      "Note: E5 / eighth / stop\n",
      "Note: E5 / 16th / None\n",
      "Note: D5 / 16th / None\n",
      "Note: E5 / 16th / None\n",
      "Note: E5 / 16th / None\n",
      "Note: A5 / eighth / None\n",
      "Note: A5 / eighth / None\n",
      "Note: A4 / 16th / None\n",
      "Note: A4 / 16th / None\n",
      "Note: E5 / eighth / None\n",
      "Note: D5 / 16th / None\n",
      "Note: D5 / 16th / start\n",
      "Note: D5 / eighth / stop\n",
      "Note: A4 / 16th / None\n",
      "Note: A4 / 16th / None\n",
      "Note: F*5 / 16th / None\n",
      "Note: E5 / eighth / None\n",
      "Note: E5 / eighth / None\n",
      "Note: Bb4 / 16th / None\n",
      "Note: A4 / 16th / start\n",
      "Note: A4 / half / stop\n",
      "Note: D5 / quarter / None\n",
      "Note: E5 / quarter / None\n",
      "Note: F5 / eighth / None\n",
      "Note: F5 / eighth / None\n",
      "Note: F5 / eighth / None\n",
      "Note: F5 / 16th / None\n",
      "Note: E5 / 16th / None\n",
      "Note: F5 / 16th / None\n",
      "Note: F5 / 16th / None\n",
      "Note: A5 / eighth / None\n",
      "Note: A5 / eighth / None\n",
      "Note: A4 / 16th / None\n",
      "Note: A4 / 16th / None\n",
      "Note: F5 / eighth / None\n",
      "Note: E5 / 16th / None\n",
      "Note: E5 / 16th / start\n",
      "Note: E5 / eighth / stop\n",
      "Note: E5 / 16th / None\n",
      "Note: D5 / 16th / None\n",
      "Note: E5 / 16th / None\n",
      "Note: E5 / 16th / None\n",
      "Note: A5 / eighth / None\n",
      "Note: A5 / eighth / None\n",
      "Note: A4 / 16th / None\n",
      "Note: A4 / 16th / None\n",
      "Note: E5 / eighth / None\n",
      "Note: D5 / 16th / None\n",
      "Note: D5 / 16th / start\n",
      "Note: D5 / eighth / stop\n",
      "Note: A4 / 16th / None\n",
      "Note: A4 / 16th / None\n",
      "Note: F*5 / 16th / None\n",
      "Note: E5 / eighth / None\n",
      "Note: E5 / eighth / None\n",
      "Note: D5 / 16th / None\n",
      "Note: D5 / 16th / start\n",
      "Note: D5 / half / stop\n",
      "Note: rest / quarter\n"
     ]
    }
   ],
   "source": [
    "for measure in measures:\n",
    "    measure.printMeasure()"
   ]
  },
  {
   "cell_type": "markdown",
   "metadata": {},
   "source": [
    "# 1. Explore Music21"
   ]
  },
  {
   "cell_type": "code",
   "execution_count": 15,
   "metadata": {
    "ExecuteTime": {
     "end_time": "2019-12-22T02:11:22.482158Z",
     "start_time": "2019-12-22T02:11:22.356178Z"
    }
   },
   "outputs": [],
   "source": [
    "from music21 import *\n",
    "import copy\n"
   ]
  },
  {
   "cell_type": "code",
   "execution_count": 16,
   "metadata": {
    "ExecuteTime": {
     "end_time": "2019-12-22T02:11:22.620160Z",
     "start_time": "2019-12-22T02:11:22.487159Z"
    }
   },
   "outputs": [
    {
     "data": {
      "text/plain": [
       "['M-3', 'P1', 'A4']"
      ]
     },
     "execution_count": 16,
     "metadata": {},
     "output_type": "execute_result"
    }
   ],
   "source": [
    "import copy\n",
    "\n",
    "it = ['M-3','P1','A4']\n",
    "it"
   ]
  },
  {
   "cell_type": "code",
   "execution_count": 17,
   "metadata": {
    "ExecuteTime": {
     "end_time": "2019-12-22T02:11:22.763138Z",
     "start_time": "2019-12-22T02:11:22.622162Z"
    }
   },
   "outputs": [
    {
     "name": "stdout",
     "output_type": "stream",
     "text": [
      "M-3\n",
      "P1\n",
      "A4\n"
     ]
    },
    {
     "data": {
      "text/plain": [
       "[<music21.pitch.Pitch D-4>, <music21.pitch.Pitch F4>, <music21.pitch.Pitch B4>]"
      ]
     },
     "execution_count": 17,
     "metadata": {},
     "output_type": "execute_result"
    }
   ],
   "source": [
    "p = pitch.Pitch('F4')\n",
    "cList = []\n",
    "\n",
    "for i in it:\n",
    "    print(i)\n",
    "    pNew = p.transpose(i, inPlace=False)\n",
    "    cList.append(pNew)\n",
    "\n",
    "cList"
   ]
  },
  {
   "cell_type": "code",
   "execution_count": 33,
   "metadata": {
    "ExecuteTime": {
     "end_time": "2019-12-22T02:17:22.470192Z",
     "start_time": "2019-12-22T02:17:20.318535Z"
    }
   },
   "outputs": [],
   "source": [
    "%matplotlib inline\n",
    "import os\n",
    "\n",
    "environment.set(\"musicxmlPath\", \"C:/Program Files/MuseScore 3/bin/MuseScore3.exe\")\n",
    "environment.set(\"musescoreDirectPNGPath\", \"C:/Program Files/MuseScore 3/bin/MuseScore3.exe\")\n",
    "environment.set(\"lilypondPath\", \"C:/Program Files (x86)/LilyPond/usr/bin/lilypond.exe\")\n",
    "\n",
    "chord1 = chord.Chord(cList)\n",
    "chord1.show('lily.png')"
   ]
  },
  {
   "cell_type": "code",
   "execution_count": 34,
   "metadata": {
    "ExecuteTime": {
     "end_time": "2019-12-22T02:17:22.614171Z",
     "start_time": "2019-12-22T02:17:22.570177Z"
    }
   },
   "outputs": [],
   "source": [
    "chord1.inversion(0)"
   ]
  },
  {
   "cell_type": "code",
   "execution_count": 35,
   "metadata": {
    "ExecuteTime": {
     "end_time": "2019-12-22T02:17:25.228757Z",
     "start_time": "2019-12-22T02:17:22.740150Z"
    }
   },
   "outputs": [],
   "source": [
    "chord1.show('lily.png')"
   ]
  },
  {
   "cell_type": "code",
   "execution_count": 59,
   "metadata": {
    "ExecuteTime": {
     "end_time": "2019-12-22T02:31:29.175324Z",
     "start_time": "2019-12-22T02:31:27.242631Z"
    }
   },
   "outputs": [],
   "source": [
    "n = note.Note('G4')\n",
    "n.show('lily.png')\n",
    "aInterval = interval.Interval(-24)"
   ]
  },
  {
   "cell_type": "code",
   "execution_count": 60,
   "metadata": {
    "ExecuteTime": {
     "end_time": "2019-12-22T02:31:31.815906Z",
     "start_time": "2019-12-22T02:31:29.287307Z"
    }
   },
   "outputs": [],
   "source": [
    "b = n.transpose(aInterval)\n",
    "b.show('lily.png')"
   ]
  },
  {
   "cell_type": "markdown",
   "metadata": {},
   "source": [
    "# 2. Try Inversion "
   ]
  },
  {
   "cell_type": "code",
   "execution_count": 38,
   "metadata": {
    "ExecuteTime": {
     "end_time": "2019-12-22T02:17:35.647253Z",
     "start_time": "2019-12-22T02:17:35.621256Z"
    }
   },
   "outputs": [
    {
     "data": {
      "text/plain": [
       "['F4', 'A4', 'D5', 'D5', 'D5', 'A4', 'A4']"
      ]
     },
     "execution_count": 38,
     "metadata": {},
     "output_type": "execute_result"
    }
   ],
   "source": [
    "it = measures[1].get_sos()\n",
    "it"
   ]
  },
  {
   "cell_type": "code",
   "execution_count": 39,
   "metadata": {
    "ExecuteTime": {
     "end_time": "2019-12-22T02:17:35.906213Z",
     "start_time": "2019-12-22T02:17:35.788233Z"
    }
   },
   "outputs": [
    {
     "data": {
      "text/plain": [
       "['eighth', '16th', '16th', 'half', 'eighth', '16th', '16th']"
      ]
     },
     "execution_count": 39,
     "metadata": {},
     "output_type": "execute_result"
    }
   ],
   "source": [
    "it_types = measures[1].get_notetypes()\n",
    "it_types"
   ]
  },
  {
   "cell_type": "code",
   "execution_count": 40,
   "metadata": {
    "ExecuteTime": {
     "end_time": "2019-12-22T02:17:36.115178Z",
     "start_time": "2019-12-22T02:17:36.039193Z"
    }
   },
   "outputs": [],
   "source": [
    "s1 = stream.Stream()\n",
    "for n,t in zip(it,it_types):\n",
    "    s1.append(note.Note(n,type=t))"
   ]
  },
  {
   "cell_type": "code",
   "execution_count": 43,
   "metadata": {
    "ExecuteTime": {
     "end_time": "2019-12-22T02:17:53.093379Z",
     "start_time": "2019-12-22T02:17:50.859732Z"
    }
   },
   "outputs": [],
   "source": [
    "s1.show('lily.png')"
   ]
  },
  {
   "cell_type": "code",
   "execution_count": 44,
   "metadata": {
    "ExecuteTime": {
     "end_time": "2019-12-22T02:17:55.847187Z",
     "start_time": "2019-12-22T02:17:53.244599Z"
    }
   },
   "outputs": [],
   "source": [
    "aInterval = interval.Interval(-16)\n",
    "sinv = s1.transpose(aInterval)\n",
    "sinv.show('lily.png')"
   ]
  },
  {
   "cell_type": "code",
   "execution_count": 45,
   "metadata": {
    "ExecuteTime": {
     "end_time": "2019-12-22T02:17:56.027159Z",
     "start_time": "2019-12-22T02:17:56.010161Z"
    }
   },
   "outputs": [
    {
     "data": {
      "text/plain": [
       "['_DOC_ATTR',\n",
       " '_DOC_ORDER',\n",
       " '__add__',\n",
       " '__bool__',\n",
       " '__class__',\n",
       " '__deepcopy__',\n",
       " '__delattr__',\n",
       " '__delitem__',\n",
       " '__dict__',\n",
       " '__dir__',\n",
       " '__doc__',\n",
       " '__eq__',\n",
       " '__format__',\n",
       " '__ge__',\n",
       " '__getattribute__',\n",
       " '__getitem__',\n",
       " '__getstate__',\n",
       " '__gt__',\n",
       " '__hash__',\n",
       " '__init__',\n",
       " '__init_subclass__',\n",
       " '__iter__',\n",
       " '__le__',\n",
       " '__len__',\n",
       " '__lt__',\n",
       " '__module__',\n",
       " '__ne__',\n",
       " '__new__',\n",
       " '__reduce__',\n",
       " '__reduce_ex__',\n",
       " '__repr__',\n",
       " '__setattr__',\n",
       " '__setitem__',\n",
       " '__setstate__',\n",
       " '__sizeof__',\n",
       " '__str__',\n",
       " '__subclasshook__',\n",
       " '__weakref__',\n",
       " '_accumulatedSeconds',\n",
       " '_activeSite',\n",
       " '_activeSiteStoredOffset',\n",
       " '_atSoundingPitch',\n",
       " '_cache',\n",
       " '_classListFullyQualifiedCacheDict',\n",
       " '_classSetCacheDict',\n",
       " '_classTupleCacheDict',\n",
       " '_consolidateLayering',\n",
       " '_deepcopySubclassable',\n",
       " '_derivation',\n",
       " '_durSpanOverlap',\n",
       " '_duration',\n",
       " '_editorial',\n",
       " '_elements',\n",
       " '_endElements',\n",
       " '_findLayering',\n",
       " '_fixMeasureNumbers',\n",
       " '_getActiveSite',\n",
       " '_getAtSoundingPitch',\n",
       " '_getClef',\n",
       " '_getDerivation',\n",
       " '_getDurSpan',\n",
       " '_getDuration',\n",
       " '_getElements',\n",
       " '_getFinalBarline',\n",
       " '_getFlatOrSemiFlat',\n",
       " '_getKeySignature',\n",
       " '_getMeasureOffset',\n",
       " '_getMetadata',\n",
       " '_getOffset',\n",
       " '_getPriority',\n",
       " '_getQuarterLength',\n",
       " '_getSeconds',\n",
       " '_getSecondsMap',\n",
       " '_getTimeSignature',\n",
       " '_getTimeSignatureForBeat',\n",
       " '_insertDeletionVariant',\n",
       " '_insertInsertionVariant',\n",
       " '_insertReplacementVariant',\n",
       " '_maxVoiceCount',\n",
       " '_mutable',\n",
       " '_naiveOffset',\n",
       " '_offsetDict',\n",
       " '_priority',\n",
       " '_recurseRepr',\n",
       " '_removeIteration',\n",
       " '_removeOrExpandGaps',\n",
       " '_replaceSpannerBundleForDeepcopy',\n",
       " '_reprText',\n",
       " '_reprTextLine',\n",
       " '_setActiveSite',\n",
       " '_setAtSoundingPitch',\n",
       " '_setClef',\n",
       " '_setDerivation',\n",
       " '_setDuration',\n",
       " '_setElements',\n",
       " '_setFinalBarline',\n",
       " '_setHighestTime',\n",
       " '_setKeySignature',\n",
       " '_setMetadata',\n",
       " '_setOffset',\n",
       " '_setPriority',\n",
       " '_setQuarterLength',\n",
       " '_setSeconds',\n",
       " '_setTimeSignature',\n",
       " '_style',\n",
       " '_styleClass',\n",
       " '_transposeByInstrument',\n",
       " '_uniqueOffsetsAndEndTimes',\n",
       " '_unlinkedDuration',\n",
       " '_yieldReverseUpwardsSearch',\n",
       " 'activateVariants',\n",
       " 'activeSite',\n",
       " 'addGroupForElements',\n",
       " 'allPlayingWhileSounding',\n",
       " 'analyze',\n",
       " 'append',\n",
       " 'asTimespans',\n",
       " 'asTree',\n",
       " 'atSoundingPitch',\n",
       " 'attachIntervalsBetweenStreams',\n",
       " 'attachMelodicIntervals',\n",
       " 'augmentOrDiminish',\n",
       " 'autoSort',\n",
       " 'beat',\n",
       " 'beatAndMeasureFromOffset',\n",
       " 'beatDuration',\n",
       " 'beatStr',\n",
       " 'beatStrength',\n",
       " 'chordify',\n",
       " 'classSet',\n",
       " 'classSortOrder',\n",
       " 'classes',\n",
       " 'clear',\n",
       " 'clef',\n",
       " 'cloneEmpty',\n",
       " 'containerHierarchy',\n",
       " 'containerInHierarchy',\n",
       " 'contextSites',\n",
       " 'coreAppend',\n",
       " 'coreElementsChanged',\n",
       " 'coreGatherMissingSpanners',\n",
       " 'coreGetElementByMemoryLocation',\n",
       " 'coreGuardBeforeAddElement',\n",
       " 'coreHasElementByMemoryLocation',\n",
       " 'coreInsert',\n",
       " 'coreStoreAtEnd',\n",
       " 'definesExplicitPageBreaks',\n",
       " 'definesExplicitSystemBreaks',\n",
       " 'derivation',\n",
       " 'duration',\n",
       " 'editorial',\n",
       " 'elementOffset',\n",
       " 'elements',\n",
       " 'expandRepeats',\n",
       " 'explode',\n",
       " 'extendDuration',\n",
       " 'extendDurationAndGetBoundaries',\n",
       " 'extendTies',\n",
       " 'extractContext',\n",
       " 'finalBarline',\n",
       " 'findConsecutiveNotes',\n",
       " 'findGaps',\n",
       " 'flat',\n",
       " 'flattenUnnecessaryVoices',\n",
       " 'getAllContextsByClass',\n",
       " 'getClefs',\n",
       " 'getContextByClass',\n",
       " 'getElementAfterElement',\n",
       " 'getElementAtOrBefore',\n",
       " 'getElementBeforeOffset',\n",
       " 'getElementById',\n",
       " 'getElementsByClass',\n",
       " 'getElementsByGroup',\n",
       " 'getElementsByOffset',\n",
       " 'getElementsNotOfClass',\n",
       " 'getInstrument',\n",
       " 'getInstruments',\n",
       " 'getKeySignatures',\n",
       " 'getOffsetBySite',\n",
       " 'getOffsetInHierarchy',\n",
       " 'getOverlaps',\n",
       " 'getSpannerSites',\n",
       " 'getTimeSignatures',\n",
       " 'groups',\n",
       " 'hasEditorialInformation',\n",
       " 'hasElement',\n",
       " 'hasElementOfClass',\n",
       " 'hasMeasures',\n",
       " 'hasPartLikeStreams',\n",
       " 'hasStyleInformation',\n",
       " 'hasVoices',\n",
       " 'haveAccidentalsBeenMade',\n",
       " 'highestOffset',\n",
       " 'highestTime',\n",
       " 'id',\n",
       " 'index',\n",
       " 'informSites',\n",
       " 'insert',\n",
       " 'insertAndShift',\n",
       " 'insertIntoNoteOrChord',\n",
       " 'invertDiatonic',\n",
       " 'isClassOrSubclass',\n",
       " 'isFlat',\n",
       " 'isGapless',\n",
       " 'isMeasure',\n",
       " 'isSequence',\n",
       " 'isSorted',\n",
       " 'isStream',\n",
       " 'isTwelveTone',\n",
       " 'isWellFormedNotation',\n",
       " 'iter',\n",
       " 'keySignature',\n",
       " 'lowestOffset',\n",
       " 'lyrics',\n",
       " 'makeAccidentals',\n",
       " 'makeBeams',\n",
       " 'makeChords',\n",
       " 'makeImmutable',\n",
       " 'makeMeasures',\n",
       " 'makeMutable',\n",
       " 'makeNotation',\n",
       " 'makeRests',\n",
       " 'makeTies',\n",
       " 'makeVariantBlocks',\n",
       " 'makeVoices',\n",
       " 'measure',\n",
       " 'measureNumber',\n",
       " 'measureOffsetMap',\n",
       " 'measures',\n",
       " 'melodicIntervals',\n",
       " 'mergeAttributes',\n",
       " 'mergeElements',\n",
       " 'metadata',\n",
       " 'metronomeMarkBoundaries',\n",
       " 'next',\n",
       " 'notes',\n",
       " 'notesAndRests',\n",
       " 'offset',\n",
       " 'offsetMap',\n",
       " 'pitches',\n",
       " 'playingWhenAttacked',\n",
       " 'plot',\n",
       " 'pop',\n",
       " 'previous',\n",
       " 'priority',\n",
       " 'purgeLocations',\n",
       " 'purgeOrphans',\n",
       " 'quantize',\n",
       " 'quarterLength',\n",
       " 'recurse',\n",
       " 'recursionType',\n",
       " 'remove',\n",
       " 'removeByClass',\n",
       " 'removeByNotOfClass',\n",
       " 'repeatAppend',\n",
       " 'repeatInsert',\n",
       " 'replace',\n",
       " 'restoreActiveSites',\n",
       " 'scaleDurations',\n",
       " 'scaleOffsets',\n",
       " 'seconds',\n",
       " 'secondsMap',\n",
       " 'semiFlat',\n",
       " 'setDerivationMethod',\n",
       " 'setElementOffset',\n",
       " 'setOffsetBySite',\n",
       " 'shiftElements',\n",
       " 'show',\n",
       " 'showVariantAsOssialikePart',\n",
       " 'simultaneousAttacks',\n",
       " 'sites',\n",
       " 'sliceAtOffsets',\n",
       " 'sliceByBeat',\n",
       " 'sliceByGreatestDivisor',\n",
       " 'sliceByQuarterLengths',\n",
       " 'sort',\n",
       " 'sortTuple',\n",
       " 'sorted',\n",
       " 'spannerBundle',\n",
       " 'spanners',\n",
       " 'splitAtDurations',\n",
       " 'splitAtQuarterLength',\n",
       " 'splitByClass',\n",
       " 'splitByQuarterLengths',\n",
       " 'storeAtEnd',\n",
       " 'streamStatus',\n",
       " 'stripTies',\n",
       " 'style',\n",
       " 'template',\n",
       " 'timeSignature',\n",
       " 'toSoundingPitch',\n",
       " 'toWrittenPitch',\n",
       " 'transferOffsetToElements',\n",
       " 'transpose',\n",
       " 'variants',\n",
       " 'voices',\n",
       " 'voicesToParts',\n",
       " 'write']"
      ]
     },
     "execution_count": 45,
     "metadata": {},
     "output_type": "execute_result"
    }
   ],
   "source": [
    "dir(s1)"
   ]
  },
  {
   "cell_type": "code",
   "execution_count": 46,
   "metadata": {
    "ExecuteTime": {
     "end_time": "2019-12-22T02:17:56.202130Z",
     "start_time": "2019-12-22T02:17:56.163137Z"
    }
   },
   "outputs": [],
   "source": [
    "s1.keySignature"
   ]
  },
  {
   "cell_type": "code",
   "execution_count": 47,
   "metadata": {
    "ExecuteTime": {
     "end_time": "2019-12-22T02:17:59.936856Z",
     "start_time": "2019-12-22T02:17:56.306115Z"
    }
   },
   "outputs": [
    {
     "name": "stdout",
     "output_type": "stream",
     "text": [
      "pygame 1.9.6\n",
      "Hello from the pygame community. https://www.pygame.org/contribute.html\n"
     ]
    }
   ],
   "source": [
    "from music21 import *\n",
    "midi.realtime.StreamPlayer(s1).play()"
   ]
  },
  {
   "cell_type": "code",
   "execution_count": 48,
   "metadata": {
    "ExecuteTime": {
     "end_time": "2019-12-22T02:18:02.656500Z",
     "start_time": "2019-12-22T02:18:00.050769Z"
    }
   },
   "outputs": [],
   "source": [
    "midi.realtime.StreamPlayer(sinv).play()"
   ]
  },
  {
   "cell_type": "code",
   "execution_count": null,
   "metadata": {
    "ExecuteTime": {
     "end_time": "2019-12-22T02:12:16.201748Z",
     "start_time": "2019-12-22T02:12:12.025Z"
    }
   },
   "outputs": [],
   "source": [
    "import pygame"
   ]
  },
  {
   "cell_type": "code",
   "execution_count": 61,
   "metadata": {
    "ExecuteTime": {
     "end_time": "2019-12-22T02:32:42.550542Z",
     "start_time": "2019-12-22T02:32:42.531541Z"
    }
   },
   "outputs": [
    {
     "ename": "AttributeError",
     "evalue": "'Stream' object has no attribute 'reverse'",
     "output_type": "error",
     "traceback": [
      "\u001b[1;31m------------------------------------------------------------\u001b[0m",
      "\u001b[1;31mAttributeError\u001b[0m             Traceback (most recent call last)",
      "\u001b[1;32m<ipython-input-61-6a2f1c161764>\u001b[0m in \u001b[0;36m<module>\u001b[1;34m\u001b[0m\n\u001b[1;32m----> 1\u001b[1;33m \u001b[0msinv\u001b[0m\u001b[1;33m.\u001b[0m\u001b[0mreverse\u001b[0m\u001b[1;33m(\u001b[0m\u001b[1;33m)\u001b[0m\u001b[1;33m\u001b[0m\u001b[0m\n\u001b[0m",
      "\u001b[1;31mAttributeError\u001b[0m: 'Stream' object has no attribute 'reverse'"
     ]
    }
   ],
   "source": [
    "sinv.reverse()"
   ]
  },
  {
   "cell_type": "code",
   "execution_count": 65,
   "metadata": {
    "ExecuteTime": {
     "end_time": "2019-12-22T02:35:41.166252Z",
     "start_time": "2019-12-22T02:35:39.186532Z"
    }
   },
   "outputs": [],
   "source": [
    "\n",
    "l = []\n",
    "for n,t in zip(it,it_types):\n",
    "    l.append(note.Note(n,type=t))\n",
    "i1 = interval.Interval(l)\n",
    "i1.show('lily.png')"
   ]
  },
  {
   "cell_type": "markdown",
   "metadata": {},
   "source": [
    "# 3. Read with Music21"
   ]
  },
  {
   "cell_type": "code",
   "execution_count": 1,
   "metadata": {
    "ExecuteTime": {
     "end_time": "2019-12-22T05:03:08.966904Z",
     "start_time": "2019-12-22T05:03:08.939911Z"
    }
   },
   "outputs": [],
   "source": [
    "import xml.etree.cElementTree as ET\n",
    "\n",
    "filename = \"../../XMLs/至少還有你_主旋律.musicxml\"\n",
    "tree = ET.parse(filename)\n",
    "root = tree.getroot()\n",
    "root.tag, root.attrib\n",
    "all_notes = root.findall('.//note')\n",
    "xml_measures = root.findall('.//measure')\n"
   ]
  },
  {
   "cell_type": "code",
   "execution_count": 2,
   "metadata": {
    "ExecuteTime": {
     "end_time": "2019-12-22T05:03:09.204865Z",
     "start_time": "2019-12-22T05:03:09.142877Z"
    }
   },
   "outputs": [],
   "source": [
    "from mxlParsing import *\n",
    "\n",
    "measures = []\n",
    "\n",
    "for xml_measure in xml_measures:\n",
    "    measure = Measure(get_meas_notes_xml(xml_measure))\n",
    "    if not measure.get_sos()==['0']:\n",
    "        measures.append(measure)"
   ]
  },
  {
   "cell_type": "code",
   "execution_count": 3,
   "metadata": {
    "ExecuteTime": {
     "end_time": "2019-12-22T05:03:09.396836Z",
     "start_time": "2019-12-22T05:03:09.331847Z"
    }
   },
   "outputs": [
    {
     "data": {
      "text/plain": [
       "[None]"
      ]
     },
     "execution_count": 3,
     "metadata": {},
     "output_type": "execute_result"
    }
   ],
   "source": [
    "measures[2].get_sos()"
   ]
  },
  {
   "cell_type": "markdown",
   "metadata": {},
   "source": [
    "# 5. Create strem"
   ]
  },
  {
   "cell_type": "code",
   "execution_count": 6,
   "metadata": {
    "ExecuteTime": {
     "end_time": "2019-12-22T04:44:05.475943Z",
     "start_time": "2019-12-22T04:44:05.465947Z"
    }
   },
   "outputs": [
    {
     "data": {
      "text/plain": [
       "['F4', 'A4', 'D5', 'D5', 'D5', 'A4', 'A4']"
      ]
     },
     "execution_count": 6,
     "metadata": {},
     "output_type": "execute_result"
    }
   ],
   "source": [
    "stream_notes = measures[1].get_sos()\n",
    "stream_notes"
   ]
  },
  {
   "cell_type": "code",
   "execution_count": 7,
   "metadata": {
    "ExecuteTime": {
     "end_time": "2019-12-22T04:44:05.853341Z",
     "start_time": "2019-12-22T04:44:05.847364Z"
    }
   },
   "outputs": [
    {
     "data": {
      "text/plain": [
       "['eighth', '16th', '16th', 'half', 'eighth', '16th', '16th']"
      ]
     },
     "execution_count": 7,
     "metadata": {},
     "output_type": "execute_result"
    }
   ],
   "source": [
    "stream_types = measures[1].get_notetypes()\n",
    "stream_types"
   ]
  },
  {
   "cell_type": "code",
   "execution_count": 9,
   "metadata": {
    "ExecuteTime": {
     "end_time": "2019-12-22T04:44:27.247863Z",
     "start_time": "2019-12-22T04:44:25.320135Z"
    }
   },
   "outputs": [],
   "source": [
    "from music21 import *\n",
    "\n",
    "s1 = stream.Stream()\n",
    "for n,t in zip(stream_notes,stream_types):\n",
    "    s1.append(note.Note(n,type=t))\n",
    "s1.show('lily.png')"
   ]
  }
 ],
 "metadata": {
  "kernelspec": {
   "display_name": "Python 3",
   "language": "python",
   "name": "python3"
  },
  "language_info": {
   "codemirror_mode": {
    "name": "ipython",
    "version": 3
   },
   "file_extension": ".py",
   "mimetype": "text/x-python",
   "name": "python",
   "nbconvert_exporter": "python",
   "pygments_lexer": "ipython3",
   "version": "3.7.0"
  },
  "varInspector": {
   "cols": {
    "lenName": 16,
    "lenType": 16,
    "lenVar": 40
   },
   "kernels_config": {
    "python": {
     "delete_cmd_postfix": "",
     "delete_cmd_prefix": "del ",
     "library": "var_list.py",
     "varRefreshCmd": "print(var_dic_list())"
    },
    "r": {
     "delete_cmd_postfix": ") ",
     "delete_cmd_prefix": "rm(",
     "library": "var_list.r",
     "varRefreshCmd": "cat(var_dic_list()) "
    }
   },
   "types_to_exclude": [
    "module",
    "function",
    "builtin_function_or_method",
    "instance",
    "_Feature"
   ],
   "window_display": false
  }
 },
 "nbformat": 4,
 "nbformat_minor": 2
}
