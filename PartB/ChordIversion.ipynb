{
 "cells": [
  {
   "cell_type": "markdown",
   "metadata": {},
   "source": [
    "# 0. Read XML and get measures to invert chords"
   ]
  },
  {
   "cell_type": "markdown",
   "metadata": {},
   "source": [
    "### A. Parse tree"
   ]
  },
  {
   "cell_type": "code",
   "execution_count": 1,
   "metadata": {
    "ExecuteTime": {
     "end_time": "2019-12-22T02:11:21.729278Z",
     "start_time": "2019-12-22T02:11:21.711281Z"
    }
   },
   "outputs": [],
   "source": [
    "import xml.etree.cElementTree as ET\n",
    "\n",
    "filename = \"../../XMLs/至少還有你_主旋律.musicxml\"\n",
    "tree = ET.parse(filename)\n"
   ]
  },
  {
   "cell_type": "code",
   "execution_count": 2,
   "metadata": {
    "ExecuteTime": {
     "end_time": "2019-12-22T02:11:21.972240Z",
     "start_time": "2019-12-22T02:11:21.964242Z"
    }
   },
   "outputs": [
    {
     "data": {
      "text/plain": [
       "('score-partwise', {'version': '3.1'})"
      ]
     },
     "execution_count": 2,
     "metadata": {},
     "output_type": "execute_result"
    }
   ],
   "source": [
    "root = tree.getroot()\n",
    "root.tag, root.attrib"
   ]
  },
  {
   "cell_type": "code",
   "execution_count": 3,
   "metadata": {
    "ExecuteTime": {
     "end_time": "2019-12-22T02:11:22.106218Z",
     "start_time": "2019-12-22T02:11:21.977240Z"
    }
   },
   "outputs": [],
   "source": [
    "all_notes = root.findall('.//note')"
   ]
  },
  {
   "cell_type": "markdown",
   "metadata": {},
   "source": [
    "### B. Read measures"
   ]
  },
  {
   "cell_type": "code",
   "execution_count": 4,
   "metadata": {
    "ExecuteTime": {
     "end_time": "2019-12-22T02:11:22.221200Z",
     "start_time": "2019-12-22T02:11:22.110218Z"
    }
   },
   "outputs": [],
   "source": [
    "from mxlParsing import *\n",
    "\n",
    "xml_measures = root.findall('.//measure')\n",
    "measures = []\n",
    "\n",
    "for xml_measure in xml_measures:\n",
    "    measure = Measure(get_meas_notes_xml(xml_measure))\n",
    "    if not measure.get_sos()==['0']:\n",
    "        measures.append(measure)"
   ]
  },
  {
   "cell_type": "code",
   "execution_count": 5,
   "metadata": {
    "ExecuteTime": {
     "end_time": "2019-12-22T02:11:22.347180Z",
     "start_time": "2019-12-22T02:11:22.225199Z"
    }
   },
   "outputs": [
    {
     "name": "stdout",
     "output_type": "stream",
     "text": [
      "Note: rest / half\n",
      "Note: rest / quarter\n",
      "Note: rest / eighth\n",
      "Note: G4 / 16th / None\n",
      "Note: G4 / 16th / None\n",
      "Note: F4 / eighth / None\n",
      "Note: A4 / 16th / None\n",
      "Note: D5 / 16th / start\n",
      "Note: D5 / half / stop\n",
      "Note: D5 / eighth / stop\n",
      "Note: A4 / 16th / None\n",
      "Note: A4 / 16th / None\n",
      "Note: D5 / eighth / None\n",
      "Note: A4 / 16th / None\n",
      "Note: B4 / 16th / start\n",
      "Note: B4 / half / stop\n",
      "Note: B4 / eighth / stop\n",
      "Note: G4 / 16th / None\n",
      "Note: G4 / 16th / None\n",
      "Note: F4 / eighth / None\n",
      "Note: A4 / eighth / None\n",
      "Note: D5 / eighth / None\n",
      "Note: E5 / 16th / None\n",
      "Note: E5 / 16th / start\n",
      "Note: E5 / 16th / stop\n",
      "Note: D5 / eighth / None\n",
      "Note: rest / eighth\n",
      "Note: D5 / 16th / None\n",
      "Note: E5 / 16th / None\n",
      "Note: F5 / eighth / None\n",
      "Note: C5 / 16th / None\n",
      "Note: C5 / 16th / start\n",
      "Note: C5 / eighth / stop\n",
      "Note: B4 / eighth / None\n",
      "Note: C5 / quarter / None\n",
      "Note: A4 / 16th / None\n",
      "Note: A4 / 16th / None\n",
      "Note: B4 / eighth / None\n",
      "Note: D5 / eighth / None\n",
      "Note: D5 / eighth / None\n",
      "Note: B4 / 16th / None\n",
      "Note: E5 / 16th / start\n",
      "Note: E5 / 16th / stop\n",
      "Note: D5 / eighth / start\n",
      "Note: D5 / quarter / stop\n",
      "Note: A4 / eighth / None\n",
      "Note: A4 / eighth / None\n",
      "Note: F5 / eighth / None\n",
      "Note: G5 / 16th / None\n",
      "Note: G5 / 16th / start\n",
      "Note: G5 / eighth / stop\n",
      "Note: F5 / quarter / None\n",
      "Note: F5 / eighth / None\n",
      "Note: B4 / 16th / None\n",
      "Note: D5 / 16th / start\n",
      "Note: D5 / half / stop\n",
      "Note: Bb4 / 16th / None\n",
      "Note: B4 / eighth / None\n",
      "Note: A4 / half / None\n",
      "Note: rest / eighth\n",
      "Note: G4 / 16th / None\n",
      "Note: G4 / 16th / None\n",
      "Note: F4 / eighth / None\n",
      "Note: A4 / 16th / None\n",
      "Note: D5 / 16th / start\n",
      "Note: D5 / half / stop\n",
      "Note: D5 / eighth / stop\n",
      "Note: A4 / 16th / None\n",
      "Note: A4 / 16th / None\n",
      "Note: D5 / eighth / None\n",
      "Note: A4 / 16th / None\n",
      "Note: B4 / 16th / start\n",
      "Note: B4 / half / stop\n",
      "Note: B4 / eighth / stop\n",
      "Note: G4 / 16th / None\n",
      "Note: G4 / 16th / None\n",
      "Note: F4 / eighth / None\n",
      "Note: A4 / 16th / None\n",
      "Note: D5 / 16th / start\n",
      "Note: D5 / eighth / stop\n",
      "Note: E5 / 16th / None\n",
      "Note: E5 / 16th / start\n",
      "Note: E5 / 16th / stop\n",
      "Note: D5 / eighth / None\n",
      "Note: rest / eighth\n",
      "Note: D5 / 16th / None\n",
      "Note: E5 / 16th / None\n",
      "Note: F5 / eighth / None\n",
      "Note: C5 / 16th / None\n",
      "Note: C5 / 16th / start\n",
      "Note: C5 / eighth / stop\n",
      "Note: D5 / eighth / None\n",
      "Note: C5 / quarter / None\n",
      "Note: A4 / 16th / None\n",
      "Note: A4 / 16th / None\n",
      "Note: B4 / eighth / None\n",
      "Note: D5 / eighth / None\n",
      "Note: D5 / eighth / None\n",
      "Note: B4 / 16th / None\n",
      "Note: E5 / 16th / start\n",
      "Note: E5 / 16th / stop\n",
      "Note: D5 / eighth / start\n",
      "Note: D5 / quarter / stop\n",
      "Note: A4 / eighth / None\n",
      "Note: A4 / eighth / None\n",
      "Note: F5 / eighth / None\n",
      "Note: G5 / 16th / None\n",
      "Note: G5 / 16th / start\n",
      "Note: G5 / eighth / stop\n",
      "Note: F5 / quarter / None\n",
      "Note: F5 / eighth / None\n",
      "Note: B4 / 16th / None\n",
      "Note: D5 / 16th / start\n",
      "Note: D5 / quarter / stop\n",
      "Note: rest / eighth\n",
      "Note: A4 / 16th / None\n",
      "Note: B4 / eighth / None\n",
      "Note: D5 / eighth / None\n",
      "Note: D5 / half / None\n",
      "Note: D5 / quarter / None\n",
      "Note: E5 / quarter / None\n",
      "Note: F5 / eighth / None\n",
      "Note: F5 / eighth / None\n",
      "Note: F5 / eighth / None\n",
      "Note: F5 / 16th / None\n",
      "Note: E5 / 16th / None\n",
      "Note: F5 / 16th / None\n",
      "Note: F5 / 16th / None\n",
      "Note: A5 / eighth / None\n",
      "Note: A5 / eighth / None\n",
      "Note: A4 / 16th / None\n",
      "Note: A4 / 16th / None\n",
      "Note: F5 / eighth / None\n",
      "Note: E5 / 16th / None\n",
      "Note: E5 / 16th / start\n",
      "Note: E5 / eighth / stop\n",
      "Note: E5 / 16th / None\n",
      "Note: D5 / 16th / None\n",
      "Note: E5 / 16th / None\n",
      "Note: E5 / 16th / None\n",
      "Note: A5 / eighth / None\n",
      "Note: A5 / eighth / None\n",
      "Note: A4 / 16th / None\n",
      "Note: A4 / 16th / None\n",
      "Note: E5 / eighth / None\n",
      "Note: D5 / 16th / None\n",
      "Note: D5 / 16th / start\n",
      "Note: D5 / eighth / stop\n",
      "Note: A4 / 16th / None\n",
      "Note: A4 / 16th / None\n",
      "Note: F*5 / 16th / None\n",
      "Note: E5 / eighth / None\n",
      "Note: E5 / eighth / None\n",
      "Note: Bb4 / 16th / None\n",
      "Note: A4 / 16th / start\n",
      "Note: A4 / half / stop\n",
      "Note: D5 / quarter / None\n",
      "Note: E5 / quarter / None\n",
      "Note: F5 / eighth / None\n",
      "Note: F5 / eighth / None\n",
      "Note: F5 / eighth / None\n",
      "Note: F5 / 16th / None\n",
      "Note: E5 / 16th / None\n",
      "Note: F5 / 16th / None\n",
      "Note: F5 / 16th / None\n",
      "Note: A5 / eighth / None\n",
      "Note: A5 / eighth / None\n",
      "Note: A4 / 16th / None\n",
      "Note: A4 / 16th / None\n",
      "Note: F5 / eighth / None\n",
      "Note: E5 / 16th / None\n",
      "Note: E5 / 16th / start\n",
      "Note: E5 / eighth / stop\n",
      "Note: E5 / 16th / None\n",
      "Note: D5 / 16th / None\n",
      "Note: E5 / 16th / None\n",
      "Note: E5 / 16th / None\n",
      "Note: A5 / eighth / None\n",
      "Note: A5 / eighth / None\n",
      "Note: A4 / 16th / None\n",
      "Note: A4 / 16th / None\n",
      "Note: E5 / eighth / None\n",
      "Note: D5 / 16th / None\n",
      "Note: D5 / 16th / start\n",
      "Note: D5 / eighth / stop\n",
      "Note: A4 / 16th / None\n",
      "Note: A4 / 16th / None\n",
      "Note: F*5 / 16th / None\n",
      "Note: E5 / eighth / None\n",
      "Note: E5 / eighth / None\n",
      "Note: D5 / 16th / None\n",
      "Note: D5 / 16th / start\n",
      "Note: D5 / half / stop\n",
      "Note: rest / quarter\n"
     ]
    }
   ],
   "source": [
    "for measure in measures:\n",
    "    measure.printMeasure()"
   ]
  },
  {
   "cell_type": "markdown",
   "metadata": {},
   "source": [
    "# 1. Explore Music21"
   ]
  },
  {
   "cell_type": "code",
   "execution_count": 6,
   "metadata": {
    "ExecuteTime": {
     "end_time": "2019-12-22T02:11:22.482158Z",
     "start_time": "2019-12-22T02:11:22.356178Z"
    }
   },
   "outputs": [
    {
     "name": "stderr",
     "output_type": "stream",
     "text": [
      "music21: Certain music21 functions might need the optional package scipy;\n",
      "                  if you run into errors, install it by following the instructions at\n",
      "                  http://mit.edu/music21/doc/installing/installAdditional.html\n"
     ]
    }
   ],
   "source": [
    "from music21 import *\n",
    "import copy\n"
   ]
  },
  {
   "cell_type": "code",
   "execution_count": 7,
   "metadata": {
    "ExecuteTime": {
     "end_time": "2019-12-22T02:11:22.620160Z",
     "start_time": "2019-12-22T02:11:22.487159Z"
    }
   },
   "outputs": [
    {
     "data": {
      "text/plain": [
       "['M-3', 'P1', 'A4']"
      ]
     },
     "execution_count": 7,
     "metadata": {},
     "output_type": "execute_result"
    }
   ],
   "source": [
    "import copy\n",
    "\n",
    "it = ['M-3','P1','A4']\n",
    "it"
   ]
  },
  {
   "cell_type": "code",
   "execution_count": 8,
   "metadata": {
    "ExecuteTime": {
     "end_time": "2019-12-22T02:11:22.763138Z",
     "start_time": "2019-12-22T02:11:22.622162Z"
    }
   },
   "outputs": [
    {
     "name": "stdout",
     "output_type": "stream",
     "text": [
      "M-3\n",
      "P1\n",
      "A4\n"
     ]
    },
    {
     "data": {
      "text/plain": [
       "[<music21.pitch.Pitch D-4>, <music21.pitch.Pitch F4>, <music21.pitch.Pitch B4>]"
      ]
     },
     "execution_count": 8,
     "metadata": {},
     "output_type": "execute_result"
    }
   ],
   "source": [
    "p = pitch.Pitch('F4')\n",
    "cList = []\n",
    "\n",
    "for i in it:\n",
    "    print(i)\n",
    "    pNew = p.transpose(i, inPlace=False)\n",
    "    cList.append(pNew)\n",
    "\n",
    "cList"
   ]
  },
  {
   "cell_type": "code",
   "execution_count": 10,
   "metadata": {
    "ExecuteTime": {
     "end_time": "2019-12-22T02:17:22.470192Z",
     "start_time": "2019-12-22T02:17:20.318535Z"
    }
   },
   "outputs": [
    {
     "data": {
      "image/png": "[encoded data removed]",
      "text/plain": [
       "<IPython.core.display.Image object>"
      ]
     },
     "metadata": {
      "image/png": {
       "height": 49,
       "width": 143
      }
     },
     "output_type": "display_data"
    }
   ],
   "source": [
    "%matplotlib inline\n",
    "import os\n",
    "\n",
    "#Ubuntu\n",
    "environment.set(\"musicxmlPath\", \"/usr/bin/musescore\")\n",
    "environment.set(\"musescoreDirectPNGPath\", \"/usr/bin/musescore\")\n",
    "\n",
    "#Windows\n",
    "#environment.set(\"musicxmlPath\", \"C:/Program Files/MuseScore 3/bin/MuseScore3.exe\")\n",
    "#environment.set(\"musescoreDirectPNGPath\", \"C:/Program Files/MuseScore 3/bin/MuseScore3.exe\")\n",
    "#environment.set(\"lilypondPath\", \"C:/Program Files (x86)/LilyPond/usr/bin/lilypond.exe\")\n",
    "\n",
    "chord1 = chord.Chord(cList)\n",
    "chord1.show()"
   ]
  },
  {
   "cell_type": "code",
   "execution_count": 11,
   "metadata": {
    "ExecuteTime": {
     "end_time": "2019-12-22T02:17:22.614171Z",
     "start_time": "2019-12-22T02:17:22.570177Z"
    }
   },
   "outputs": [],
   "source": [
    "chord1.inversion(0)"
   ]
  },
  {
   "cell_type": "code",
   "execution_count": 14,
   "metadata": {
    "ExecuteTime": {
     "end_time": "2019-12-22T02:17:25.228757Z",
     "start_time": "2019-12-22T02:17:22.740150Z"
    }
   },
   "outputs": [
    {
     "data": {
      "image/png": "[encoded data removed]",
      "text/plain": [
       "<IPython.core.display.Image object>"
      ]
     },
     "metadata": {
      "image/png": {
       "height": 49,
       "width": 143
      }
     },
     "output_type": "display_data"
    }
   ],
   "source": [
    "chord1.show()"
   ]
  },
  {
   "cell_type": "code",
   "execution_count": 18,
   "metadata": {
    "ExecuteTime": {
     "end_time": "2019-12-22T02:31:29.175324Z",
     "start_time": "2019-12-22T02:31:27.242631Z"
    }
   },
   "outputs": [
    {
     "data": {
      "image/png": "[encoded data removed]",
      "text/plain": [
       "<IPython.core.display.Image object>"
      ]
     },
     "metadata": {
      "image/png": {
       "height": 49,
       "width": 137
      }
     },
     "output_type": "display_data"
    }
   ],
   "source": [
    "n = note.Note('G4')\n",
    "n.show()\n",
    "aInterval = interval.Interval(-24)"
   ]
  },
  {
   "cell_type": "code",
   "execution_count": 19,
   "metadata": {
    "ExecuteTime": {
     "end_time": "2019-12-22T02:31:31.815906Z",
     "start_time": "2019-12-22T02:31:29.287307Z"
    }
   },
   "outputs": [
    {
     "data": {
      "image/png": "[encoded data removed]",
      "text/plain": [
       "<IPython.core.display.Image object>"
      ]
     },
     "metadata": {
      "image/png": {
       "height": 35,
       "width": 138
      }
     },
     "output_type": "display_data"
    }
   ],
   "source": [
    "b = n.transpose(aInterval)\n",
    "b.show()"
   ]
  },
  {
   "cell_type": "markdown",
   "metadata": {},
   "source": [
    "# 2. Try Inversion "
   ]
  },
  {
   "cell_type": "markdown",
   "metadata": {},
   "source": [
    "# 3. Read with Music21"
   ]
  },
  {
   "cell_type": "code",
   "execution_count": 20,
   "metadata": {
    "ExecuteTime": {
     "end_time": "2019-12-22T05:03:08.966904Z",
     "start_time": "2019-12-22T05:03:08.939911Z"
    }
   },
   "outputs": [],
   "source": [
    "import xml.etree.cElementTree as ET\n",
    "\n",
    "filename = \"../../XMLs/至少還有你_主旋律.musicxml\"\n",
    "tree = ET.parse(filename)\n",
    "root = tree.getroot()\n",
    "root.tag, root.attrib\n",
    "all_notes = root.findall('.//note')\n",
    "xml_measures = root.findall('.//measure')\n"
   ]
  },
  {
   "cell_type": "code",
   "execution_count": 21,
   "metadata": {
    "ExecuteTime": {
     "end_time": "2019-12-22T05:03:09.204865Z",
     "start_time": "2019-12-22T05:03:09.142877Z"
    }
   },
   "outputs": [],
   "source": [
    "from mxlParsing import *\n",
    "\n",
    "measures = []\n",
    "\n",
    "for xml_measure in xml_measures:\n",
    "    measure = Measure(get_meas_notes_xml(xml_measure))\n",
    "    if not measure.get_sos()==['0']:\n",
    "        measures.append(measure)"
   ]
  },
  {
   "cell_type": "markdown",
   "metadata": {},
   "source": [
    "# 5. Create stream"
   ]
  },
  {
   "cell_type": "code",
   "execution_count": 22,
   "metadata": {
    "ExecuteTime": {
     "end_time": "2019-12-22T04:44:05.475943Z",
     "start_time": "2019-12-22T04:44:05.465947Z"
    }
   },
   "outputs": [
    {
     "data": {
      "text/plain": [
       "['F4', 'A4', 'D5', 'D5', 'D5', 'A4', 'A4']"
      ]
     },
     "execution_count": 22,
     "metadata": {},
     "output_type": "execute_result"
    }
   ],
   "source": [
    "stream_notes = measures[1].get_sos()\n",
    "stream_notes"
   ]
  },
  {
   "cell_type": "code",
   "execution_count": 23,
   "metadata": {
    "ExecuteTime": {
     "end_time": "2019-12-22T04:44:05.853341Z",
     "start_time": "2019-12-22T04:44:05.847364Z"
    }
   },
   "outputs": [
    {
     "data": {
      "text/plain": [
       "['eighth', '16th', '16th', 'half', 'eighth', '16th', '16th']"
      ]
     },
     "execution_count": 23,
     "metadata": {},
     "output_type": "execute_result"
    }
   ],
   "source": [
    "stream_types = measures[1].get_notetypes()\n",
    "stream_types"
   ]
  },
  {
   "cell_type": "code",
   "execution_count": 25,
   "metadata": {
    "ExecuteTime": {
     "end_time": "2019-12-22T04:44:27.247863Z",
     "start_time": "2019-12-22T04:44:25.320135Z"
    }
   },
   "outputs": [
    {
     "data": {
      "image/png": "[encoded data removed]",
      "text/plain": [
       "<IPython.core.display.Image object>"
      ]
     },
     "metadata": {
      "image/png": {
       "height": 57,
       "width": 280
      }
     },
     "output_type": "display_data"
    }
   ],
   "source": [
    "from music21 import *\n",
    "\n",
    "s1 = stream.Stream()\n",
    "for n,t in zip(stream_notes,stream_types):\n",
    "    s1.append(note.Note(n,type=t))\n",
    "s1.show()"
   ]
  },
  {
   "cell_type": "code",
   "execution_count": 27,
   "metadata": {},
   "outputs": [
    {
     "data": {
      "image/png": "[encoded data removed]",
      "text/plain": [
       "<IPython.core.display.Image object>"
      ]
     },
     "metadata": {
      "image/png": {
       "height": 50,
       "width": 281
      }
     },
     "output_type": "display_data"
    }
   ],
   "source": [
    "m2_inv = get_inverted_measure(measures[1])\n",
    "m2_notes = m2_inv.get_sos()\n",
    "m2_types = m2_inv.get_notetypes()\n",
    "s2 = stream.Stream()\n",
    "for n,t in zip(m2_notes,m2_types):\n",
    "    s2.append(note.Note(n,type=t))\n",
    "s2.show()\n"
   ]
  },
  {
   "cell_type": "code",
   "execution_count": null,
   "metadata": {},
   "outputs": [],
   "source": []
  },
  {
   "cell_type": "code",
   "execution_count": null,
   "metadata": {},
   "outputs": [],
   "source": []
  }
 ],
 "metadata": {
  "kernelspec": {
   "display_name": "Python 3",
   "language": "python",
   "name": "python3"
  },
  "language_info": {
   "codemirror_mode": {
    "name": "ipython",
    "version": 3
   },
   "file_extension": ".py",
   "mimetype": "text/x-python",
   "name": "python",
   "nbconvert_exporter": "python",
   "pygments_lexer": "ipython3",
   "version": "3.6.8"
  },
  "varInspector": {
   "cols": {
    "lenName": 16,
    "lenType": 16,
    "lenVar": 40
   },
   "kernels_config": {
    "python": {
     "delete_cmd_postfix": "",
     "delete_cmd_prefix": "del ",
     "library": "var_list.py",
     "varRefreshCmd": "print(var_dic_list())"
    },
    "r": {
     "delete_cmd_postfix": ") ",
     "delete_cmd_prefix": "rm(",
     "library": "var_list.r",
     "varRefreshCmd": "cat(var_dic_list()) "
    }
   },
   "types_to_exclude": [
    "module",
    "function",
    "builtin_function_or_method",
    "instance",
    "_Feature"
   ],
   "window_display": false
  }
 },
 "nbformat": 4,
 "nbformat_minor": 2
}
