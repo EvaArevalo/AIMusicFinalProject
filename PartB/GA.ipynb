{
 "cells": [
  {
   "cell_type": "markdown",
   "metadata": {
    "ExecuteTime": {
     "end_time": "2019-12-29T10:27:34.469244Z",
     "start_time": "2019-12-29T10:27:34.464245Z"
    }
   },
   "source": [
    "# 0. Read score"
   ]
  },
  {
   "cell_type": "code",
   "execution_count": 1,
   "metadata": {
    "ExecuteTime": {
     "end_time": "2019-12-29T11:45:52.479523Z",
     "start_time": "2019-12-29T11:45:51.594496Z"
    }
   },
   "outputs": [],
   "source": [
    "from mxlParsing import *\n",
    "\n",
    "filename = \"../../XMLs/至少還有你_主旋律.musicxml\"\n",
    "scoreOriginal = xmlToScore(filename)"
   ]
  },
  {
   "cell_type": "code",
   "execution_count": 4,
   "metadata": {
    "ExecuteTime": {
     "end_time": "2019-12-29T11:46:05.139555Z",
     "start_time": "2019-12-29T11:45:59.813428Z"
    }
   },
   "outputs": [],
   "source": [
    "#show\n",
    "#make parts\n",
    "m21Part_main = measures_to_m21Part(scoreOriginal.measures)\n",
    "\n",
    "#build\n",
    "score = build_m21Score_1p(m21Part_main,'title',scoreOriginal.ts)\n",
    "score.show('lily.png')"
   ]
  },
  {
   "cell_type": "markdown",
   "metadata": {},
   "source": [
    "# 1. Run GA"
   ]
  },
  {
   "cell_type": "code",
   "execution_count": 5,
   "metadata": {
    "ExecuteTime": {
     "end_time": "2019-12-29T11:46:12.274265Z",
     "start_time": "2019-12-29T11:46:05.406513Z"
    }
   },
   "outputs": [],
   "source": [
    "from GAComposition import *\n",
    "\n",
    "GAAlg = GAComposition(scoreOriginal)\n",
    "GAAlg.evolve(5)\n",
    "top3 = GAAlg.getTop3()"
   ]
  },
  {
   "cell_type": "code",
   "execution_count": 3,
   "metadata": {
    "ExecuteTime": {
     "end_time": "2019-12-29T11:45:59.510475Z",
     "start_time": "2019-12-29T11:45:59.490479Z"
    }
   },
   "outputs": [
    {
     "data": {
      "text/plain": [
       "100"
      ]
     },
     "execution_count": 3,
     "metadata": {},
     "output_type": "execute_result"
    }
   ],
   "source": [
    "len(GAAlg.scorePop)"
   ]
  },
  {
   "cell_type": "code",
   "execution_count": 6,
   "metadata": {
    "ExecuteTime": {
     "end_time": "2019-12-29T11:46:41.976882Z",
     "start_time": "2019-12-29T11:46:36.832694Z"
    }
   },
   "outputs": [],
   "source": [
    "m21Part_main = measures_to_m21Part(top3[1].measures)\n",
    "\n",
    "#build\n",
    "score_GA = build_m21Score_1p(m21Part_main,'title',scoreOriginal.ts)\n",
    "score_GA.show('lily.png')"
   ]
  },
  {
   "cell_type": "code",
   "execution_count": 8,
   "metadata": {
    "ExecuteTime": {
     "end_time": "2019-12-29T11:47:02.754441Z",
     "start_time": "2019-12-29T11:47:02.591469Z"
    }
   },
   "outputs": [
    {
     "data": {
      "text/html": [
       "\n",
       "                <div id='midiPlayerDiv1820'></div>\n",
       "                <link rel=\"stylesheet\" href=\"//cuthbertLab.github.io/music21j/css/m21.css\"\n",
       "                    type=\"text/css\" />\n",
       "                <script>\n",
       "                require.config({\n",
       "                    paths: {'music21': '//cuthbertLab.github.io/music21j/src/music21'}\n",
       "                });\n",
       "                require(['music21'], function() {\n",
       "                               mp = new music21.miditools.MidiPlayer();\n",
       "                               mp.addPlayer('#midiPlayerDiv1820');\n",
       "                               mp.base64Load('data:audio/midi;base64,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');\n",
       "                        });\n",
       "                </script>"
      ],
      "text/plain": [
       "<IPython.core.display.HTML object>"
      ]
     },
     "metadata": {},
     "output_type": "display_data"
    }
   ],
   "source": [
    "score_GA.show('midi')"
   ]
  },
  {
   "cell_type": "code",
   "execution_count": null,
   "metadata": {},
   "outputs": [],
   "source": []
  }
 ],
 "metadata": {
  "kernelspec": {
   "display_name": "Python 3",
   "language": "python",
   "name": "python3"
  },
  "varInspector": {
   "cols": {
    "lenName": 16,
    "lenType": 16,
    "lenVar": 40
   },
   "kernels_config": {
    "python": {
     "delete_cmd_postfix": "",
     "delete_cmd_prefix": "del ",
     "library": "var_list.py",
     "varRefreshCmd": "print(var_dic_list())"
    },
    "r": {
     "delete_cmd_postfix": ") ",
     "delete_cmd_prefix": "rm(",
     "library": "var_list.r",
     "varRefreshCmd": "cat(var_dic_list()) "
    }
   },
   "types_to_exclude": [
    "module",
    "function",
    "builtin_function_or_method",
    "instance",
    "_Feature"
   ],
   "window_display": false
  }
 },
 "nbformat": 4,
 "nbformat_minor": 2
}
