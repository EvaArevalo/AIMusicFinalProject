{
 "cells": [
  {
   "cell_type": "markdown",
   "metadata": {
    "ExecuteTime": {
     "end_time": "2019-12-29T10:27:34.469244Z",
     "start_time": "2019-12-29T10:27:34.464245Z"
    }
   },
   "source": [
    "# 0. Read score"
   ]
  },
  {
   "cell_type": "code",
   "execution_count": 2,
   "metadata": {
    "ExecuteTime": {
     "end_time": "2019-12-29T10:34:22.779991Z",
     "start_time": "2019-12-29T10:34:22.746995Z"
    }
   },
   "outputs": [],
   "source": [
    "from mxlParsing import *\n",
    "\n",
    "filename = \"../../XMLs/至少還有你_主旋律.musicxml\"\n",
    "scoreOriginal = xmlToScore(filename)"
   ]
  },
  {
   "cell_type": "code",
   "execution_count": 3,
   "metadata": {
    "ExecuteTime": {
     "end_time": "2019-12-29T10:34:27.871185Z",
     "start_time": "2019-12-29T10:34:23.046947Z"
    }
   },
   "outputs": [],
   "source": [
    "#show\n",
    "#make parts\n",
    "m21Part_main = measures_to_m21Part(scoreOriginal.measures)\n",
    "\n",
    "#build\n",
    "score = build_m21Score_1p(m21Part_main,'title',scoreOriginal.ts)\n",
    "score.show('lily.png')"
   ]
  },
  {
   "cell_type": "markdown",
   "metadata": {},
   "source": [
    "# 1. Run GA"
   ]
  },
  {
   "cell_type": "code",
   "execution_count": null,
   "metadata": {},
   "outputs": [],
   "source": [
    "from GAComposition import *\n",
    "\n",
    "GAAlg = GAComposition(scoreOriginal)\n",
    "GAAlg.evolve(100)\n",
    "top3 = GAAlg.return"
   ]
  }
 ],
 "metadata": {
  "kernelspec": {
   "display_name": "Python 3",
   "language": "python",
   "name": "python3"
  },
  "varInspector": {
   "cols": {
    "lenName": 16,
    "lenType": 16,
    "lenVar": 40
   },
   "kernels_config": {
    "python": {
     "delete_cmd_postfix": "",
     "delete_cmd_prefix": "del ",
     "library": "var_list.py",
     "varRefreshCmd": "print(var_dic_list())"
    },
    "r": {
     "delete_cmd_postfix": ") ",
     "delete_cmd_prefix": "rm(",
     "library": "var_list.r",
     "varRefreshCmd": "cat(var_dic_list()) "
    }
   },
   "types_to_exclude": [
    "module",
    "function",
    "builtin_function_or_method",
    "instance",
    "_Feature"
   ],
   "window_display": false
  }
 },
 "nbformat": 4,
 "nbformat_minor": 2
}
