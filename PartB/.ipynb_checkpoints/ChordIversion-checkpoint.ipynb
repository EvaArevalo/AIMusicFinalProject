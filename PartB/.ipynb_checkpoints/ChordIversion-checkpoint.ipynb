{
 "cells": [
  {
   "cell_type": "markdown",
   "metadata": {},
   "source": [
    "# 0. Read XML and get measures to invert chords"
   ]
  },
  {
   "cell_type": "markdown",
   "metadata": {},
   "source": [
    "### A. Parse tree"
   ]
  },
  {
   "cell_type": "code",
   "execution_count": 1,
   "metadata": {},
   "outputs": [],
   "source": [
    "import xml.etree.cElementTree as ET\n",
    "\n",
    "filename = \"../../XMLs/至少還有你_主旋律.musicxml\"\n",
    "tree = ET.parse(filename)"
   ]
  },
  {
   "cell_type": "code",
   "execution_count": 2,
   "metadata": {},
   "outputs": [
    {
     "data": {
      "text/plain": [
       "('score-partwise', {'version': '3.1'})"
      ]
     },
     "execution_count": 2,
     "metadata": {},
     "output_type": "execute_result"
    }
   ],
   "source": [
    "root = tree.getroot()\n",
    "root.tag, root.attrib"
   ]
  },
  {
   "cell_type": "code",
   "execution_count": 3,
   "metadata": {},
   "outputs": [],
   "source": [
    "all_notes = root.findall('.//note')"
   ]
  },
  {
   "cell_type": "markdown",
   "metadata": {},
   "source": [
    "### B. Read measures"
   ]
  },
  {
   "cell_type": "code",
   "execution_count": 4,
   "metadata": {},
   "outputs": [],
   "source": [
    "from mxlParsing import *\n",
    "\n",
    "xml_measures = root.findall('.//measure')\n",
    "measures = []\n",
    "\n",
    "for xml_measure in xml_measures:\n",
    "    measure = Measure(get_meas_notes_xml(xml_measure))\n",
    "    if not measure.get_sos()==['0']:\n",
    "        measures.append(measure)"
   ]
  },
  {
   "cell_type": "code",
   "execution_count": 5,
   "metadata": {},
   "outputs": [
    {
     "name": "stdout",
     "output_type": "stream",
     "text": [
      "Note: rest / half\n",
      "Note: rest / quarter\n",
      "Note: rest / eighth\n",
      "Note: G4 / 16th / None\n",
      "Note: G4 / 16th / None\n",
      "Note: F4 / eighth / None\n",
      "Note: A4 / 16th / None\n",
      "Note: D5 / 16th / start\n",
      "Note: D5 / half / stop\n",
      "Note: D5 / eighth / stop\n",
      "Note: A4 / 16th / None\n",
      "Note: A4 / 16th / None\n",
      "Note: D5 / eighth / None\n",
      "Note: A4 / 16th / None\n",
      "Note: B4 / 16th / start\n",
      "Note: B4 / half / stop\n",
      "Note: B4 / eighth / stop\n",
      "Note: G4 / 16th / None\n",
      "Note: G4 / 16th / None\n",
      "Note: F4 / eighth / None\n",
      "Note: A4 / eighth / None\n",
      "Note: D5 / eighth / None\n",
      "Note: E5 / 16th / None\n",
      "Note: E5 / 16th / start\n",
      "Note: E5 / 16th / stop\n",
      "Note: D5 / eighth / None\n",
      "Note: rest / eighth\n",
      "Note: D5 / 16th / None\n",
      "Note: E5 / 16th / None\n",
      "Note: F5 / eighth / None\n",
      "Note: C5 / 16th / None\n",
      "Note: C5 / 16th / start\n",
      "Note: C5 / eighth / stop\n",
      "Note: B4 / eighth / None\n",
      "Note: C5 / quarter / None\n",
      "Note: A4 / 16th / None\n",
      "Note: A4 / 16th / None\n",
      "Note: B4 / eighth / None\n",
      "Note: D5 / eighth / None\n",
      "Note: D5 / eighth / None\n",
      "Note: B4 / 16th / None\n",
      "Note: E5 / 16th / start\n",
      "Note: E5 / 16th / stop\n",
      "Note: D5 / eighth / start\n",
      "Note: D5 / quarter / stop\n",
      "Note: A4 / eighth / None\n",
      "Note: A4 / eighth / None\n",
      "Note: F5 / eighth / None\n",
      "Note: G5 / 16th / None\n",
      "Note: G5 / 16th / start\n",
      "Note: G5 / eighth / stop\n",
      "Note: F5 / quarter / None\n",
      "Note: F5 / eighth / None\n",
      "Note: B4 / 16th / None\n",
      "Note: D5 / 16th / start\n",
      "Note: D5 / half / stop\n",
      "Note: Bb4 / 16th / None\n",
      "Note: B4 / eighth / None\n",
      "Note: A4 / half / None\n",
      "Note: rest / eighth\n",
      "Note: G4 / 16th / None\n",
      "Note: G4 / 16th / None\n",
      "Note: F4 / eighth / None\n",
      "Note: A4 / 16th / None\n",
      "Note: D5 / 16th / start\n",
      "Note: D5 / half / stop\n",
      "Note: D5 / eighth / stop\n",
      "Note: A4 / 16th / None\n",
      "Note: A4 / 16th / None\n",
      "Note: D5 / eighth / None\n",
      "Note: A4 / 16th / None\n",
      "Note: B4 / 16th / start\n",
      "Note: B4 / half / stop\n",
      "Note: B4 / eighth / stop\n",
      "Note: G4 / 16th / None\n",
      "Note: G4 / 16th / None\n",
      "Note: F4 / eighth / None\n",
      "Note: A4 / 16th / None\n",
      "Note: D5 / 16th / start\n",
      "Note: D5 / eighth / stop\n",
      "Note: E5 / 16th / None\n",
      "Note: E5 / 16th / start\n",
      "Note: E5 / 16th / stop\n",
      "Note: D5 / eighth / None\n",
      "Note: rest / eighth\n",
      "Note: D5 / 16th / None\n",
      "Note: E5 / 16th / None\n",
      "Note: F5 / eighth / None\n",
      "Note: C5 / 16th / None\n",
      "Note: C5 / 16th / start\n",
      "Note: C5 / eighth / stop\n",
      "Note: D5 / eighth / None\n",
      "Note: C5 / quarter / None\n",
      "Note: A4 / 16th / None\n",
      "Note: A4 / 16th / None\n",
      "Note: B4 / eighth / None\n",
      "Note: D5 / eighth / None\n",
      "Note: D5 / eighth / None\n",
      "Note: B4 / 16th / None\n",
      "Note: E5 / 16th / start\n",
      "Note: E5 / 16th / stop\n",
      "Note: D5 / eighth / start\n",
      "Note: D5 / quarter / stop\n",
      "Note: A4 / eighth / None\n",
      "Note: A4 / eighth / None\n",
      "Note: F5 / eighth / None\n",
      "Note: G5 / 16th / None\n",
      "Note: G5 / 16th / start\n",
      "Note: G5 / eighth / stop\n",
      "Note: F5 / quarter / None\n",
      "Note: F5 / eighth / None\n",
      "Note: B4 / 16th / None\n",
      "Note: D5 / 16th / start\n",
      "Note: D5 / quarter / stop\n",
      "Note: rest / eighth\n",
      "Note: A4 / 16th / None\n",
      "Note: B4 / eighth / None\n",
      "Note: D5 / eighth / None\n",
      "Note: D5 / half / None\n",
      "Note: D5 / quarter / None\n",
      "Note: E5 / quarter / None\n",
      "Note: F5 / eighth / None\n",
      "Note: F5 / eighth / None\n",
      "Note: F5 / eighth / None\n",
      "Note: F5 / 16th / None\n",
      "Note: E5 / 16th / None\n",
      "Note: F5 / 16th / None\n",
      "Note: F5 / 16th / None\n",
      "Note: A5 / eighth / None\n",
      "Note: A5 / eighth / None\n",
      "Note: A4 / 16th / None\n",
      "Note: A4 / 16th / None\n",
      "Note: F5 / eighth / None\n",
      "Note: E5 / 16th / None\n",
      "Note: E5 / 16th / start\n",
      "Note: E5 / eighth / stop\n",
      "Note: E5 / 16th / None\n",
      "Note: D5 / 16th / None\n",
      "Note: E5 / 16th / None\n",
      "Note: E5 / 16th / None\n",
      "Note: A5 / eighth / None\n",
      "Note: A5 / eighth / None\n",
      "Note: A4 / 16th / None\n",
      "Note: A4 / 16th / None\n",
      "Note: E5 / eighth / None\n",
      "Note: D5 / 16th / None\n",
      "Note: D5 / 16th / start\n",
      "Note: D5 / eighth / stop\n",
      "Note: A4 / 16th / None\n",
      "Note: A4 / 16th / None\n",
      "Note: F*5 / 16th / None\n",
      "Note: E5 / eighth / None\n",
      "Note: E5 / eighth / None\n",
      "Note: Bb4 / 16th / None\n",
      "Note: A4 / 16th / start\n",
      "Note: A4 / half / stop\n",
      "Note: D5 / quarter / None\n",
      "Note: E5 / quarter / None\n",
      "Note: F5 / eighth / None\n",
      "Note: F5 / eighth / None\n",
      "Note: F5 / eighth / None\n",
      "Note: F5 / 16th / None\n",
      "Note: E5 / 16th / None\n",
      "Note: F5 / 16th / None\n",
      "Note: F5 / 16th / None\n",
      "Note: A5 / eighth / None\n",
      "Note: A5 / eighth / None\n",
      "Note: A4 / 16th / None\n",
      "Note: A4 / 16th / None\n",
      "Note: F5 / eighth / None\n",
      "Note: E5 / 16th / None\n",
      "Note: E5 / 16th / start\n",
      "Note: E5 / eighth / stop\n",
      "Note: E5 / 16th / None\n",
      "Note: D5 / 16th / None\n",
      "Note: E5 / 16th / None\n",
      "Note: E5 / 16th / None\n",
      "Note: A5 / eighth / None\n",
      "Note: A5 / eighth / None\n",
      "Note: A4 / 16th / None\n",
      "Note: A4 / 16th / None\n",
      "Note: E5 / eighth / None\n",
      "Note: D5 / 16th / None\n",
      "Note: D5 / 16th / start\n",
      "Note: D5 / eighth / stop\n",
      "Note: A4 / 16th / None\n",
      "Note: A4 / 16th / None\n",
      "Note: F*5 / 16th / None\n",
      "Note: E5 / eighth / None\n",
      "Note: E5 / eighth / None\n",
      "Note: D5 / 16th / None\n",
      "Note: D5 / 16th / start\n",
      "Note: D5 / half / stop\n",
      "Note: rest / quarter\n"
     ]
    }
   ],
   "source": [
    "for measure in measures:\n",
    "    measure.printMeasure()"
   ]
  },
  {
   "cell_type": "markdown",
   "metadata": {},
   "source": [
    "# 1. Explore Music21"
   ]
  },
  {
   "cell_type": "code",
   "execution_count": 6,
   "metadata": {},
   "outputs": [
    {
     "name": "stderr",
     "output_type": "stream",
     "text": [
      "music21: Certain music21 functions might need the optional package scipy;\n",
      "                  if you run into errors, install it by following the instructions at\n",
      "                  http://mit.edu/music21/doc/installing/installAdditional.html\n"
     ]
    }
   ],
   "source": [
    "from music21 import *\n",
    "import copy\n"
   ]
  },
  {
   "cell_type": "code",
   "execution_count": 7,
   "metadata": {},
   "outputs": [
    {
     "data": {
      "text/plain": [
       "['M-3', 'P1', 'A4']"
      ]
     },
     "execution_count": 7,
     "metadata": {},
     "output_type": "execute_result"
    }
   ],
   "source": [
    "import copy\n",
    "\n",
    "it = ['M-3','P1','A4']\n",
    "it"
   ]
  },
  {
   "cell_type": "code",
   "execution_count": 8,
   "metadata": {},
   "outputs": [
    {
     "name": "stdout",
     "output_type": "stream",
     "text": [
      "M-3\n",
      "P1\n",
      "A4\n"
     ]
    },
    {
     "data": {
      "text/plain": [
       "[<music21.pitch.Pitch D-4>, <music21.pitch.Pitch F4>, <music21.pitch.Pitch B4>]"
      ]
     },
     "execution_count": 8,
     "metadata": {},
     "output_type": "execute_result"
    }
   ],
   "source": [
    "p = pitch.Pitch('F4')\n",
    "cList = []\n",
    "\n",
    "for i in it:\n",
    "    print(i)\n",
    "    pNew = p.transpose(i, inPlace=False)\n",
    "    cList.append(pNew)\n",
    "\n",
    "cList"
   ]
  },
  {
   "cell_type": "code",
   "execution_count": 9,
   "metadata": {},
   "outputs": [
    {
     "data": {
      "image/png": "[encoded data removed]",
      "text/plain": [
       "<IPython.core.display.Image object>"
      ]
     },
     "metadata": {
      "image/png": {
       "height": 49,
       "width": 143
      }
     },
     "output_type": "display_data"
    }
   ],
   "source": [
    "%matplotlib inline\n",
    "import os\n",
    "\n",
    "environment.set(\"musescoreDirectPNGPath\", \"/usr/bin/musescore\")\n",
    "chord1 = chord.Chord(cList)\n",
    "chord1.show()"
   ]
  },
  {
   "cell_type": "code",
   "execution_count": 10,
   "metadata": {},
   "outputs": [],
   "source": [
    "chord1.inversion(0)"
   ]
  },
  {
   "cell_type": "code",
   "execution_count": 11,
   "metadata": {},
   "outputs": [
    {
     "data": {
      "image/png": "[encoded data removed]",
      "text/plain": [
       "<IPython.core.display.Image object>"
      ]
     },
     "metadata": {
      "image/png": {
       "height": 49,
       "width": 143
      }
     },
     "output_type": "display_data"
    }
   ],
   "source": [
    "chord1.show()"
   ]
  },
  {
   "cell_type": "code",
   "execution_count": 12,
   "metadata": {},
   "outputs": [
    {
     "data": {
      "image/png": "[encoded data removed]",
      "text/plain": [
       "<IPython.core.display.Image object>"
      ]
     },
     "metadata": {
      "image/png": {
       "height": 49,
       "width": 137
      }
     },
     "output_type": "display_data"
    }
   ],
   "source": [
    "n = note.Note('G4')\n",
    "n.show()\n",
    "aInterval = interval.Interval(-6)"
   ]
  },
  {
   "cell_type": "code",
   "execution_count": 13,
   "metadata": {},
   "outputs": [
    {
     "data": {
      "image/png": "[encoded data removed]",
      "text/plain": [
       "<IPython.core.display.Image object>"
      ]
     },
     "metadata": {
      "image/png": {
       "height": 56,
       "width": 149
      }
     },
     "output_type": "display_data"
    }
   ],
   "source": [
    "b = n.transpose(aInterval)\n",
    "b.show()"
   ]
  },
  {
   "cell_type": "markdown",
   "metadata": {},
   "source": [
    "# 2. Try Inversion "
   ]
  },
  {
   "cell_type": "code",
   "execution_count": 14,
   "metadata": {},
   "outputs": [
    {
     "data": {
      "text/plain": [
       "['F4', 'A4', 'D5', 'D5', 'D5', 'A4', 'A4']"
      ]
     },
     "execution_count": 14,
     "metadata": {},
     "output_type": "execute_result"
    }
   ],
   "source": [
    "it = measures[1].get_sos()\n",
    "it"
   ]
  },
  {
   "cell_type": "code",
   "execution_count": 15,
   "metadata": {},
   "outputs": [
    {
     "data": {
      "text/plain": [
       "['eighth', '16th', '16th', 'half', 'eighth', '16th', '16th']"
      ]
     },
     "execution_count": 15,
     "metadata": {},
     "output_type": "execute_result"
    }
   ],
   "source": [
    "it_types = measures[1].get_notetypes()\n",
    "it_types"
   ]
  },
  {
   "cell_type": "code",
   "execution_count": 16,
   "metadata": {},
   "outputs": [],
   "source": [
    "s1 = stream.Stream()\n",
    "for n,t in zip(it,it_types):\n",
    "    s1.append(note.Note(n,type=t))"
   ]
  },
  {
   "cell_type": "code",
   "execution_count": 17,
   "metadata": {},
   "outputs": [
    {
     "data": {
      "image/png": "[encoded data removed]",
      "text/plain": [
       "<IPython.core.display.Image object>"
      ]
     },
     "metadata": {
      "image/png": {
       "height": 57,
       "width": 280
      }
     },
     "output_type": "display_data"
    }
   ],
   "source": [
    "s1.show()"
   ]
  },
  {
   "cell_type": "code",
   "execution_count": 18,
   "metadata": {},
   "outputs": [
    {
     "data": {
      "image/png": "[encoded data removed]",
      "text/plain": [
       "<IPython.core.display.Image object>"
      ]
     },
     "metadata": {
      "image/png": {
       "height": 56,
       "width": 337
      }
     },
     "output_type": "display_data"
    }
   ],
   "source": [
    "aInterval = interval.Interval(-8)\n",
    "sinv = s1.transpose(aInterval)\n",
    "sinv.show()"
   ]
  },
  {
   "cell_type": "code",
   "execution_count": 19,
   "metadata": {},
   "outputs": [
    {
     "ename": "StreamPlayerException",
     "evalue": "StreamPlayer requires pygame.  Install first",
     "output_type": "error",
     "traceback": [
      "\u001b[0;31m---------------------------------------------------------------------------\u001b[0m",
      "\u001b[0;31mModuleNotFoundError\u001b[0m                       Traceback (most recent call last)",
      "\u001b[0;32m~/.local/lib/python3.6/site-packages/music21/midi/realtime.py\u001b[0m in \u001b[0;36m__init__\u001b[0;34m(self, streamIn, **keywords)\u001b[0m\n\u001b[1;32m     75\u001b[0m         \u001b[0;32mtry\u001b[0m\u001b[0;34m:\u001b[0m\u001b[0;34m\u001b[0m\u001b[0;34m\u001b[0m\u001b[0m\n\u001b[0;32m---> 76\u001b[0;31m             \u001b[0;32mimport\u001b[0m \u001b[0mpygame\u001b[0m\u001b[0;34m\u001b[0m\u001b[0;34m\u001b[0m\u001b[0m\n\u001b[0m\u001b[1;32m     77\u001b[0m             \u001b[0mself\u001b[0m\u001b[0;34m.\u001b[0m\u001b[0mpygame\u001b[0m \u001b[0;34m=\u001b[0m \u001b[0mpygame\u001b[0m\u001b[0;34m\u001b[0m\u001b[0;34m\u001b[0m\u001b[0m\n",
      "\u001b[0;31mModuleNotFoundError\u001b[0m: No module named 'pygame'",
      "\nDuring handling of the above exception, another exception occurred:\n",
      "\u001b[0;31mStreamPlayerException\u001b[0m                     Traceback (most recent call last)",
      "\u001b[0;32m<ipython-input-19-70a48811c558>\u001b[0m in \u001b[0;36m<module>\u001b[0;34m\u001b[0m\n\u001b[1;32m      1\u001b[0m \u001b[0;32mfrom\u001b[0m \u001b[0mmusic21\u001b[0m \u001b[0;32mimport\u001b[0m \u001b[0;34m*\u001b[0m\u001b[0;34m\u001b[0m\u001b[0;34m\u001b[0m\u001b[0m\n\u001b[0;32m----> 2\u001b[0;31m \u001b[0mmidi\u001b[0m\u001b[0;34m.\u001b[0m\u001b[0mrealtime\u001b[0m\u001b[0;34m.\u001b[0m\u001b[0mStreamPlayer\u001b[0m\u001b[0;34m(\u001b[0m\u001b[0ms1\u001b[0m\u001b[0;34m)\u001b[0m\u001b[0;34m.\u001b[0m\u001b[0mplay\u001b[0m\u001b[0;34m(\u001b[0m\u001b[0;34m)\u001b[0m\u001b[0;34m\u001b[0m\u001b[0;34m\u001b[0m\u001b[0m\n\u001b[0m",
      "\u001b[0;32m~/.local/lib/python3.6/site-packages/music21/midi/realtime.py\u001b[0m in \u001b[0;36m__init__\u001b[0;34m(self, streamIn, **keywords)\u001b[0m\n\u001b[1;32m     77\u001b[0m             \u001b[0mself\u001b[0m\u001b[0;34m.\u001b[0m\u001b[0mpygame\u001b[0m \u001b[0;34m=\u001b[0m \u001b[0mpygame\u001b[0m\u001b[0;34m\u001b[0m\u001b[0;34m\u001b[0m\u001b[0m\n\u001b[1;32m     78\u001b[0m         \u001b[0;32mexcept\u001b[0m \u001b[0mImportError\u001b[0m\u001b[0;34m:\u001b[0m\u001b[0;34m\u001b[0m\u001b[0;34m\u001b[0m\u001b[0m\n\u001b[0;32m---> 79\u001b[0;31m             \u001b[0;32mraise\u001b[0m \u001b[0mStreamPlayerException\u001b[0m\u001b[0;34m(\u001b[0m\u001b[0;34m'StreamPlayer requires pygame.  Install first'\u001b[0m\u001b[0;34m)\u001b[0m\u001b[0;34m\u001b[0m\u001b[0;34m\u001b[0m\u001b[0m\n\u001b[0m\u001b[1;32m     80\u001b[0m         if (self.mixerInitialized is False or\n\u001b[1;32m     81\u001b[0m                 ('reinitMixer' in keywords and keywords['reinitMixer'] is not False)):\n",
      "\u001b[0;31mStreamPlayerException\u001b[0m: StreamPlayer requires pygame.  Install first"
     ]
    }
   ],
   "source": [
    "from music21 import *\n",
    "midi.realtime.StreamPlayer(s1).play()"
   ]
  },
  {
   "cell_type": "code",
   "execution_count": null,
   "metadata": {},
   "outputs": [],
   "source": [
    "midi.realtime.StreamPlayer(sinv).play()"
   ]
  },
  {
   "cell_type": "code",
   "execution_count": 21,
   "metadata": {},
   "outputs": [
    {
     "ename": "ModuleNotFoundError",
     "evalue": "No module named 'pygame'",
     "output_type": "error",
     "traceback": [
      "\u001b[0;31m---------------------------------------------------------------------------\u001b[0m",
      "\u001b[0;31mModuleNotFoundError\u001b[0m                       Traceback (most recent call last)",
      "\u001b[0;32m<ipython-input-21-671b35b41eba>\u001b[0m in \u001b[0;36m<module>\u001b[0;34m\u001b[0m\n\u001b[0;32m----> 1\u001b[0;31m \u001b[0;32mimport\u001b[0m \u001b[0mpygame\u001b[0m\u001b[0;34m\u001b[0m\u001b[0;34m\u001b[0m\u001b[0m\n\u001b[0m",
      "\u001b[0;31mModuleNotFoundError\u001b[0m: No module named 'pygame'"
     ]
    }
   ],
   "source": [
    "import pygame"
   ]
  },
  {
   "cell_type": "code",
   "execution_count": null,
   "metadata": {},
   "outputs": [],
   "source": []
  },
  {
   "cell_type": "code",
   "execution_count": null,
   "metadata": {},
   "outputs": [],
   "source": []
  }
 ],
 "metadata": {
  "kernelspec": {
   "display_name": "Python 3",
   "language": "python",
   "name": "python3"
  },
  "language_info": {
   "codemirror_mode": {
    "name": "ipython",
    "version": 3
   },
   "file_extension": ".py",
   "mimetype": "text/x-python",
   "name": "python",
   "nbconvert_exporter": "python",
   "pygments_lexer": "ipython3",
   "version": "3.6.8"
  },
  "varInspector": {
   "cols": {
    "lenName": 16,
    "lenType": 16,
    "lenVar": 40
   },
   "kernels_config": {
    "python": {
     "delete_cmd_postfix": "",
     "delete_cmd_prefix": "del ",
     "library": "var_list.py",
     "varRefreshCmd": "print(var_dic_list())"
    },
    "r": {
     "delete_cmd_postfix": ") ",
     "delete_cmd_prefix": "rm(",
     "library": "var_list.r",
     "varRefreshCmd": "cat(var_dic_list()) "
    }
   },
   "types_to_exclude": [
    "module",
    "function",
    "builtin_function_or_method",
    "instance",
    "_Feature"
   ],
   "window_display": false
  }
 },
 "nbformat": 4,
 "nbformat_minor": 2
}
