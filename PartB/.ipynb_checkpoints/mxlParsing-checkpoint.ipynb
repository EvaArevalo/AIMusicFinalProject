{
 "cells": [
  {
   "cell_type": "markdown",
   "metadata": {},
   "source": [
    "# 0. Extract from MXL"
   ]
  },
  {
   "cell_type": "code",
   "execution_count": 71,
   "metadata": {},
   "outputs": [],
   "source": [
    "import zipfile\n",
    "import glob\n",
    "\n",
    "filename = \"XMLs/Alta_cancion.mxl\"\n",
    "with zipfile.ZipFile(filename, 'r') as zipfile:\n",
    "    zipfile.extractall('XMLs/Alta_cancion')"
   ]
  },
  {
   "cell_type": "markdown",
   "metadata": {},
   "source": [
    "# 1. Read XML"
   ]
  },
  {
   "cell_type": "code",
   "execution_count": 78,
   "metadata": {},
   "outputs": [],
   "source": [
    "import xml.etree.cElementTree as ET\n",
    "\n",
    "filename = \"XMLs/至少還有你_主旋律.musicxml\"\n",
    "tree = ET.parse(filename)"
   ]
  },
  {
   "cell_type": "code",
   "execution_count": 79,
   "metadata": {},
   "outputs": [
    {
     "data": {
      "text/plain": [
       "('score-partwise', {'version': '3.1'})"
      ]
     },
     "execution_count": 79,
     "metadata": {},
     "output_type": "execute_result"
    }
   ],
   "source": [
    "root = tree.getroot()\n",
    "root.tag, root.attrib"
   ]
  },
  {
   "cell_type": "code",
   "execution_count": 80,
   "metadata": {},
   "outputs": [],
   "source": [
    "all_notes = root.findall('.//note')"
   ]
  },
  {
   "cell_type": "code",
   "execution_count": 81,
   "metadata": {},
   "outputs": [],
   "source": [
    "lyric_notes = []\n",
    "for note in all_notes:\n",
    "    n = {}\n",
    "    if note.find('lyric') is not None:\n",
    "        n['type'] = note.find('type').text\n",
    "        n['lyric'] = note.find('./lyric/text').text\n",
    "        n['pitch'] = note.find('./pitch/step').text + note.find('./pitch/octave').text\n",
    "        if note.find('./pitch/alter') is not None:\n",
    "            if note.find('./pitch/alter').text == '-1':\n",
    "                p = n['pitch'][0] + 'b' + n['pitch'][1]\n",
    "                n['pitch'] = p\n",
    "            else:\n",
    "                n['pitch'] = n['pitch'][0] + '#' + n['pitch'][1]\n",
    "                \n",
    "        lyric_notes.append(n)"
   ]
  },
  {
   "cell_type": "code",
   "execution_count": 82,
   "metadata": {},
   "outputs": [
    {
     "data": {
      "text/plain": [
       "159"
      ]
     },
     "execution_count": 82,
     "metadata": {},
     "output_type": "execute_result"
    }
   ],
   "source": [
    "len(lyric_notes)"
   ]
  },
  {
   "cell_type": "code",
   "execution_count": 83,
   "metadata": {},
   "outputs": [
    {
     "data": {
      "text/plain": [
       "[{'type': '16th', 'lyric': '我', 'pitch': 'G4'},\n",
       " {'type': '16th', 'lyric': '怕', 'pitch': 'G4'},\n",
       " {'type': 'eighth', 'lyric': '來', 'pitch': 'F#4'},\n",
       " {'type': '16th', 'lyric': '不', 'pitch': 'A4'},\n",
       " {'type': '16th', 'lyric': '幾', 'pitch': 'D5'},\n",
       " {'type': '16th', 'lyric': '我', 'pitch': 'A4'},\n",
       " {'type': '16th', 'lyric': '要', 'pitch': 'A4'},\n",
       " {'type': 'eighth', 'lyric': '抱', 'pitch': 'D5'},\n",
       " {'type': '16th', 'lyric': '著', 'pitch': 'A4'},\n",
       " {'type': '16th', 'lyric': '你', 'pitch': 'B4'},\n",
       " {'type': '16th', 'lyric': '直', 'pitch': 'G4'},\n",
       " {'type': '16th', 'lyric': '到', 'pitch': 'G4'},\n",
       " {'type': 'eighth', 'lyric': '感', 'pitch': 'F#4'},\n",
       " {'type': 'eighth', 'lyric': '覺', 'pitch': 'A4'},\n",
       " {'type': 'eighth', 'lyric': '你', 'pitch': 'D5'},\n",
       " {'type': '16th', 'lyric': '的', 'pitch': 'E5'},\n",
       " {'type': '16th', 'lyric': '皺', 'pitch': 'E5'},\n",
       " {'type': 'eighth', 'lyric': '紋', 'pitch': 'D5'},\n",
       " {'type': '16th', 'lyric': '有', 'pitch': 'D5'},\n",
       " {'type': '16th', 'lyric': '了', 'pitch': 'E5'},\n",
       " {'type': 'eighth', 'lyric': '歲', 'pitch': 'F#5'},\n",
       " {'type': '16th', 'lyric': '月', 'pitch': 'C#5'},\n",
       " {'type': '16th', 'lyric': '的', 'pitch': 'C#5'},\n",
       " {'type': 'eighth', 'lyric': '痕', 'pitch': 'B4'},\n",
       " {'type': 'quarter', 'lyric': '跡', 'pitch': 'C#5'},\n",
       " {'type': '16th', 'lyric': '直', 'pitch': 'A4'},\n",
       " {'type': '16th', 'lyric': '到', 'pitch': 'A4'},\n",
       " {'type': 'eighth', 'lyric': '肯', 'pitch': 'B4'},\n",
       " {'type': 'eighth', 'lyric': '定', 'pitch': 'D5'},\n",
       " {'type': 'eighth', 'lyric': '你', 'pitch': 'D5'},\n",
       " {'type': '16th', 'lyric': '是', 'pitch': 'B4'},\n",
       " {'type': '16th', 'lyric': '真', 'pitch': 'E5'},\n",
       " {'type': 'eighth', 'lyric': '的', 'pitch': 'D5'},\n",
       " {'type': 'eighth', 'lyric': '直', 'pitch': 'A4'},\n",
       " {'type': 'eighth', 'lyric': '到', 'pitch': 'A4'},\n",
       " {'type': 'eighth', 'lyric': '不', 'pitch': 'F#5'},\n",
       " {'type': '16th', 'lyric': '能', 'pitch': 'G5'},\n",
       " {'type': '16th', 'lyric': '呼', 'pitch': 'G5'},\n",
       " {'type': 'quarter', 'lyric': '吸', 'pitch': 'F#5'},\n",
       " {'type': 'eighth', 'lyric': '為', 'pitch': 'F#5'},\n",
       " {'type': '16th', 'lyric': '了', 'pitch': 'B4'},\n",
       " {'type': '16th', 'lyric': '你', 'pitch': 'D5'},\n",
       " {'type': '16th', 'lyric': '我', 'pitch': 'Bb4'},\n",
       " {'type': 'eighth', 'lyric': '願', 'pitch': 'Bb4'},\n",
       " {'type': 'half', 'lyric': '意', 'pitch': 'A4'},\n",
       " {'type': '16th', 'lyric': '動', 'pitch': 'G4'},\n",
       " {'type': '16th', 'lyric': '也', 'pitch': 'G4'},\n",
       " {'type': 'eighth', 'lyric': '不', 'pitch': 'F#4'},\n",
       " {'type': '16th', 'lyric': '能', 'pitch': 'A4'},\n",
       " {'type': '16th', 'lyric': '動', 'pitch': 'D5'},\n",
       " {'type': '16th', 'lyric': '也', 'pitch': 'A4'},\n",
       " {'type': '16th', 'lyric': '要', 'pitch': 'A4'},\n",
       " {'type': 'eighth', 'lyric': '看', 'pitch': 'D5'},\n",
       " {'type': '16th', 'lyric': '著', 'pitch': 'A4'},\n",
       " {'type': '16th', 'lyric': '你', 'pitch': 'B4'},\n",
       " {'type': '16th', 'lyric': '直', 'pitch': 'G4'},\n",
       " {'type': '16th', 'lyric': '到', 'pitch': 'G4'},\n",
       " {'type': 'eighth', 'lyric': '感', 'pitch': 'F#4'},\n",
       " {'type': '16th', 'lyric': '覺', 'pitch': 'A4'},\n",
       " {'type': '16th', 'lyric': '你', 'pitch': 'D5'},\n",
       " {'type': '16th', 'lyric': '的', 'pitch': 'E5'},\n",
       " {'type': '16th', 'lyric': '髮', 'pitch': 'E5'},\n",
       " {'type': 'eighth', 'lyric': '線', 'pitch': 'D5'},\n",
       " {'type': '16th', 'lyric': '有', 'pitch': 'D5'},\n",
       " {'type': '16th', 'lyric': '了', 'pitch': 'E5'},\n",
       " {'type': 'eighth', 'lyric': '白', 'pitch': 'F#5'},\n",
       " {'type': '16th', 'lyric': '雪', 'pitch': 'C#5'},\n",
       " {'type': '16th', 'lyric': '的', 'pitch': 'C#5'},\n",
       " {'type': 'eighth', 'lyric': '痕', 'pitch': 'D5'},\n",
       " {'type': 'quarter', 'lyric': '跡', 'pitch': 'C#5'},\n",
       " {'type': '16th', 'lyric': '直', 'pitch': 'A4'},\n",
       " {'type': '16th', 'lyric': '到', 'pitch': 'A4'},\n",
       " {'type': 'eighth', 'lyric': '視', 'pitch': 'B4'},\n",
       " {'type': 'eighth', 'lyric': '線', 'pitch': 'D5'},\n",
       " {'type': 'eighth', 'lyric': '變', 'pitch': 'D5'},\n",
       " {'type': '16th', 'lyric': '的', 'pitch': 'B4'},\n",
       " {'type': '16th', 'lyric': '模', 'pitch': 'E5'},\n",
       " {'type': 'eighth', 'lyric': '糊', 'pitch': 'D5'},\n",
       " {'type': 'eighth', 'lyric': '直', 'pitch': 'A4'},\n",
       " {'type': 'eighth', 'lyric': '到', 'pitch': 'A4'},\n",
       " {'type': 'eighth', 'lyric': '不', 'pitch': 'F#5'},\n",
       " {'type': '16th', 'lyric': '能', 'pitch': 'G5'},\n",
       " {'type': '16th', 'lyric': '呼', 'pitch': 'G5'},\n",
       " {'type': 'quarter', 'lyric': '吸', 'pitch': 'F#5'},\n",
       " {'type': 'eighth', 'lyric': '讓', 'pitch': 'F#5'},\n",
       " {'type': '16th', 'lyric': '你', 'pitch': 'B4'},\n",
       " {'type': '16th', 'lyric': '我', 'pitch': 'D5'},\n",
       " {'type': '16th', 'lyric': '形', 'pitch': 'A4'},\n",
       " {'type': 'eighth', 'lyric': '影', 'pitch': 'B4'},\n",
       " {'type': 'eighth', 'lyric': '不', 'pitch': 'D5'},\n",
       " {'type': 'half', 'lyric': '離', 'pitch': 'D5'},\n",
       " {'type': 'quarter', 'lyric': '如', 'pitch': 'D5'},\n",
       " {'type': 'quarter', 'lyric': '果', 'pitch': 'E5'},\n",
       " {'type': 'eighth', 'lyric': '全', 'pitch': 'F#5'},\n",
       " {'type': 'eighth', 'lyric': '世', 'pitch': 'F#5'},\n",
       " {'type': 'eighth', 'lyric': '界', 'pitch': 'F#5'},\n",
       " {'type': '16th', 'lyric': '我', 'pitch': 'F#5'},\n",
       " {'type': '16th', 'lyric': '也', 'pitch': 'E5'},\n",
       " {'type': '16th', 'lyric': '可', 'pitch': 'F#5'},\n",
       " {'type': '16th', 'lyric': '以', 'pitch': 'F#5'},\n",
       " {'type': 'eighth', 'lyric': '放', 'pitch': 'A5'},\n",
       " {'type': 'eighth', 'lyric': '棄', 'pitch': 'A5'},\n",
       " {'type': '16th', 'lyric': '至', 'pitch': 'A4'},\n",
       " {'type': '16th', 'lyric': '少', 'pitch': 'A4'},\n",
       " {'type': 'eighth', 'lyric': '還', 'pitch': 'F#5'},\n",
       " {'type': '16th', 'lyric': '有', 'pitch': 'E5'},\n",
       " {'type': '16th', 'lyric': '你', 'pitch': 'E5'},\n",
       " {'type': '16th', 'lyric': '值', 'pitch': 'E5'},\n",
       " {'type': '16th', 'lyric': '得', 'pitch': 'D5'},\n",
       " {'type': '16th', 'lyric': '我', 'pitch': 'E5'},\n",
       " {'type': '16th', 'lyric': '去', 'pitch': 'E5'},\n",
       " {'type': 'eighth', 'lyric': '珍', 'pitch': 'A5'},\n",
       " {'type': 'eighth', 'lyric': '惜', 'pitch': 'A5'},\n",
       " {'type': '16th', 'lyric': '而', 'pitch': 'A4'},\n",
       " {'type': '16th', 'lyric': '你', 'pitch': 'A4'},\n",
       " {'type': 'eighth', 'lyric': '在', 'pitch': 'E5'},\n",
       " {'type': '16th', 'lyric': '這', 'pitch': 'D5'},\n",
       " {'type': '16th', 'lyric': '裡', 'pitch': 'D5'},\n",
       " {'type': '16th', 'lyric': '就', 'pitch': 'A4'},\n",
       " {'type': '16th', 'lyric': '是', 'pitch': 'A4'},\n",
       " {'type': '16th', 'lyric': '生', 'pitch': 'F5'},\n",
       " {'type': 'eighth', 'lyric': '命', 'pitch': 'E5'},\n",
       " {'type': 'eighth', 'lyric': '的', 'pitch': 'E5'},\n",
       " {'type': '16th', 'lyric': '奇', 'pitch': 'Bb4'},\n",
       " {'type': '16th', 'lyric': '蹟', 'pitch': 'A4'},\n",
       " {'type': 'quarter', 'lyric': '也', 'pitch': 'D5'},\n",
       " {'type': 'quarter', 'lyric': '許', 'pitch': 'E5'},\n",
       " {'type': 'eighth', 'lyric': '全', 'pitch': 'F#5'},\n",
       " {'type': 'eighth', 'lyric': '世', 'pitch': 'F#5'},\n",
       " {'type': 'eighth', 'lyric': '界', 'pitch': 'F#5'},\n",
       " {'type': '16th', 'lyric': '我', 'pitch': 'F#5'},\n",
       " {'type': '16th', 'lyric': '也', 'pitch': 'E5'},\n",
       " {'type': '16th', 'lyric': '可', 'pitch': 'F#5'},\n",
       " {'type': '16th', 'lyric': '以', 'pitch': 'F#5'},\n",
       " {'type': 'eighth', 'lyric': '忘', 'pitch': 'A5'},\n",
       " {'type': 'eighth', 'lyric': '記', 'pitch': 'A5'},\n",
       " {'type': '16th', 'lyric': '就', 'pitch': 'A4'},\n",
       " {'type': '16th', 'lyric': '是', 'pitch': 'A4'},\n",
       " {'type': 'eighth', 'lyric': '不', 'pitch': 'F#5'},\n",
       " {'type': '16th', 'lyric': '願', 'pitch': 'E5'},\n",
       " {'type': '16th', 'lyric': '意', 'pitch': 'E5'},\n",
       " {'type': '16th', 'lyric': '失', 'pitch': 'E5'},\n",
       " {'type': '16th', 'lyric': '去', 'pitch': 'D5'},\n",
       " {'type': '16th', 'lyric': '你', 'pitch': 'E5'},\n",
       " {'type': '16th', 'lyric': '的', 'pitch': 'E5'},\n",
       " {'type': 'eighth', 'lyric': '消', 'pitch': 'A5'},\n",
       " {'type': 'eighth', 'lyric': '息', 'pitch': 'A5'},\n",
       " {'type': '16th', 'lyric': '你', 'pitch': 'A4'},\n",
       " {'type': '16th', 'lyric': '掌', 'pitch': 'A4'},\n",
       " {'type': 'eighth', 'lyric': '心', 'pitch': 'E5'},\n",
       " {'type': '16th', 'lyric': '的', 'pitch': 'D5'},\n",
       " {'type': '16th', 'lyric': '痣', 'pitch': 'D5'},\n",
       " {'type': '16th', 'lyric': '我', 'pitch': 'A4'},\n",
       " {'type': '16th', 'lyric': '總', 'pitch': 'A4'},\n",
       " {'type': '16th', 'lyric': '記', 'pitch': 'F5'},\n",
       " {'type': 'eighth', 'lyric': '得', 'pitch': 'E5'},\n",
       " {'type': 'eighth', 'lyric': '在', 'pitch': 'E5'},\n",
       " {'type': '16th', 'lyric': '哪', 'pitch': 'D5'},\n",
       " {'type': '16th', 'lyric': '裡', 'pitch': 'D5'}]"
      ]
     },
     "execution_count": 83,
     "metadata": {},
     "output_type": "execute_result"
    }
   ],
   "source": [
    "lyric_notes"
   ]
  },
  {
   "cell_type": "markdown",
   "metadata": {},
   "source": [
    "# 2. Exploring "
   ]
  },
  {
   "cell_type": "code",
   "execution_count": 88,
   "metadata": {},
   "outputs": [],
   "source": [
    "time = root.find('.//time')"
   ]
  },
  {
   "cell_type": "code",
   "execution_count": 90,
   "metadata": {},
   "outputs": [
    {
     "data": {
      "text/plain": [
       "'4'"
      ]
     },
     "execution_count": 90,
     "metadata": {},
     "output_type": "execute_result"
    }
   ],
   "source": [
    "time.find(\".//beats\").text"
   ]
  },
  {
   "cell_type": "code",
   "execution_count": 92,
   "metadata": {},
   "outputs": [
    {
     "data": {
      "text/plain": [
       "'4'"
      ]
     },
     "execution_count": 92,
     "metadata": {},
     "output_type": "execute_result"
    }
   ],
   "source": [
    "time.find(\".//beat-type\").text"
   ]
  },
  {
   "cell_type": "markdown",
   "metadata": {},
   "source": [
    "# 3. Helper classes /functions"
   ]
  },
  {
   "cell_type": "markdown",
   "metadata": {},
   "source": [
    "## 3.1 Helper classes"
   ]
  },
  {
   "cell_type": "code",
   "execution_count": 119,
   "metadata": {},
   "outputs": [],
   "source": [
    "from enum import Enum\n",
    "\n",
    "class NoteTypes(Enum):\n",
    "    '''Class defining types of notes'''\n",
    "    whole = 1\n",
    "    half = 2\n",
    "    quarter = 4\n",
    "    eight = 8\n",
    "    sixteenth = 16\n",
    "    thirtysecond = 32"
   ]
  },
  {
   "cell_type": "code",
   "execution_count": 501,
   "metadata": {},
   "outputs": [],
   "source": [
    "class Note:\n",
    "    '''Class representing a musical note'''\n",
    "    notetype = None\n",
    "    step = ''\n",
    "    octave = 0\n",
    "    so = None\n",
    "    tie = None\n",
    "    accidental = None\n",
    "    \n",
    "    def __init__(self,notetype,step,octave,tie,accidental):\n",
    "        self.notetype = notetype\n",
    "        self.step = step\n",
    "        self.octave = octave\n",
    "        self.tie = tie\n",
    "        if accidental:\n",
    "            self.so = step + accidental+ str(octave)\n",
    "        else:\n",
    "            self.so = step + str(octave)\n",
    "        self.accidental = accidental\n",
    "    \n",
    "    def printNote(self):\n",
    "        if self.step=='':\n",
    "            print('Note: ' + 'rest' + ' / ' +\n",
    "              str(self.notetype))\n",
    "        else:\n",
    "            print('Note: ' + str(self.so) + ' / ' +\n",
    "              str(self.notetype) + ' / ' +\n",
    "              str(self.tie))"
   ]
  },
  {
   "cell_type": "code",
   "execution_count": 487,
   "metadata": {},
   "outputs": [],
   "source": [
    "class Measure:\n",
    "    '''Class representing a measure'''\n",
    "    notes = []\n",
    "    \n",
    "    def __init__(self,notes):\n",
    "        self.notes = notes\n",
    "    \n",
    "    def get_sos(self):\n",
    "        sos = []\n",
    "        for note in self.notes:\n",
    "            sos.append(note.so)\n",
    "        return sos\n",
    "    \n",
    "    def get_notetypes(self):\n",
    "        notetypes = []\n",
    "        for note in self.notes:\n",
    "            notetypes.append(note.notetype)\n",
    "        return notetypes \n",
    "    \n",
    "    def get_ties(self):\n",
    "        ties = []\n",
    "        for tie in self.notes:\n",
    "            ties.append(note.tie)\n",
    "        return ties \n",
    "    \n",
    "    def printMeasure(self):\n",
    "        for note in self.notes:\n",
    "            note.printNote()"
   ]
  },
  {
   "cell_type": "markdown",
   "metadata": {},
   "source": [
    "## 3.2 Helper functions"
   ]
  },
  {
   "cell_type": "code",
   "execution_count": 471,
   "metadata": {},
   "outputs": [],
   "source": [
    "def get_ts_xml(root):\n",
    "    '''Gets time signature for a musicxml file.\n",
    "    Input: Root of XML Tree\n",
    "    Output:top and bottom numbers of the Time signature'''\n",
    "    time = root.find('.//time')\n",
    "    top = int(time.find(\".//beats\").text)\n",
    "    bottom = int(time.find(\".//beat-type\").text)\n",
    "    return top,bottom"
   ]
  },
  {
   "cell_type": "code",
   "execution_count": 356,
   "metadata": {},
   "outputs": [
    {
     "data": {
      "text/plain": [
       "(4, 4)"
      ]
     },
     "execution_count": 356,
     "metadata": {},
     "output_type": "execute_result"
    }
   ],
   "source": [
    "get_ts_xml(root)"
   ]
  },
  {
   "cell_type": "code",
   "execution_count": 357,
   "metadata": {},
   "outputs": [],
   "source": [
    "def get_bpm_xml(root):\n",
    "    '''Gets beats per minute as well as type of beats for a musicxml file.\n",
    "    Input: Root of XML Tree\n",
    "    Output: beats per minute, noteType'''\n",
    "    metronome = root.find('.//metronome')\n",
    "    beats_per_min = int(metronome.find('.//per-minute').text)\n",
    "    beat_type = metronome.find('.//beat-unit').text\n",
    "    #beat_type = getattr(NoteTypes, str(beat_type))\n",
    "    return beats_per_min, beat_type"
   ]
  },
  {
   "cell_type": "code",
   "execution_count": 358,
   "metadata": {},
   "outputs": [
    {
     "data": {
      "text/plain": [
       "(62, 'quarter')"
      ]
     },
     "execution_count": 358,
     "metadata": {},
     "output_type": "execute_result"
    }
   ],
   "source": [
    "get_bpm_xml(root)"
   ]
  },
  {
   "cell_type": "code",
   "execution_count": 478,
   "metadata": {},
   "outputs": [],
   "source": [
    "def decode_xml_note(xml_note):\n",
    "    '''Gets note type, step, octave and tie type'''\n",
    "    try:\n",
    "        notetype = xml_note.find('.//type').text\n",
    "    except:\n",
    "        notetype = None\n",
    "    try:\n",
    "        step = xml_note.find('.//step').text\n",
    "    except:\n",
    "        step = ''\n",
    "    try:\n",
    "        octave = xml_note.find('.//octave').text\n",
    "    except:\n",
    "        octave = 0\n",
    "    try:\n",
    "        tie = xml_note.find('.//tie').get('type')\n",
    "    except:\n",
    "        tie = None\n",
    "    try:\n",
    "        accidental = xml_note.find('.//accidental').text\n",
    "        if accidental == 'natural':\n",
    "            accidental = '*'\n",
    "        if accidental == 'flat':\n",
    "            accidental = 'b'\n",
    "        if accidental == 'sharp':\n",
    "            accidental = '#'\n",
    "            \n",
    "    except:\n",
    "        accidental = None\n",
    "        \n",
    "    note = Note(notetype,step,octave,tie,accidental)\n",
    "    #DEBUG\n",
    "    #note.printNote()\n",
    "    \n",
    "    return note"
   ]
  },
  {
   "cell_type": "code",
   "execution_count": 434,
   "metadata": {},
   "outputs": [
    {
     "data": {
      "text/plain": [
       "<__main__.Note at 0x7fd3b02a8eb8>"
      ]
     },
     "execution_count": 434,
     "metadata": {},
     "output_type": "execute_result"
    }
   ],
   "source": [
    "measures = root.findall('.//measure')\n",
    "xml_measure_notes = measures[4].findall('.//note')\n",
    "xml_note = xml_measure_notes[0]\n",
    "decode_xml_note(xml_note)"
   ]
  },
  {
   "cell_type": "code",
   "execution_count": 529,
   "metadata": {},
   "outputs": [],
   "source": [
    "# return all notes in a measure\n",
    "def get_meas_notes_xml(xml_measure_notes):\n",
    "    notes = []\n",
    "    for xml_note in xml_measure_notes:\n",
    "        note = decode_xml_note(xml_note)\n",
    "        if note.notetype:\n",
    "            notes.append(note)\n",
    "        #DEBUG\n",
    "        #note.printNote()\n",
    "    return notes"
   ]
  },
  {
   "cell_type": "code",
   "execution_count": 436,
   "metadata": {},
   "outputs": [
    {
     "data": {
      "text/plain": [
       "[<__main__.Note at 0x7fd3b02a8c88>,\n",
       " <__main__.Note at 0x7fd3b02a8d68>,\n",
       " <__main__.Note at 0x7fd3b02a8ba8>,\n",
       " <__main__.Note at 0x7fd3b02a8cf8>,\n",
       " <__main__.Note at 0x7fd3b02a8278>,\n",
       " <__main__.Note at 0x7fd3b02a8908>,\n",
       " <__main__.Note at 0x7fd3b029f2e8>]"
      ]
     },
     "execution_count": 436,
     "metadata": {},
     "output_type": "execute_result"
    }
   ],
   "source": [
    "get_meas_notes_xml(xml_measure_notes)"
   ]
  },
  {
   "cell_type": "markdown",
   "metadata": {},
   "source": [
    "## 3.3 Try to use classes"
   ]
  },
  {
   "cell_type": "code",
   "execution_count": 530,
   "metadata": {},
   "outputs": [
    {
     "data": {
      "text/plain": [
       "'start'"
      ]
     },
     "execution_count": 530,
     "metadata": {},
     "output_type": "execute_result"
    }
   ],
   "source": [
    "xml_measure_4[-1].find('.//tie').get('type')\n"
   ]
  },
  {
   "cell_type": "code",
   "execution_count": 531,
   "metadata": {},
   "outputs": [
    {
     "name": "stdout",
     "output_type": "stream",
     "text": [
      "Note: rest / half\n"
     ]
    }
   ],
   "source": [
    "#get a note\n",
    "xml_measures = root.findall('.//measure')\n",
    "xml_measure = xml_measures[3].findall('.//note')\n",
    "xml_note = xml_measure[0]\n",
    "note = decode_xml_note(xml_note)\n",
    "note.printNote()"
   ]
  },
  {
   "cell_type": "code",
   "execution_count": 532,
   "metadata": {},
   "outputs": [
    {
     "data": {
      "text/plain": [
       "'0'"
      ]
     },
     "execution_count": 532,
     "metadata": {},
     "output_type": "execute_result"
    }
   ],
   "source": [
    "note.so"
   ]
  },
  {
   "cell_type": "code",
   "execution_count": 533,
   "metadata": {},
   "outputs": [
    {
     "data": {
      "text/plain": [
       "'half'"
      ]
     },
     "execution_count": 533,
     "metadata": {},
     "output_type": "execute_result"
    }
   ],
   "source": [
    "note.notetype"
   ]
  },
  {
   "cell_type": "code",
   "execution_count": 534,
   "metadata": {},
   "outputs": [],
   "source": [
    "note.tie"
   ]
  },
  {
   "cell_type": "code",
   "execution_count": 535,
   "metadata": {},
   "outputs": [
    {
     "name": "stdout",
     "output_type": "stream",
     "text": [
      "Note: rest / half\n",
      "Note: rest / quarter\n",
      "Note: rest / eighth\n",
      "Note: G4 / sixteenth / None\n",
      "Note: G4 / sixteenth / None\n"
     ]
    }
   ],
   "source": [
    "#get a measure\n",
    "measure = Measure(get_meas_notes_xml(xml_measure))\n",
    "measure.printMeasure()"
   ]
  },
  {
   "cell_type": "code",
   "execution_count": 536,
   "metadata": {},
   "outputs": [
    {
     "data": {
      "text/plain": [
       "['0', '0', '0', 'G4', 'G4']"
      ]
     },
     "execution_count": 536,
     "metadata": {},
     "output_type": "execute_result"
    }
   ],
   "source": [
    "measure.get_sos()"
   ]
  },
  {
   "cell_type": "code",
   "execution_count": 537,
   "metadata": {},
   "outputs": [
    {
     "data": {
      "text/plain": [
       "['half', 'quarter', 'eighth', 'sixteenth', 'sixteenth']"
      ]
     },
     "execution_count": 537,
     "metadata": {},
     "output_type": "execute_result"
    }
   ],
   "source": [
    "measure.get_notetypes()"
   ]
  },
  {
   "cell_type": "code",
   "execution_count": 538,
   "metadata": {},
   "outputs": [
    {
     "data": {
      "text/plain": [
       "[None, None, None, None, None]"
      ]
     },
     "execution_count": 538,
     "metadata": {},
     "output_type": "execute_result"
    }
   ],
   "source": [
    "measure.get_ties()"
   ]
  },
  {
   "cell_type": "markdown",
   "metadata": {},
   "source": [
    "# 4. Read XML and get measures to invert chords"
   ]
  },
  {
   "cell_type": "code",
   "execution_count": 479,
   "metadata": {},
   "outputs": [],
   "source": [
    "xml_measures = root.findall('.//measure')\n",
    "measures = []\n",
    "\n",
    "for xml_measure in xml_measures:\n",
    "    measure = Measure(get_meas_notes_xml(xml_measure))\n",
    "    measures.append(measure)\n",
    "    "
   ]
  },
  {
   "cell_type": "code",
   "execution_count": 474,
   "metadata": {},
   "outputs": [],
   "source": [
    "for measure in measures:\n",
    "    measure.printMeasure()"
   ]
  },
  {
   "cell_type": "code",
   "execution_count": null,
   "metadata": {},
   "outputs": [],
   "source": []
  }
 ],
 "metadata": {
  "kernelspec": {
   "display_name": "Python 3",
   "language": "python",
   "name": "python3"
  },
  "language_info": {
   "codemirror_mode": {
    "name": "ipython",
    "version": 3
   },
   "file_extension": ".py",
   "mimetype": "text/x-python",
   "name": "python",
   "nbconvert_exporter": "python",
   "pygments_lexer": "ipython3",
   "version": "3.6.8"
  },
  "varInspector": {
   "cols": {
    "lenName": 16,
    "lenType": 16,
    "lenVar": 40
   },
   "kernels_config": {
    "python": {
     "delete_cmd_postfix": "",
     "delete_cmd_prefix": "del ",
     "library": "var_list.py",
     "varRefreshCmd": "print(var_dic_list())"
    },
    "r": {
     "delete_cmd_postfix": ") ",
     "delete_cmd_prefix": "rm(",
     "library": "var_list.r",
     "varRefreshCmd": "cat(var_dic_list()) "
    }
   },
   "types_to_exclude": [
    "module",
    "function",
    "builtin_function_or_method",
    "instance",
    "_Feature"
   ],
   "window_display": false
  }
 },
 "nbformat": 4,
 "nbformat_minor": 2
}
