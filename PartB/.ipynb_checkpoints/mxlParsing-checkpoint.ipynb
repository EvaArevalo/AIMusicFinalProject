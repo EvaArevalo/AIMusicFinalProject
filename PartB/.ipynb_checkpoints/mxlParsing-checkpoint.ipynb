{
 "cells": [
  {
   "cell_type": "markdown",
   "metadata": {},
   "source": [
    "# 0. Extract from MXL"
   ]
  },
  {
   "cell_type": "code",
   "execution_count": null,
   "metadata": {
    "ExecuteTime": {
     "end_time": "2019-12-22T04:48:39.921843Z",
     "start_time": "2019-12-22T04:48:39.904849Z"
    }
   },
   "outputs": [],
   "source": [
    "import zipfile\n",
    "import glob\n",
    "\n",
    "filename = \"XMLs/Alta_cancion.mxl\"\n",
    "with zipfile.ZipFile(filename, 'r') as zipfile:\n",
    "    zipfile.extractall('XMLs/Alta_cancion')"
   ]
  },
  {
   "cell_type": "markdown",
   "metadata": {},
   "source": [
    "# 1. Read XML"
   ]
  },
  {
   "cell_type": "code",
   "execution_count": 119,
   "metadata": {
    "ExecuteTime": {
     "end_time": "2019-12-22T04:48:53.100758Z",
     "start_time": "2019-12-22T04:48:53.087761Z"
    }
   },
   "outputs": [],
   "source": [
    "import xml.etree.cElementTree as ET\n",
    "\n",
    "filename = \"../../XMLs/至少還有你_主旋律.musicxml\"\n",
    "tree = ET.parse(filename)"
   ]
  },
  {
   "cell_type": "code",
   "execution_count": 120,
   "metadata": {
    "ExecuteTime": {
     "end_time": "2019-12-22T04:48:53.289727Z",
     "start_time": "2019-12-22T04:48:53.282728Z"
    }
   },
   "outputs": [
    {
     "data": {
      "text/plain": [
       "('score-partwise', {'version': '3.1'})"
      ]
     },
     "execution_count": 120,
     "metadata": {},
     "output_type": "execute_result"
    }
   ],
   "source": [
    "root = tree.getroot()\n",
    "root.tag, root.attrib"
   ]
  },
  {
   "cell_type": "code",
   "execution_count": 121,
   "metadata": {
    "ExecuteTime": {
     "end_time": "2019-12-22T04:48:53.491695Z",
     "start_time": "2019-12-22T04:48:53.485695Z"
    }
   },
   "outputs": [],
   "source": [
    "all_notes = root.findall('.//note')"
   ]
  },
  {
   "cell_type": "code",
   "execution_count": 122,
   "metadata": {
    "ExecuteTime": {
     "end_time": "2019-12-22T04:48:53.766653Z",
     "start_time": "2019-12-22T04:48:53.749655Z"
    }
   },
   "outputs": [],
   "source": [
    "lyric_notes = []\n",
    "for note in all_notes:\n",
    "    n = {}\n",
    "    if note.find('lyric') is not None:\n",
    "        n['type'] = note.find('type').text\n",
    "        n['lyric'] = note.find('./lyric/text').text\n",
    "        n['pitch'] = note.find('./pitch/step').text + note.find('./pitch/octave').text\n",
    "        if note.find('./pitch/alter') is not None:\n",
    "            if note.find('./pitch/alter').text == '-1':\n",
    "                p = n['pitch'][0] + 'b' + n['pitch'][1]\n",
    "                n['pitch'] = p\n",
    "            else:\n",
    "                n['pitch'] = n['pitch'][0] + '#' + n['pitch'][1]\n",
    "                \n",
    "        lyric_notes.append(n)"
   ]
  },
  {
   "cell_type": "code",
   "execution_count": 123,
   "metadata": {
    "ExecuteTime": {
     "end_time": "2019-12-22T04:48:54.573524Z",
     "start_time": "2019-12-22T04:48:54.567524Z"
    }
   },
   "outputs": [
    {
     "data": {
      "text/plain": [
       "159"
      ]
     },
     "execution_count": 123,
     "metadata": {},
     "output_type": "execute_result"
    }
   ],
   "source": [
    "len(lyric_notes)"
   ]
  },
  {
   "cell_type": "code",
   "execution_count": 124,
   "metadata": {
    "ExecuteTime": {
     "end_time": "2019-12-22T04:48:54.800488Z",
     "start_time": "2019-12-22T04:48:54.773494Z"
    }
   },
   "outputs": [
    {
     "data": {
      "text/plain": [
       "[{'type': '16th', 'lyric': '我', 'pitch': 'G4'},\n",
       " {'type': '16th', 'lyric': '怕', 'pitch': 'G4'},\n",
       " {'type': 'eighth', 'lyric': '來', 'pitch': 'F#4'},\n",
       " {'type': '16th', 'lyric': '不', 'pitch': 'A4'},\n",
       " {'type': '16th', 'lyric': '幾', 'pitch': 'D5'},\n",
       " {'type': '16th', 'lyric': '我', 'pitch': 'A4'},\n",
       " {'type': '16th', 'lyric': '要', 'pitch': 'A4'},\n",
       " {'type': 'eighth', 'lyric': '抱', 'pitch': 'D5'},\n",
       " {'type': '16th', 'lyric': '著', 'pitch': 'A4'},\n",
       " {'type': '16th', 'lyric': '你', 'pitch': 'B4'},\n",
       " {'type': '16th', 'lyric': '直', 'pitch': 'G4'},\n",
       " {'type': '16th', 'lyric': '到', 'pitch': 'G4'},\n",
       " {'type': 'eighth', 'lyric': '感', 'pitch': 'F#4'},\n",
       " {'type': 'eighth', 'lyric': '覺', 'pitch': 'A4'},\n",
       " {'type': 'eighth', 'lyric': '你', 'pitch': 'D5'},\n",
       " {'type': '16th', 'lyric': '的', 'pitch': 'E5'},\n",
       " {'type': '16th', 'lyric': '皺', 'pitch': 'E5'},\n",
       " {'type': 'eighth', 'lyric': '紋', 'pitch': 'D5'},\n",
       " {'type': '16th', 'lyric': '有', 'pitch': 'D5'},\n",
       " {'type': '16th', 'lyric': '了', 'pitch': 'E5'},\n",
       " {'type': 'eighth', 'lyric': '歲', 'pitch': 'F#5'},\n",
       " {'type': '16th', 'lyric': '月', 'pitch': 'C#5'},\n",
       " {'type': '16th', 'lyric': '的', 'pitch': 'C#5'},\n",
       " {'type': 'eighth', 'lyric': '痕', 'pitch': 'B4'},\n",
       " {'type': 'quarter', 'lyric': '跡', 'pitch': 'C#5'},\n",
       " {'type': '16th', 'lyric': '直', 'pitch': 'A4'},\n",
       " {'type': '16th', 'lyric': '到', 'pitch': 'A4'},\n",
       " {'type': 'eighth', 'lyric': '肯', 'pitch': 'B4'},\n",
       " {'type': 'eighth', 'lyric': '定', 'pitch': 'D5'},\n",
       " {'type': 'eighth', 'lyric': '你', 'pitch': 'D5'},\n",
       " {'type': '16th', 'lyric': '是', 'pitch': 'B4'},\n",
       " {'type': '16th', 'lyric': '真', 'pitch': 'E5'},\n",
       " {'type': 'eighth', 'lyric': '的', 'pitch': 'D5'},\n",
       " {'type': 'eighth', 'lyric': '直', 'pitch': 'A4'},\n",
       " {'type': 'eighth', 'lyric': '到', 'pitch': 'A4'},\n",
       " {'type': 'eighth', 'lyric': '不', 'pitch': 'F#5'},\n",
       " {'type': '16th', 'lyric': '能', 'pitch': 'G5'},\n",
       " {'type': '16th', 'lyric': '呼', 'pitch': 'G5'},\n",
       " {'type': 'quarter', 'lyric': '吸', 'pitch': 'F#5'},\n",
       " {'type': 'eighth', 'lyric': '為', 'pitch': 'F#5'},\n",
       " {'type': '16th', 'lyric': '了', 'pitch': 'B4'},\n",
       " {'type': '16th', 'lyric': '你', 'pitch': 'D5'},\n",
       " {'type': '16th', 'lyric': '我', 'pitch': 'Bb4'},\n",
       " {'type': 'eighth', 'lyric': '願', 'pitch': 'Bb4'},\n",
       " {'type': 'half', 'lyric': '意', 'pitch': 'A4'},\n",
       " {'type': '16th', 'lyric': '動', 'pitch': 'G4'},\n",
       " {'type': '16th', 'lyric': '也', 'pitch': 'G4'},\n",
       " {'type': 'eighth', 'lyric': '不', 'pitch': 'F#4'},\n",
       " {'type': '16th', 'lyric': '能', 'pitch': 'A4'},\n",
       " {'type': '16th', 'lyric': '動', 'pitch': 'D5'},\n",
       " {'type': '16th', 'lyric': '也', 'pitch': 'A4'},\n",
       " {'type': '16th', 'lyric': '要', 'pitch': 'A4'},\n",
       " {'type': 'eighth', 'lyric': '看', 'pitch': 'D5'},\n",
       " {'type': '16th', 'lyric': '著', 'pitch': 'A4'},\n",
       " {'type': '16th', 'lyric': '你', 'pitch': 'B4'},\n",
       " {'type': '16th', 'lyric': '直', 'pitch': 'G4'},\n",
       " {'type': '16th', 'lyric': '到', 'pitch': 'G4'},\n",
       " {'type': 'eighth', 'lyric': '感', 'pitch': 'F#4'},\n",
       " {'type': '16th', 'lyric': '覺', 'pitch': 'A4'},\n",
       " {'type': '16th', 'lyric': '你', 'pitch': 'D5'},\n",
       " {'type': '16th', 'lyric': '的', 'pitch': 'E5'},\n",
       " {'type': '16th', 'lyric': '髮', 'pitch': 'E5'},\n",
       " {'type': 'eighth', 'lyric': '線', 'pitch': 'D5'},\n",
       " {'type': '16th', 'lyric': '有', 'pitch': 'D5'},\n",
       " {'type': '16th', 'lyric': '了', 'pitch': 'E5'},\n",
       " {'type': 'eighth', 'lyric': '白', 'pitch': 'F#5'},\n",
       " {'type': '16th', 'lyric': '雪', 'pitch': 'C#5'},\n",
       " {'type': '16th', 'lyric': '的', 'pitch': 'C#5'},\n",
       " {'type': 'eighth', 'lyric': '痕', 'pitch': 'D5'},\n",
       " {'type': 'quarter', 'lyric': '跡', 'pitch': 'C#5'},\n",
       " {'type': '16th', 'lyric': '直', 'pitch': 'A4'},\n",
       " {'type': '16th', 'lyric': '到', 'pitch': 'A4'},\n",
       " {'type': 'eighth', 'lyric': '視', 'pitch': 'B4'},\n",
       " {'type': 'eighth', 'lyric': '線', 'pitch': 'D5'},\n",
       " {'type': 'eighth', 'lyric': '變', 'pitch': 'D5'},\n",
       " {'type': '16th', 'lyric': '的', 'pitch': 'B4'},\n",
       " {'type': '16th', 'lyric': '模', 'pitch': 'E5'},\n",
       " {'type': 'eighth', 'lyric': '糊', 'pitch': 'D5'},\n",
       " {'type': 'eighth', 'lyric': '直', 'pitch': 'A4'},\n",
       " {'type': 'eighth', 'lyric': '到', 'pitch': 'A4'},\n",
       " {'type': 'eighth', 'lyric': '不', 'pitch': 'F#5'},\n",
       " {'type': '16th', 'lyric': '能', 'pitch': 'G5'},\n",
       " {'type': '16th', 'lyric': '呼', 'pitch': 'G5'},\n",
       " {'type': 'quarter', 'lyric': '吸', 'pitch': 'F#5'},\n",
       " {'type': 'eighth', 'lyric': '讓', 'pitch': 'F#5'},\n",
       " {'type': '16th', 'lyric': '你', 'pitch': 'B4'},\n",
       " {'type': '16th', 'lyric': '我', 'pitch': 'D5'},\n",
       " {'type': '16th', 'lyric': '形', 'pitch': 'A4'},\n",
       " {'type': 'eighth', 'lyric': '影', 'pitch': 'B4'},\n",
       " {'type': 'eighth', 'lyric': '不', 'pitch': 'D5'},\n",
       " {'type': 'half', 'lyric': '離', 'pitch': 'D5'},\n",
       " {'type': 'quarter', 'lyric': '如', 'pitch': 'D5'},\n",
       " {'type': 'quarter', 'lyric': '果', 'pitch': 'E5'},\n",
       " {'type': 'eighth', 'lyric': '全', 'pitch': 'F#5'},\n",
       " {'type': 'eighth', 'lyric': '世', 'pitch': 'F#5'},\n",
       " {'type': 'eighth', 'lyric': '界', 'pitch': 'F#5'},\n",
       " {'type': '16th', 'lyric': '我', 'pitch': 'F#5'},\n",
       " {'type': '16th', 'lyric': '也', 'pitch': 'E5'},\n",
       " {'type': '16th', 'lyric': '可', 'pitch': 'F#5'},\n",
       " {'type': '16th', 'lyric': '以', 'pitch': 'F#5'},\n",
       " {'type': 'eighth', 'lyric': '放', 'pitch': 'A5'},\n",
       " {'type': 'eighth', 'lyric': '棄', 'pitch': 'A5'},\n",
       " {'type': '16th', 'lyric': '至', 'pitch': 'A4'},\n",
       " {'type': '16th', 'lyric': '少', 'pitch': 'A4'},\n",
       " {'type': 'eighth', 'lyric': '還', 'pitch': 'F#5'},\n",
       " {'type': '16th', 'lyric': '有', 'pitch': 'E5'},\n",
       " {'type': '16th', 'lyric': '你', 'pitch': 'E5'},\n",
       " {'type': '16th', 'lyric': '值', 'pitch': 'E5'},\n",
       " {'type': '16th', 'lyric': '得', 'pitch': 'D5'},\n",
       " {'type': '16th', 'lyric': '我', 'pitch': 'E5'},\n",
       " {'type': '16th', 'lyric': '去', 'pitch': 'E5'},\n",
       " {'type': 'eighth', 'lyric': '珍', 'pitch': 'A5'},\n",
       " {'type': 'eighth', 'lyric': '惜', 'pitch': 'A5'},\n",
       " {'type': '16th', 'lyric': '而', 'pitch': 'A4'},\n",
       " {'type': '16th', 'lyric': '你', 'pitch': 'A4'},\n",
       " {'type': 'eighth', 'lyric': '在', 'pitch': 'E5'},\n",
       " {'type': '16th', 'lyric': '這', 'pitch': 'D5'},\n",
       " {'type': '16th', 'lyric': '裡', 'pitch': 'D5'},\n",
       " {'type': '16th', 'lyric': '就', 'pitch': 'A4'},\n",
       " {'type': '16th', 'lyric': '是', 'pitch': 'A4'},\n",
       " {'type': '16th', 'lyric': '生', 'pitch': 'F5'},\n",
       " {'type': 'eighth', 'lyric': '命', 'pitch': 'E5'},\n",
       " {'type': 'eighth', 'lyric': '的', 'pitch': 'E5'},\n",
       " {'type': '16th', 'lyric': '奇', 'pitch': 'Bb4'},\n",
       " {'type': '16th', 'lyric': '蹟', 'pitch': 'A4'},\n",
       " {'type': 'quarter', 'lyric': '也', 'pitch': 'D5'},\n",
       " {'type': 'quarter', 'lyric': '許', 'pitch': 'E5'},\n",
       " {'type': 'eighth', 'lyric': '全', 'pitch': 'F#5'},\n",
       " {'type': 'eighth', 'lyric': '世', 'pitch': 'F#5'},\n",
       " {'type': 'eighth', 'lyric': '界', 'pitch': 'F#5'},\n",
       " {'type': '16th', 'lyric': '我', 'pitch': 'F#5'},\n",
       " {'type': '16th', 'lyric': '也', 'pitch': 'E5'},\n",
       " {'type': '16th', 'lyric': '可', 'pitch': 'F#5'},\n",
       " {'type': '16th', 'lyric': '以', 'pitch': 'F#5'},\n",
       " {'type': 'eighth', 'lyric': '忘', 'pitch': 'A5'},\n",
       " {'type': 'eighth', 'lyric': '記', 'pitch': 'A5'},\n",
       " {'type': '16th', 'lyric': '就', 'pitch': 'A4'},\n",
       " {'type': '16th', 'lyric': '是', 'pitch': 'A4'},\n",
       " {'type': 'eighth', 'lyric': '不', 'pitch': 'F#5'},\n",
       " {'type': '16th', 'lyric': '願', 'pitch': 'E5'},\n",
       " {'type': '16th', 'lyric': '意', 'pitch': 'E5'},\n",
       " {'type': '16th', 'lyric': '失', 'pitch': 'E5'},\n",
       " {'type': '16th', 'lyric': '去', 'pitch': 'D5'},\n",
       " {'type': '16th', 'lyric': '你', 'pitch': 'E5'},\n",
       " {'type': '16th', 'lyric': '的', 'pitch': 'E5'},\n",
       " {'type': 'eighth', 'lyric': '消', 'pitch': 'A5'},\n",
       " {'type': 'eighth', 'lyric': '息', 'pitch': 'A5'},\n",
       " {'type': '16th', 'lyric': '你', 'pitch': 'A4'},\n",
       " {'type': '16th', 'lyric': '掌', 'pitch': 'A4'},\n",
       " {'type': 'eighth', 'lyric': '心', 'pitch': 'E5'},\n",
       " {'type': '16th', 'lyric': '的', 'pitch': 'D5'},\n",
       " {'type': '16th', 'lyric': '痣', 'pitch': 'D5'},\n",
       " {'type': '16th', 'lyric': '我', 'pitch': 'A4'},\n",
       " {'type': '16th', 'lyric': '總', 'pitch': 'A4'},\n",
       " {'type': '16th', 'lyric': '記', 'pitch': 'F5'},\n",
       " {'type': 'eighth', 'lyric': '得', 'pitch': 'E5'},\n",
       " {'type': 'eighth', 'lyric': '在', 'pitch': 'E5'},\n",
       " {'type': '16th', 'lyric': '哪', 'pitch': 'D5'},\n",
       " {'type': '16th', 'lyric': '裡', 'pitch': 'D5'}]"
      ]
     },
     "execution_count": 124,
     "metadata": {},
     "output_type": "execute_result"
    }
   ],
   "source": [
    "lyric_notes"
   ]
  },
  {
   "cell_type": "markdown",
   "metadata": {},
   "source": [
    "# 2. Exploring "
   ]
  },
  {
   "cell_type": "code",
   "execution_count": 88,
   "metadata": {},
   "outputs": [],
   "source": [
    "time = root.find('.//time')"
   ]
  },
  {
   "cell_type": "code",
   "execution_count": 90,
   "metadata": {},
   "outputs": [
    {
     "data": {
      "text/plain": [
       "'4'"
      ]
     },
     "execution_count": 90,
     "metadata": {},
     "output_type": "execute_result"
    }
   ],
   "source": [
    "time.find(\".//beats\").text"
   ]
  },
  {
   "cell_type": "code",
   "execution_count": 92,
   "metadata": {},
   "outputs": [
    {
     "data": {
      "text/plain": [
       "'4'"
      ]
     },
     "execution_count": 92,
     "metadata": {},
     "output_type": "execute_result"
    }
   ],
   "source": [
    "time.find(\".//beat-type\").text"
   ]
  },
  {
   "cell_type": "markdown",
   "metadata": {},
   "source": [
    "# 3. Helper classes /functions"
   ]
  },
  {
   "cell_type": "markdown",
   "metadata": {},
   "source": [
    "## 3.1 Helper classes"
   ]
  },
  {
   "cell_type": "code",
   "execution_count": 125,
   "metadata": {
    "ExecuteTime": {
     "end_time": "2019-12-22T04:49:04.461048Z",
     "start_time": "2019-12-22T04:49:04.454048Z"
    }
   },
   "outputs": [],
   "source": [
    "from enum import Enum\n",
    "\n",
    "class NoteTypes(Enum):\n",
    "    '''Class defining types of notes'''\n",
    "    whole = 1\n",
    "    half = 2\n",
    "    quarter = 4\n",
    "    eight = 8\n",
    "    sixteenth = 16\n",
    "    thirtysecond = 32"
   ]
  },
  {
   "cell_type": "code",
   "execution_count": 126,
   "metadata": {
    "ExecuteTime": {
     "end_time": "2019-12-22T04:49:04.639020Z",
     "start_time": "2019-12-22T04:49:04.608026Z"
    }
   },
   "outputs": [],
   "source": [
    "class NoteLetters(Enum):\n",
    "    C = 0\n",
    "    D = 2\n",
    "    E = 4\n",
    "    F = 6\n",
    "    G = 8\n",
    "    A = 10\n",
    "    B = 12"
   ]
  },
  {
   "cell_type": "code",
   "execution_count": 127,
   "metadata": {
    "ExecuteTime": {
     "end_time": "2019-12-22T04:49:04.762000Z",
     "start_time": "2019-12-22T04:49:04.732007Z"
    }
   },
   "outputs": [
    {
     "name": "stdout",
     "output_type": "stream",
     "text": [
      "Note: C4 / quarter / None\n"
     ]
    }
   ],
   "source": [
    "n2 = Note('quarter','C','4',None,None)\n",
    "n2.printNote()"
   ]
  },
  {
   "cell_type": "code",
   "execution_count": 128,
   "metadata": {
    "ExecuteTime": {
     "end_time": "2019-12-22T04:49:04.918975Z",
     "start_time": "2019-12-22T04:49:04.886981Z"
    }
   },
   "outputs": [
    {
     "data": {
      "text/plain": [
       "2"
      ]
     },
     "execution_count": 128,
     "metadata": {},
     "output_type": "execute_result"
    }
   ],
   "source": [
    "#raise by 2 semitones\n",
    "newval = getattr(NoteLetters,n2.step).value+2\n",
    "newval"
   ]
  },
  {
   "cell_type": "code",
   "execution_count": 129,
   "metadata": {
    "ExecuteTime": {
     "end_time": "2019-12-22T04:49:05.029958Z",
     "start_time": "2019-12-22T04:49:05.023958Z"
    }
   },
   "outputs": [
    {
     "data": {
      "text/plain": [
       "2"
      ]
     },
     "execution_count": 129,
     "metadata": {},
     "output_type": "execute_result"
    }
   ],
   "source": [
    "newval%14"
   ]
  },
  {
   "cell_type": "code",
   "execution_count": 130,
   "metadata": {
    "ExecuteTime": {
     "end_time": "2019-12-22T04:49:05.159937Z",
     "start_time": "2019-12-22T04:49:05.154938Z"
    }
   },
   "outputs": [
    {
     "data": {
      "text/plain": [
       "<NoteLetters.D: 2>"
      ]
     },
     "execution_count": 130,
     "metadata": {},
     "output_type": "execute_result"
    }
   ],
   "source": [
    "NoteLetters(newval%14)"
   ]
  },
  {
   "cell_type": "code",
   "execution_count": 131,
   "metadata": {
    "ExecuteTime": {
     "end_time": "2019-12-22T04:49:05.281919Z",
     "start_time": "2019-12-22T04:49:05.276919Z"
    }
   },
   "outputs": [
    {
     "data": {
      "text/plain": [
       "'D'"
      ]
     },
     "execution_count": 131,
     "metadata": {},
     "output_type": "execute_result"
    }
   ],
   "source": [
    "NoteLetters(newval).name"
   ]
  },
  {
   "cell_type": "code",
   "execution_count": 132,
   "metadata": {
    "ExecuteTime": {
     "end_time": "2019-12-22T04:49:05.414899Z",
     "start_time": "2019-12-22T04:49:05.406898Z"
    }
   },
   "outputs": [
    {
     "data": {
      "text/plain": [
       "-2"
      ]
     },
     "execution_count": 132,
     "metadata": {},
     "output_type": "execute_result"
    }
   ],
   "source": [
    "#lower by 2 semitones\n",
    "newval = getattr(NoteLetters,n2.step).value-2\n",
    "newval"
   ]
  },
  {
   "cell_type": "code",
   "execution_count": 133,
   "metadata": {
    "ExecuteTime": {
     "end_time": "2019-12-22T04:49:05.544875Z",
     "start_time": "2019-12-22T04:49:05.538878Z"
    }
   },
   "outputs": [
    {
     "data": {
      "text/plain": [
       "<NoteLetters.B: 12>"
      ]
     },
     "execution_count": 133,
     "metadata": {},
     "output_type": "execute_result"
    }
   ],
   "source": [
    "NoteLetters(newval%14)"
   ]
  },
  {
   "cell_type": "code",
   "execution_count": 134,
   "metadata": {
    "ExecuteTime": {
     "end_time": "2019-12-22T04:49:05.683855Z",
     "start_time": "2019-12-22T04:49:05.677855Z"
    }
   },
   "outputs": [
    {
     "data": {
      "text/plain": [
       "'B'"
      ]
     },
     "execution_count": 134,
     "metadata": {},
     "output_type": "execute_result"
    }
   ],
   "source": [
    "NoteLetters(newval%14).name"
   ]
  },
  {
   "cell_type": "code",
   "execution_count": 135,
   "metadata": {
    "ExecuteTime": {
     "end_time": "2019-12-22T04:49:06.326795Z",
     "start_time": "2019-12-22T04:49:06.318793Z"
    }
   },
   "outputs": [
    {
     "name": "stdout",
     "output_type": "stream",
     "text": [
      "Note: B4 / quarter / None\n"
     ]
    },
    {
     "data": {
      "text/plain": [
       "14"
      ]
     },
     "execution_count": 135,
     "metadata": {},
     "output_type": "execute_result"
    }
   ],
   "source": [
    "#new note at the nottom, lower by 2 semitones\n",
    "n3 = Note('quarter','B','4',None,None)\n",
    "n3.printNote()\n",
    "newval = getattr(NoteLetters,n3.step).value+2\n",
    "newval"
   ]
  },
  {
   "cell_type": "code",
   "execution_count": 136,
   "metadata": {
    "ExecuteTime": {
     "end_time": "2019-12-22T04:49:06.552759Z",
     "start_time": "2019-12-22T04:49:06.546757Z"
    }
   },
   "outputs": [
    {
     "data": {
      "text/plain": [
       "<NoteLetters.C: 0>"
      ]
     },
     "execution_count": 136,
     "metadata": {},
     "output_type": "execute_result"
    }
   ],
   "source": [
    "NoteLetters(newval%14)"
   ]
  },
  {
   "cell_type": "code",
   "execution_count": 137,
   "metadata": {
    "ExecuteTime": {
     "end_time": "2019-12-22T04:49:07.601626Z",
     "start_time": "2019-12-22T04:49:07.595627Z"
    }
   },
   "outputs": [
    {
     "data": {
      "text/plain": [
       "'C'"
      ]
     },
     "execution_count": 137,
     "metadata": {},
     "output_type": "execute_result"
    }
   ],
   "source": [
    "NoteLetters(newval%14).name"
   ]
  },
  {
   "cell_type": "code",
   "execution_count": 138,
   "metadata": {
    "ExecuteTime": {
     "end_time": "2019-12-22T04:49:08.289517Z",
     "start_time": "2019-12-22T04:49:08.270522Z"
    }
   },
   "outputs": [],
   "source": [
    "class Note:\n",
    "    '''Class representing a musical note'''\n",
    "    notetype = None\n",
    "    step = ''\n",
    "    octave = 0\n",
    "    so = None\n",
    "    tie = None\n",
    "    accidental = None\n",
    "    \n",
    "    def __init__(self,notetype,step,octave,tie,accidental):\n",
    "        self.notetype = notetype\n",
    "        self.step = step\n",
    "        self.octave = int(octave)\n",
    "        self.tie = tie\n",
    "        if accidental:\n",
    "            self.so = step + accidental + str(octave)\n",
    "        else:\n",
    "            self.so = step + str(octave)\n",
    "        self.accidental = accidental\n",
    "    \n",
    "    def printNote(self):\n",
    "        if self.step=='':\n",
    "            print('Note: ' + 'rest' + ' / ' +\n",
    "              str(self.notetype))\n",
    "        else:\n",
    "            print('Note: ' + str(self.so) + ' / ' +\n",
    "              str(self.notetype) + ' / ' +\n",
    "              str(self.tie))\n",
    "            \n",
    "    def addOctaves(self,addOct):\n",
    "        self.octave += addOct\n",
    "        \n",
    "    def copyNote(self):\n",
    "        ncopy = Note(self.notetype,self.step,self.octave,self.tie,self.accidental)\n",
    "        return ncopy\n",
    "    \n",
    "    def addSemiTone(self,semiTToAdd):\n",
    "        \n",
    "        #get relative position of new note\n",
    "        newVal = getattr(NoteLetters,self.step).value + semiTToAdd\n",
    "        \n",
    "        #handle semitones first\n",
    "        if (semiTToAdd%2!=0):\n",
    "            \n",
    "            if self.accidental == '#':\n",
    "                self.accidental = None\n",
    "                newVal += 1\n",
    "\n",
    "            elif self.accidental == 'b':\n",
    "                self.accidental = None\n",
    "                newVal -= 1\n",
    "            \n",
    "            elif not self.accidental:\n",
    "                self.accidental = '#'\n",
    "                #if neg, round to lowest mult of 2\n",
    "                if newVal<0:\n",
    "                    newVal -= 1\n",
    "                #if pos, round to nearest mult of 1\n",
    "                elif newVal>0:\n",
    "                    newVal += 1\n",
    "                \n",
    "            #natural, assumes sharps in score\n",
    "            else:\n",
    "                self.accidental = None\n",
    "\n",
    "        \n",
    "\n",
    "       \n",
    "        #Change step within same octave\n",
    "        if newVal>=0 and newVal<14:\n",
    "            self.step=NoteLetters(newVal).name\n",
    "        \n",
    "        #change step to a lower octave\n",
    "        elif newVal<0:\n",
    "            self.step = NoteLetters(newVal%14).name\n",
    "            self.octave -= 1\n",
    "        \n",
    "        #change step to a higher octave\n",
    "        elif newVal>=14:\n",
    "            self.step = NoteLetters(newVal%14).name\n",
    "            self.octave += 1     \n",
    "\n",
    "        "
   ]
  },
  {
   "cell_type": "code",
   "execution_count": 139,
   "metadata": {
    "ExecuteTime": {
     "end_time": "2019-12-22T04:49:08.525478Z",
     "start_time": "2019-12-22T04:49:08.513481Z"
    }
   },
   "outputs": [],
   "source": [
    "class Measure:\n",
    "    '''Class representing a measure'''\n",
    "    notes = []\n",
    "    \n",
    "    def __init__(self,notes):\n",
    "        self.notes = notes\n",
    "    \n",
    "    def get_sos(self):\n",
    "        sos = []\n",
    "        for note in self.notes:\n",
    "            sos.append(note.so)\n",
    "        return sos\n",
    "    \n",
    "    def get_notetypes(self):\n",
    "        notetypes = []\n",
    "        for note in self.notes:\n",
    "            notetypes.append(note.notetype)\n",
    "        return notetypes \n",
    "    \n",
    "    def get_ties(self):\n",
    "        ties = []\n",
    "        for tie in self.notes:\n",
    "            ties.append(note.tie)\n",
    "        return ties \n",
    "    \n",
    "    def printMeasure(self):\n",
    "        for note in self.notes:\n",
    "            note.printNote()"
   ]
  },
  {
   "cell_type": "markdown",
   "metadata": {},
   "source": [
    "## 3.2 Helper functions"
   ]
  },
  {
   "cell_type": "code",
   "execution_count": 140,
   "metadata": {
    "ExecuteTime": {
     "end_time": "2019-12-22T04:49:11.459953Z",
     "start_time": "2019-12-22T04:49:11.454953Z"
    }
   },
   "outputs": [],
   "source": [
    "def get_ts_xml(root):\n",
    "    '''Gets time signature for a musicxml file.\n",
    "    Input: Root of XML Tree\n",
    "    Output:top and bottom numbers of the Time signature'''\n",
    "    time = root.find('.//time')\n",
    "    top = int(time.find(\".//beats\").text)\n",
    "    bottom = int(time.find(\".//beat-type\").text)\n",
    "    return top,bottom"
   ]
  },
  {
   "cell_type": "code",
   "execution_count": 141,
   "metadata": {
    "ExecuteTime": {
     "end_time": "2019-12-22T04:49:12.165374Z",
     "start_time": "2019-12-22T04:49:12.158395Z"
    }
   },
   "outputs": [
    {
     "data": {
      "text/plain": [
       "(4, 4)"
      ]
     },
     "execution_count": 141,
     "metadata": {},
     "output_type": "execute_result"
    }
   ],
   "source": [
    "get_ts_xml(root)"
   ]
  },
  {
   "cell_type": "code",
   "execution_count": 142,
   "metadata": {
    "ExecuteTime": {
     "end_time": "2019-12-22T04:49:12.525316Z",
     "start_time": "2019-12-22T04:49:12.518318Z"
    }
   },
   "outputs": [],
   "source": [
    "def get_bpm_xml(root):\n",
    "    '''Gets beats per minute as well as type of beats for a musicxml file.\n",
    "    Input: Root of XML Tree\n",
    "    Output: beats per minute, noteType'''\n",
    "    metronome = root.find('.//metronome')\n",
    "    beats_per_min = int(metronome.find('.//per-minute').text)\n",
    "    beat_type = metronome.find('.//beat-unit').text\n",
    "    #beat_type = getattr(NoteTypes, str(beat_type))\n",
    "    return beats_per_min, beat_type"
   ]
  },
  {
   "cell_type": "code",
   "execution_count": 143,
   "metadata": {
    "ExecuteTime": {
     "end_time": "2019-12-22T04:49:13.032237Z",
     "start_time": "2019-12-22T04:49:13.025240Z"
    }
   },
   "outputs": [
    {
     "data": {
      "text/plain": [
       "(62, 'quarter')"
      ]
     },
     "execution_count": 143,
     "metadata": {},
     "output_type": "execute_result"
    }
   ],
   "source": [
    "get_bpm_xml(root)"
   ]
  },
  {
   "cell_type": "code",
   "execution_count": 144,
   "metadata": {
    "ExecuteTime": {
     "end_time": "2019-12-22T04:49:13.502490Z",
     "start_time": "2019-12-22T04:49:13.490494Z"
    }
   },
   "outputs": [],
   "source": [
    "def decode_xml_note(xml_note):\n",
    "    '''Gets note type, step, octave and tie type'''\n",
    "    try:\n",
    "        notetype = xml_note.find('.//type').text\n",
    "    except:\n",
    "        notetype = None\n",
    "    try:\n",
    "        step = xml_note.find('.//step').text\n",
    "    except:\n",
    "        step = ''\n",
    "    try:\n",
    "        octave = xml_note.find('.//octave').text\n",
    "    except:\n",
    "        octave = 0\n",
    "    try:\n",
    "        tie = xml_note.find('.//tie').get('type')\n",
    "    except:\n",
    "        tie = None\n",
    "    try:\n",
    "        accidental = xml_note.find('.//accidental').text\n",
    "        if accidental == 'natural':\n",
    "            accidental = '*'\n",
    "        if accidental == 'flat':\n",
    "            accidental = 'b'\n",
    "        if accidental == 'sharp':\n",
    "            accidental = '#'\n",
    "            \n",
    "    except:\n",
    "        accidental = None\n",
    "        \n",
    "    note = Note(notetype,step,octave,tie,accidental)\n",
    "    #DEBUG\n",
    "    #note.printNote()\n",
    "    \n",
    "    return note"
   ]
  },
  {
   "cell_type": "code",
   "execution_count": 145,
   "metadata": {
    "ExecuteTime": {
     "end_time": "2019-12-22T04:49:13.760450Z",
     "start_time": "2019-12-22T04:49:13.752452Z"
    }
   },
   "outputs": [
    {
     "data": {
      "text/plain": [
       "<__main__.Note at 0x1b8370f1780>"
      ]
     },
     "execution_count": 145,
     "metadata": {},
     "output_type": "execute_result"
    }
   ],
   "source": [
    "measures = root.findall('.//measure')\n",
    "xml_measure_notes = measures[4].findall('.//note')\n",
    "xml_note = xml_measure_notes[0]\n",
    "decode_xml_note(xml_note)"
   ]
  },
  {
   "cell_type": "code",
   "execution_count": 146,
   "metadata": {
    "ExecuteTime": {
     "end_time": "2019-12-22T04:49:14.267408Z",
     "start_time": "2019-12-22T04:49:14.262407Z"
    }
   },
   "outputs": [],
   "source": [
    "# return all notes in a measure\n",
    "def get_meas_notes_xml(xml_measure_notes):\n",
    "    notes = []\n",
    "    for xml_note in xml_measure_notes:\n",
    "        note = decode_xml_note(xml_note)\n",
    "        if note.notetype:\n",
    "            notes.append(note)\n",
    "        #DEBUG\n",
    "        #note.printNote()\n",
    "    return notes"
   ]
  },
  {
   "cell_type": "code",
   "execution_count": 147,
   "metadata": {
    "ExecuteTime": {
     "end_time": "2019-12-22T04:49:14.454355Z",
     "start_time": "2019-12-22T04:49:14.447358Z"
    }
   },
   "outputs": [
    {
     "data": {
      "text/plain": [
       "[<__main__.Note at 0x1b8370f1160>,\n",
       " <__main__.Note at 0x1b8370f11d0>,\n",
       " <__main__.Note at 0x1b8370f1d68>,\n",
       " <__main__.Note at 0x1b8370f17f0>,\n",
       " <__main__.Note at 0x1b8370f1048>,\n",
       " <__main__.Note at 0x1b8370f14a8>,\n",
       " <__main__.Note at 0x1b8370f1198>]"
      ]
     },
     "execution_count": 147,
     "metadata": {},
     "output_type": "execute_result"
    }
   ],
   "source": [
    "get_meas_notes_xml(xml_measure_notes)"
   ]
  },
  {
   "cell_type": "markdown",
   "metadata": {},
   "source": [
    "## 3.3 Try to use classes"
   ]
  },
  {
   "cell_type": "code",
   "execution_count": 148,
   "metadata": {
    "ExecuteTime": {
     "end_time": "2019-12-22T04:49:14.827389Z",
     "start_time": "2019-12-22T04:49:14.814386Z"
    }
   },
   "outputs": [
    {
     "ename": "NameError",
     "evalue": "name 'xml_measure_4' is not defined",
     "output_type": "error",
     "traceback": [
      "\u001b[1;31m------------------------------------------------------------\u001b[0m",
      "\u001b[1;31mNameError\u001b[0m                  Traceback (most recent call last)",
      "\u001b[1;32m<ipython-input-148-b7095d6a8268>\u001b[0m in \u001b[0;36m<module>\u001b[1;34m\u001b[0m\n\u001b[1;32m----> 1\u001b[1;33m \u001b[0mxml_measure_4\u001b[0m\u001b[1;33m[\u001b[0m\u001b[1;33m-\u001b[0m\u001b[1;36m1\u001b[0m\u001b[1;33m]\u001b[0m\u001b[1;33m.\u001b[0m\u001b[0mfind\u001b[0m\u001b[1;33m(\u001b[0m\u001b[1;34m'.//tie'\u001b[0m\u001b[1;33m)\u001b[0m\u001b[1;33m.\u001b[0m\u001b[0mget\u001b[0m\u001b[1;33m(\u001b[0m\u001b[1;34m'type'\u001b[0m\u001b[1;33m)\u001b[0m\u001b[1;33m\u001b[0m\u001b[0m\n\u001b[0m",
      "\u001b[1;31mNameError\u001b[0m: name 'xml_measure_4' is not defined"
     ]
    }
   ],
   "source": [
    "xml_measure_4[-1].find('.//tie').get('type')\n"
   ]
  },
  {
   "cell_type": "code",
   "execution_count": 159,
   "metadata": {
    "ExecuteTime": {
     "end_time": "2019-12-22T04:50:17.837389Z",
     "start_time": "2019-12-22T04:50:17.823389Z"
    }
   },
   "outputs": [],
   "source": [
    "#get a note\n",
    "xml_measures = root.findall('.//measure')\n",
    "xml_measure = xml_measures[3].findall('.//note')\n",
    "xml_note = xml_measure[0]\n",
    "note = decode_xml_note(xml_note)\n",
    "note.printNote()"
   ]
  },
  {
   "cell_type": "code",
   "execution_count": 160,
   "metadata": {
    "ExecuteTime": {
     "end_time": "2019-12-22T04:50:43.831209Z",
     "start_time": "2019-12-22T04:50:43.824209Z"
    }
   },
   "outputs": [
    {
     "data": {
      "text/plain": [
       "'A4'"
      ]
     },
     "execution_count": 160,
     "metadata": {},
     "output_type": "execute_result"
    }
   ],
   "source": [
    "note.so"
   ]
  },
  {
   "cell_type": "code",
   "execution_count": 161,
   "metadata": {
    "ExecuteTime": {
     "end_time": "2019-12-22T04:50:46.480090Z",
     "start_time": "2019-12-22T04:50:46.473090Z"
    }
   },
   "outputs": [
    {
     "data": {
      "text/plain": [
       "'16th'"
      ]
     },
     "execution_count": 161,
     "metadata": {},
     "output_type": "execute_result"
    }
   ],
   "source": [
    "note.notetype"
   ]
  },
  {
   "cell_type": "code",
   "execution_count": 162,
   "metadata": {
    "ExecuteTime": {
     "end_time": "2019-12-22T04:50:46.924950Z",
     "start_time": "2019-12-22T04:50:46.920950Z"
    }
   },
   "outputs": [],
   "source": [
    "note.tie"
   ]
  },
  {
   "cell_type": "code",
   "execution_count": 153,
   "metadata": {
    "ExecuteTime": {
     "end_time": "2019-12-22T04:49:16.153066Z",
     "start_time": "2019-12-22T04:49:16.147069Z"
    }
   },
   "outputs": [
    {
     "name": "stdout",
     "output_type": "stream",
     "text": [
      "Note: rest / half\n",
      "Note: rest / quarter\n",
      "Note: rest / eighth\n",
      "Note: G4 / 16th / None\n",
      "Note: G4 / 16th / None\n"
     ]
    }
   ],
   "source": [
    "#get a measure\n",
    "measure = Measure(get_meas_notes_xml(xml_measure))\n",
    "measure.printMeasure()"
   ]
  },
  {
   "cell_type": "code",
   "execution_count": 154,
   "metadata": {
    "ExecuteTime": {
     "end_time": "2019-12-22T04:49:16.471016Z",
     "start_time": "2019-12-22T04:49:16.465017Z"
    }
   },
   "outputs": [
    {
     "data": {
      "text/plain": [
       "['0', '0', '0', 'G4', 'G4']"
      ]
     },
     "execution_count": 154,
     "metadata": {},
     "output_type": "execute_result"
    }
   ],
   "source": [
    "measure.get_sos()"
   ]
  },
  {
   "cell_type": "code",
   "execution_count": 155,
   "metadata": {
    "ExecuteTime": {
     "end_time": "2019-12-22T04:49:16.669990Z",
     "start_time": "2019-12-22T04:49:16.663993Z"
    }
   },
   "outputs": [
    {
     "data": {
      "text/plain": [
       "['half', 'quarter', 'eighth', '16th', '16th']"
      ]
     },
     "execution_count": 155,
     "metadata": {},
     "output_type": "execute_result"
    }
   ],
   "source": [
    "measure.get_notetypes()"
   ]
  },
  {
   "cell_type": "code",
   "execution_count": 156,
   "metadata": {
    "ExecuteTime": {
     "end_time": "2019-12-22T04:49:16.888060Z",
     "start_time": "2019-12-22T04:49:16.881060Z"
    }
   },
   "outputs": [
    {
     "data": {
      "text/plain": [
       "[None, None, None, None, None]"
      ]
     },
     "execution_count": 156,
     "metadata": {},
     "output_type": "execute_result"
    }
   ],
   "source": [
    "measure.get_ties()"
   ]
  },
  {
   "cell_type": "code",
   "execution_count": 163,
   "metadata": {
    "ExecuteTime": {
     "end_time": "2019-12-22T04:51:19.083056Z",
     "start_time": "2019-12-22T04:51:19.068056Z"
    }
   },
   "outputs": [],
   "source": [
    "#read all measures\n",
    "xml_measures = root.findall('.//measure')\n",
    "measures = []\n",
    "\n",
    "for xml_measure in xml_measures:\n",
    "    measure = Measure(get_meas_notes_xml(xml_measure))\n",
    "    if not measure.get_sos()==['0']:\n",
    "        measures.append(measure)"
   ]
  },
  {
   "cell_type": "code",
   "execution_count": 167,
   "metadata": {
    "ExecuteTime": {
     "end_time": "2019-12-22T04:52:23.970544Z",
     "start_time": "2019-12-22T04:52:23.950549Z"
    }
   },
   "outputs": [
    {
     "name": "stdout",
     "output_type": "stream",
     "text": [
      "Note: A4 / 16th / None\n",
      "Note: A4 / 16th / None\n"
     ]
    },
    {
     "ename": "TypeError",
     "evalue": "can only concatenate str (not \"int\") to str",
     "output_type": "error",
     "traceback": [
      "\u001b[1;31m------------------------------------------------------------\u001b[0m",
      "\u001b[1;31mTypeError\u001b[0m                  Traceback (most recent call last)",
      "\u001b[1;32m<ipython-input-167-09c21e31380d>\u001b[0m in \u001b[0;36m<module>\u001b[1;34m\u001b[0m\n\u001b[0;32m      4\u001b[0m \u001b[0mn2\u001b[0m \u001b[1;33m=\u001b[0m \u001b[0mn1\u001b[0m\u001b[1;33m.\u001b[0m\u001b[0mcopyNote\u001b[0m\u001b[1;33m(\u001b[0m\u001b[1;33m)\u001b[0m\u001b[1;33m\u001b[0m\u001b[0m\n\u001b[0;32m      5\u001b[0m \u001b[0mn2\u001b[0m\u001b[1;33m.\u001b[0m\u001b[0mprintNote\u001b[0m\u001b[1;33m(\u001b[0m\u001b[1;33m)\u001b[0m\u001b[1;33m\u001b[0m\u001b[0m\n\u001b[1;32m----> 6\u001b[1;33m \u001b[0mn2\u001b[0m\u001b[1;33m.\u001b[0m\u001b[0maddSemiTone\u001b[0m\u001b[1;33m(\u001b[0m\u001b[1;36m3\u001b[0m\u001b[1;33m)\u001b[0m\u001b[1;33m\u001b[0m\u001b[0m\n\u001b[0m\u001b[0;32m      7\u001b[0m \u001b[0mn2\u001b[0m\u001b[1;33m.\u001b[0m\u001b[0mprintNote\u001b[0m\u001b[1;33m(\u001b[0m\u001b[1;33m)\u001b[0m\u001b[1;33m\u001b[0m\u001b[0m\n",
      "\u001b[1;32m<ipython-input-138-28f03de46a8e>\u001b[0m in \u001b[0;36maddSemiTone\u001b[1;34m(self, semiTToAdd)\u001b[0m\n\u001b[0;32m     79\u001b[0m         \u001b[1;32melif\u001b[0m \u001b[0mnewVal\u001b[0m\u001b[1;33m>=\u001b[0m\u001b[1;36m14\u001b[0m\u001b[1;33m:\u001b[0m\u001b[1;33m\u001b[0m\u001b[0m\n\u001b[0;32m     80\u001b[0m             \u001b[0mself\u001b[0m\u001b[1;33m.\u001b[0m\u001b[0mstep\u001b[0m \u001b[1;33m=\u001b[0m \u001b[0mNoteLetters\u001b[0m\u001b[1;33m(\u001b[0m\u001b[0mnewVal\u001b[0m\u001b[1;33m%\u001b[0m\u001b[1;36m14\u001b[0m\u001b[1;33m)\u001b[0m\u001b[1;33m.\u001b[0m\u001b[0mname\u001b[0m\u001b[1;33m\u001b[0m\u001b[0m\n\u001b[1;32m---> 81\u001b[1;33m             \u001b[0mself\u001b[0m\u001b[1;33m.\u001b[0m\u001b[0moctave\u001b[0m \u001b[1;33m+=\u001b[0m \u001b[1;36m1\u001b[0m\u001b[1;33m\u001b[0m\u001b[0m\n\u001b[0m\u001b[0;32m     82\u001b[0m \u001b[1;33m\u001b[0m\u001b[0m\n\u001b[0;32m     83\u001b[0m \u001b[1;33m\u001b[0m\u001b[0m\n",
      "\u001b[1;31mTypeError\u001b[0m: can only concatenate str (not \"int\") to str"
     ]
    }
   ],
   "source": [
    "#try adding semitones\n",
    "n1 = measures[1].notes[1]\n",
    "n1.printNote()\n",
    "n2 = n1.copyNote()\n",
    "n2.printNote()\n",
    "n2.addSemiTone(3)\n",
    "n2.printNote()"
   ]
  },
  {
   "cell_type": "code",
   "execution_count": 165,
   "metadata": {
    "ExecuteTime": {
     "end_time": "2019-12-22T04:52:02.382717Z",
     "start_time": "2019-12-22T04:52:02.375717Z"
    }
   },
   "outputs": [
    {
     "data": {
      "text/plain": [
       "''"
      ]
     },
     "execution_count": 165,
     "metadata": {},
     "output_type": "execute_result"
    }
   ],
   "source": [
    "n2.step"
   ]
  },
  {
   "cell_type": "markdown",
   "metadata": {},
   "source": [
    "# 4. Read XML and get measures to invert chords"
   ]
  },
  {
   "cell_type": "code",
   "execution_count": 479,
   "metadata": {},
   "outputs": [],
   "source": [
    "xml_measures = root.findall('.//measure')\n",
    "measures = []\n",
    "\n",
    "for xml_measure in xml_measures:\n",
    "    measure = Measure(get_meas_notes_xml(xml_measure))\n",
    "    measures.append(measure)\n",
    "    "
   ]
  },
  {
   "cell_type": "code",
   "execution_count": 474,
   "metadata": {},
   "outputs": [],
   "source": [
    "for measure in measures:\n",
    "    measure.printMeasure()"
   ]
  },
  {
   "cell_type": "code",
   "execution_count": null,
   "metadata": {},
   "outputs": [],
   "source": []
  }
 ],
 "metadata": {
  "kernelspec": {
   "display_name": "Python 3",
   "language": "python",
   "name": "python3"
  },
  "language_info": {
   "codemirror_mode": {
    "name": "ipython",
    "version": 3
   },
   "file_extension": ".py",
   "mimetype": "text/x-python",
   "name": "python",
   "nbconvert_exporter": "python",
   "pygments_lexer": "ipython3",
   "version": "3.7.0"
  },
  "varInspector": {
   "cols": {
    "lenName": 16,
    "lenType": 16,
    "lenVar": 40
   },
   "kernels_config": {
    "python": {
     "delete_cmd_postfix": "",
     "delete_cmd_prefix": "del ",
     "library": "var_list.py",
     "varRefreshCmd": "print(var_dic_list())"
    },
    "r": {
     "delete_cmd_postfix": ") ",
     "delete_cmd_prefix": "rm(",
     "library": "var_list.r",
     "varRefreshCmd": "cat(var_dic_list()) "
    }
   },
   "types_to_exclude": [
    "module",
    "function",
    "builtin_function_or_method",
    "instance",
    "_Feature"
   ],
   "window_display": false
  }
 },
 "nbformat": 4,
 "nbformat_minor": 2
}
