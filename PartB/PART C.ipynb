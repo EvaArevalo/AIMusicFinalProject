{
 "cells": [
  {
   "cell_type": "markdown",
   "metadata": {},
   "source": [
    "# 0. Read Score"
   ]
  },
  {
   "cell_type": "code",
   "execution_count": 1,
   "metadata": {
    "ExecuteTime": {
     "end_time": "2019-12-29T09:42:39.039678Z",
     "start_time": "2019-12-29T09:42:39.005683Z"
    }
   },
   "outputs": [
    {
     "data": {
      "text/plain": [
       "('score-partwise', {'version': '3.1'})"
      ]
     },
     "execution_count": 1,
     "metadata": {},
     "output_type": "execute_result"
    }
   ],
   "source": [
    "import xml.etree.cElementTree as ET\n",
    "\n",
    "filename = \"../../XMLs/至少還有你_主旋律.musicxml\"\n",
    "#filename = \"../../XMLs/jinglebells.xml\"\n",
    "tree = ET.parse(filename)\n",
    "root = tree.getroot()\n",
    "root.tag, root.attrib"
   ]
  },
  {
   "cell_type": "code",
   "execution_count": 2,
   "metadata": {
    "ExecuteTime": {
     "end_time": "2019-12-29T09:42:45.486849Z",
     "start_time": "2019-12-29T09:42:39.319633Z"
    }
   },
   "outputs": [],
   "source": [
    "from mxlParsing import *\n",
    "\n",
    "xml_measures = root.findall('.//measure')\n",
    "measures = []\n",
    "\n",
    "for xml_measure in xml_measures:\n",
    "    measure = Measure(get_meas_notes_xml(xml_measure))\n",
    "    if not measure.getSos()==['0']:\n",
    "        measures.append(measure)\n",
    "        \n",
    "#make parts\n",
    "m21Part_main = measures_to_m21Part(measures)\n",
    "\n",
    "#get time signature\n",
    "top,bottom = get_ts_xml(root)\n",
    "ts = m21.meter.TimeSignature(str(top)+'/'+str(bottom))\n",
    "\n",
    "#build\n",
    "score = build_m21Score_1p(m21Part_main,'zhishaoyouni', ts)\n",
    "score.show('lily.png')"
   ]
  },
  {
   "cell_type": "code",
   "execution_count": null,
   "metadata": {},
   "outputs": [],
   "source": [
    "def xmlToScore(filename):\n",
    "    tree = ET.parse(filename)\n",
    "    root = tree.getroot()\n",
    "    xml_measures = root.findall('.//measure')\n",
    "    measures = []\n",
    "\n",
    "    for xml_measure in xml_measures:\n",
    "        measure = Measure(get_meas_notes_xml(xml_measure))\n",
    "        if not measure.getSos()==['0']:\n",
    "            measures.append(measure)\n",
    "            \n",
    "    return Score(measures)\n",
    "    "
   ]
  },
  {
   "cell_type": "markdown",
   "metadata": {},
   "source": [
    "# 1. Mess around"
   ]
  },
  {
   "cell_type": "code",
   "execution_count": null,
   "metadata": {
    "ExecuteTime": {
     "start_time": "2019-12-29T09:38:43.308Z"
    }
   },
   "outputs": [],
   "source": [
    "import music21 as m21\n",
    "key = score.analyze('key')\n",
    "print(key.tonic.name, key.mode)"
   ]
  },
  {
   "cell_type": "code",
   "execution_count": null,
   "metadata": {
    "ExecuteTime": {
     "start_time": "2019-12-29T09:38:43.312Z"
    }
   },
   "outputs": [],
   "source": [
    "# transpose\n",
    "k = score.analyze('KrumhanslSchmuckler')\n",
    "i = m21.interval.Interval(k.tonic, m21.pitch.Pitch('C'))\n",
    "sNew = score.transpose(i)\n",
    "sNew.show('lily.png')"
   ]
  },
  {
   "cell_type": "code",
   "execution_count": null,
   "metadata": {
    "ExecuteTime": {
     "start_time": "2019-12-29T09:38:43.318Z"
    }
   },
   "outputs": [],
   "source": [
    "score.show('midi')"
   ]
  },
  {
   "cell_type": "markdown",
   "metadata": {
    "ExecuteTime": {
     "end_time": "2019-12-29T02:46:57.382817Z",
     "start_time": "2019-12-29T02:46:57.376817Z"
    }
   },
   "source": [
    "# 2. Getting co-occurence"
   ]
  },
  {
   "cell_type": "code",
   "execution_count": null,
   "metadata": {
    "ExecuteTime": {
     "start_time": "2019-12-29T09:38:43.449Z"
    }
   },
   "outputs": [],
   "source": [
    "import pandas as pd\n",
    "\n",
    "coocc_df = pd.read_pickle('co_occurance_dict.pickle')\n",
    "coocc_df"
   ]
  },
  {
   "cell_type": "code",
   "execution_count": null,
   "metadata": {
    "ExecuteTime": {
     "start_time": "2019-12-29T09:38:43.458Z"
    }
   },
   "outputs": [],
   "source": [
    "df = pd.DataFrame.from_dict(coocc_df)\n",
    "df.head()"
   ]
  },
  {
   "cell_type": "code",
   "execution_count": null,
   "metadata": {
    "ExecuteTime": {
     "start_time": "2019-12-29T09:38:43.463Z"
    }
   },
   "outputs": [],
   "source": [
    "df.index"
   ]
  },
  {
   "cell_type": "code",
   "execution_count": null,
   "metadata": {
    "ExecuteTime": {
     "start_time": "2019-12-29T09:38:43.469Z"
    }
   },
   "outputs": [],
   "source": [
    "df = df.reset_index(level=[0,1])\n",
    "df.head()"
   ]
  },
  {
   "cell_type": "code",
   "execution_count": null,
   "metadata": {
    "ExecuteTime": {
     "start_time": "2019-12-29T09:38:43.477Z"
    }
   },
   "outputs": [],
   "source": [
    "df3.index"
   ]
  },
  {
   "cell_type": "code",
   "execution_count": null,
   "metadata": {
    "ExecuteTime": {
     "start_time": "2019-12-29T09:38:43.481Z"
    }
   },
   "outputs": [],
   "source": [
    "df2 = df.groupby('level_0').sum()\n",
    "df2"
   ]
  },
  {
   "cell_type": "code",
   "execution_count": null,
   "metadata": {
    "ExecuteTime": {
     "start_time": "2019-12-29T09:38:43.484Z"
    }
   },
   "outputs": [],
   "source": [
    "df3 = df2.transpose()\n",
    "df3"
   ]
  },
  {
   "cell_type": "code",
   "execution_count": null,
   "metadata": {
    "ExecuteTime": {
     "start_time": "2019-12-29T09:38:43.491Z"
    }
   },
   "outputs": [],
   "source": [
    "df3 = df3.reset_index(level=[0,1])\n",
    "df3"
   ]
  },
  {
   "cell_type": "code",
   "execution_count": null,
   "metadata": {
    "ExecuteTime": {
     "start_time": "2019-12-29T09:38:43.496Z"
    }
   },
   "outputs": [],
   "source": [
    "df3 = df3.groupby('level_0').sum()\n",
    "df3"
   ]
  },
  {
   "cell_type": "code",
   "execution_count": null,
   "metadata": {
    "ExecuteTime": {
     "start_time": "2019-12-29T09:38:43.500Z"
    }
   },
   "outputs": [],
   "source": [
    "df3.to_pickle('note_coocc.pickle')"
   ]
  },
  {
   "cell_type": "markdown",
   "metadata": {
    "ExecuteTime": {
     "end_time": "2019-12-29T03:14:20.213112Z",
     "start_time": "2019-12-29T03:14:20.209115Z"
    }
   },
   "source": [
    "# 3. Fitness function"
   ]
  },
  {
   "cell_type": "code",
   "execution_count": 5,
   "metadata": {
    "ExecuteTime": {
     "end_time": "2019-12-29T09:43:04.950327Z",
     "start_time": "2019-12-29T09:43:04.196447Z"
    }
   },
   "outputs": [
    {
     "data": {
      "text/html": [
       "<div>\n",
       "<style scoped>\n",
       "    .dataframe tbody tr th:only-of-type {\n",
       "        vertical-align: middle;\n",
       "    }\n",
       "\n",
       "    .dataframe tbody tr th {\n",
       "        vertical-align: top;\n",
       "    }\n",
       "\n",
       "    .dataframe thead th {\n",
       "        text-align: right;\n",
       "    }\n",
       "</style>\n",
       "<table border=\"1\" class=\"dataframe\">\n",
       "  <thead>\n",
       "    <tr style=\"text-align: right;\">\n",
       "      <th>level_0</th>\n",
       "      <th>A#0</th>\n",
       "      <th>A#1</th>\n",
       "      <th>A#2</th>\n",
       "      <th>A#3</th>\n",
       "      <th>A#4</th>\n",
       "      <th>A#5</th>\n",
       "      <th>A#6</th>\n",
       "      <th>A#7</th>\n",
       "      <th>A0</th>\n",
       "      <th>A1</th>\n",
       "      <th>...</th>\n",
       "      <th>G6</th>\n",
       "      <th>G7</th>\n",
       "      <th>Gb0</th>\n",
       "      <th>Gb1</th>\n",
       "      <th>Gb2</th>\n",
       "      <th>Gb3</th>\n",
       "      <th>Gb4</th>\n",
       "      <th>Gb5</th>\n",
       "      <th>Gb6</th>\n",
       "      <th>Gb7</th>\n",
       "    </tr>\n",
       "    <tr>\n",
       "      <th>level_0</th>\n",
       "      <th></th>\n",
       "      <th></th>\n",
       "      <th></th>\n",
       "      <th></th>\n",
       "      <th></th>\n",
       "      <th></th>\n",
       "      <th></th>\n",
       "      <th></th>\n",
       "      <th></th>\n",
       "      <th></th>\n",
       "      <th></th>\n",
       "      <th></th>\n",
       "      <th></th>\n",
       "      <th></th>\n",
       "      <th></th>\n",
       "      <th></th>\n",
       "      <th></th>\n",
       "      <th></th>\n",
       "      <th></th>\n",
       "      <th></th>\n",
       "      <th></th>\n",
       "    </tr>\n",
       "  </thead>\n",
       "  <tbody>\n",
       "    <tr>\n",
       "      <th>A#0</th>\n",
       "      <td>0.0</td>\n",
       "      <td>2.0</td>\n",
       "      <td>0.0</td>\n",
       "      <td>0.0</td>\n",
       "      <td>0.0</td>\n",
       "      <td>0.0</td>\n",
       "      <td>0.0</td>\n",
       "      <td>0.0</td>\n",
       "      <td>0.0</td>\n",
       "      <td>0.0</td>\n",
       "      <td>...</td>\n",
       "      <td>0.0</td>\n",
       "      <td>0.0</td>\n",
       "      <td>0.0</td>\n",
       "      <td>0.0</td>\n",
       "      <td>0.0</td>\n",
       "      <td>0.0</td>\n",
       "      <td>0.0</td>\n",
       "      <td>0.0</td>\n",
       "      <td>0.0</td>\n",
       "      <td>0.0</td>\n",
       "    </tr>\n",
       "    <tr>\n",
       "      <th>A#1</th>\n",
       "      <td>0.0</td>\n",
       "      <td>10.0</td>\n",
       "      <td>99.0</td>\n",
       "      <td>0.0</td>\n",
       "      <td>0.0</td>\n",
       "      <td>0.0</td>\n",
       "      <td>0.0</td>\n",
       "      <td>0.0</td>\n",
       "      <td>0.0</td>\n",
       "      <td>0.0</td>\n",
       "      <td>...</td>\n",
       "      <td>0.0</td>\n",
       "      <td>0.0</td>\n",
       "      <td>0.0</td>\n",
       "      <td>0.0</td>\n",
       "      <td>0.0</td>\n",
       "      <td>0.0</td>\n",
       "      <td>0.0</td>\n",
       "      <td>0.0</td>\n",
       "      <td>0.0</td>\n",
       "      <td>0.0</td>\n",
       "    </tr>\n",
       "    <tr>\n",
       "      <th>A#2</th>\n",
       "      <td>0.0</td>\n",
       "      <td>33.0</td>\n",
       "      <td>77.0</td>\n",
       "      <td>84.0</td>\n",
       "      <td>0.0</td>\n",
       "      <td>0.0</td>\n",
       "      <td>0.0</td>\n",
       "      <td>0.0</td>\n",
       "      <td>0.0</td>\n",
       "      <td>3.0</td>\n",
       "      <td>...</td>\n",
       "      <td>0.0</td>\n",
       "      <td>0.0</td>\n",
       "      <td>0.0</td>\n",
       "      <td>1.0</td>\n",
       "      <td>0.0</td>\n",
       "      <td>0.0</td>\n",
       "      <td>0.0</td>\n",
       "      <td>0.0</td>\n",
       "      <td>0.0</td>\n",
       "      <td>0.0</td>\n",
       "    </tr>\n",
       "    <tr>\n",
       "      <th>A#3</th>\n",
       "      <td>0.0</td>\n",
       "      <td>3.0</td>\n",
       "      <td>53.0</td>\n",
       "      <td>204.0</td>\n",
       "      <td>71.0</td>\n",
       "      <td>0.0</td>\n",
       "      <td>0.0</td>\n",
       "      <td>0.0</td>\n",
       "      <td>0.0</td>\n",
       "      <td>1.0</td>\n",
       "      <td>...</td>\n",
       "      <td>0.0</td>\n",
       "      <td>0.0</td>\n",
       "      <td>0.0</td>\n",
       "      <td>0.0</td>\n",
       "      <td>0.0</td>\n",
       "      <td>5.0</td>\n",
       "      <td>0.0</td>\n",
       "      <td>0.0</td>\n",
       "      <td>0.0</td>\n",
       "      <td>0.0</td>\n",
       "    </tr>\n",
       "    <tr>\n",
       "      <th>A#4</th>\n",
       "      <td>0.0</td>\n",
       "      <td>1.0</td>\n",
       "      <td>9.0</td>\n",
       "      <td>92.0</td>\n",
       "      <td>427.0</td>\n",
       "      <td>137.0</td>\n",
       "      <td>0.0</td>\n",
       "      <td>0.0</td>\n",
       "      <td>0.0</td>\n",
       "      <td>4.0</td>\n",
       "      <td>...</td>\n",
       "      <td>0.0</td>\n",
       "      <td>0.0</td>\n",
       "      <td>0.0</td>\n",
       "      <td>0.0</td>\n",
       "      <td>0.0</td>\n",
       "      <td>0.0</td>\n",
       "      <td>15.0</td>\n",
       "      <td>0.0</td>\n",
       "      <td>0.0</td>\n",
       "      <td>0.0</td>\n",
       "    </tr>\n",
       "    <tr>\n",
       "      <th>...</th>\n",
       "      <td>...</td>\n",
       "      <td>...</td>\n",
       "      <td>...</td>\n",
       "      <td>...</td>\n",
       "      <td>...</td>\n",
       "      <td>...</td>\n",
       "      <td>...</td>\n",
       "      <td>...</td>\n",
       "      <td>...</td>\n",
       "      <td>...</td>\n",
       "      <td>...</td>\n",
       "      <td>...</td>\n",
       "      <td>...</td>\n",
       "      <td>...</td>\n",
       "      <td>...</td>\n",
       "      <td>...</td>\n",
       "      <td>...</td>\n",
       "      <td>...</td>\n",
       "      <td>...</td>\n",
       "      <td>...</td>\n",
       "      <td>...</td>\n",
       "    </tr>\n",
       "    <tr>\n",
       "      <th>Gb3</th>\n",
       "      <td>0.0</td>\n",
       "      <td>0.0</td>\n",
       "      <td>0.0</td>\n",
       "      <td>2.0</td>\n",
       "      <td>0.0</td>\n",
       "      <td>0.0</td>\n",
       "      <td>0.0</td>\n",
       "      <td>0.0</td>\n",
       "      <td>0.0</td>\n",
       "      <td>2.0</td>\n",
       "      <td>...</td>\n",
       "      <td>3.0</td>\n",
       "      <td>0.0</td>\n",
       "      <td>0.0</td>\n",
       "      <td>8.0</td>\n",
       "      <td>119.0</td>\n",
       "      <td>306.0</td>\n",
       "      <td>154.0</td>\n",
       "      <td>11.0</td>\n",
       "      <td>0.0</td>\n",
       "      <td>0.0</td>\n",
       "    </tr>\n",
       "    <tr>\n",
       "      <th>Gb4</th>\n",
       "      <td>0.0</td>\n",
       "      <td>0.0</td>\n",
       "      <td>0.0</td>\n",
       "      <td>0.0</td>\n",
       "      <td>1.0</td>\n",
       "      <td>0.0</td>\n",
       "      <td>0.0</td>\n",
       "      <td>0.0</td>\n",
       "      <td>0.0</td>\n",
       "      <td>2.0</td>\n",
       "      <td>...</td>\n",
       "      <td>4.0</td>\n",
       "      <td>4.0</td>\n",
       "      <td>0.0</td>\n",
       "      <td>7.0</td>\n",
       "      <td>20.0</td>\n",
       "      <td>53.0</td>\n",
       "      <td>305.0</td>\n",
       "      <td>242.0</td>\n",
       "      <td>4.0</td>\n",
       "      <td>0.0</td>\n",
       "    </tr>\n",
       "    <tr>\n",
       "      <th>Gb5</th>\n",
       "      <td>0.0</td>\n",
       "      <td>0.0</td>\n",
       "      <td>0.0</td>\n",
       "      <td>0.0</td>\n",
       "      <td>0.0</td>\n",
       "      <td>0.0</td>\n",
       "      <td>0.0</td>\n",
       "      <td>0.0</td>\n",
       "      <td>0.0</td>\n",
       "      <td>2.0</td>\n",
       "      <td>...</td>\n",
       "      <td>18.0</td>\n",
       "      <td>6.0</td>\n",
       "      <td>0.0</td>\n",
       "      <td>8.0</td>\n",
       "      <td>21.0</td>\n",
       "      <td>11.0</td>\n",
       "      <td>85.0</td>\n",
       "      <td>171.0</td>\n",
       "      <td>143.0</td>\n",
       "      <td>8.0</td>\n",
       "    </tr>\n",
       "    <tr>\n",
       "      <th>Gb6</th>\n",
       "      <td>0.0</td>\n",
       "      <td>0.0</td>\n",
       "      <td>0.0</td>\n",
       "      <td>0.0</td>\n",
       "      <td>0.0</td>\n",
       "      <td>0.0</td>\n",
       "      <td>1.0</td>\n",
       "      <td>0.0</td>\n",
       "      <td>0.0</td>\n",
       "      <td>1.0</td>\n",
       "      <td>...</td>\n",
       "      <td>1000.0</td>\n",
       "      <td>12.0</td>\n",
       "      <td>0.0</td>\n",
       "      <td>10.0</td>\n",
       "      <td>13.0</td>\n",
       "      <td>19.0</td>\n",
       "      <td>6.0</td>\n",
       "      <td>41.0</td>\n",
       "      <td>25.0</td>\n",
       "      <td>46.0</td>\n",
       "    </tr>\n",
       "    <tr>\n",
       "      <th>Gb7</th>\n",
       "      <td>0.0</td>\n",
       "      <td>0.0</td>\n",
       "      <td>0.0</td>\n",
       "      <td>0.0</td>\n",
       "      <td>0.0</td>\n",
       "      <td>0.0</td>\n",
       "      <td>0.0</td>\n",
       "      <td>0.0</td>\n",
       "      <td>0.0</td>\n",
       "      <td>0.0</td>\n",
       "      <td>...</td>\n",
       "      <td>14.0</td>\n",
       "      <td>554.0</td>\n",
       "      <td>0.0</td>\n",
       "      <td>75.0</td>\n",
       "      <td>56.0</td>\n",
       "      <td>33.0</td>\n",
       "      <td>35.0</td>\n",
       "      <td>30.0</td>\n",
       "      <td>16.0</td>\n",
       "      <td>36.0</td>\n",
       "    </tr>\n",
       "  </tbody>\n",
       "</table>\n",
       "<p>169 rows × 168 columns</p>\n",
       "</div>"
      ],
      "text/plain": [
       "level_0  A#0   A#1   A#2    A#3    A#4    A#5  A#6  A#7   A0   A1  ...  \\\n",
       "level_0                                                            ...   \n",
       "A#0      0.0   2.0   0.0    0.0    0.0    0.0  0.0  0.0  0.0  0.0  ...   \n",
       "A#1      0.0  10.0  99.0    0.0    0.0    0.0  0.0  0.0  0.0  0.0  ...   \n",
       "A#2      0.0  33.0  77.0   84.0    0.0    0.0  0.0  0.0  0.0  3.0  ...   \n",
       "A#3      0.0   3.0  53.0  204.0   71.0    0.0  0.0  0.0  0.0  1.0  ...   \n",
       "A#4      0.0   1.0   9.0   92.0  427.0  137.0  0.0  0.0  0.0  4.0  ...   \n",
       "...      ...   ...   ...    ...    ...    ...  ...  ...  ...  ...  ...   \n",
       "Gb3      0.0   0.0   0.0    2.0    0.0    0.0  0.0  0.0  0.0  2.0  ...   \n",
       "Gb4      0.0   0.0   0.0    0.0    1.0    0.0  0.0  0.0  0.0  2.0  ...   \n",
       "Gb5      0.0   0.0   0.0    0.0    0.0    0.0  0.0  0.0  0.0  2.0  ...   \n",
       "Gb6      0.0   0.0   0.0    0.0    0.0    0.0  1.0  0.0  0.0  1.0  ...   \n",
       "Gb7      0.0   0.0   0.0    0.0    0.0    0.0  0.0  0.0  0.0  0.0  ...   \n",
       "\n",
       "level_0      G6     G7  Gb0   Gb1    Gb2    Gb3    Gb4    Gb5    Gb6   Gb7  \n",
       "level_0                                                                     \n",
       "A#0         0.0    0.0  0.0   0.0    0.0    0.0    0.0    0.0    0.0   0.0  \n",
       "A#1         0.0    0.0  0.0   0.0    0.0    0.0    0.0    0.0    0.0   0.0  \n",
       "A#2         0.0    0.0  0.0   1.0    0.0    0.0    0.0    0.0    0.0   0.0  \n",
       "A#3         0.0    0.0  0.0   0.0    0.0    5.0    0.0    0.0    0.0   0.0  \n",
       "A#4         0.0    0.0  0.0   0.0    0.0    0.0   15.0    0.0    0.0   0.0  \n",
       "...         ...    ...  ...   ...    ...    ...    ...    ...    ...   ...  \n",
       "Gb3         3.0    0.0  0.0   8.0  119.0  306.0  154.0   11.0    0.0   0.0  \n",
       "Gb4         4.0    4.0  0.0   7.0   20.0   53.0  305.0  242.0    4.0   0.0  \n",
       "Gb5        18.0    6.0  0.0   8.0   21.0   11.0   85.0  171.0  143.0   8.0  \n",
       "Gb6      1000.0   12.0  0.0  10.0   13.0   19.0    6.0   41.0   25.0  46.0  \n",
       "Gb7        14.0  554.0  0.0  75.0   56.0   33.0   35.0   30.0   16.0  36.0  \n",
       "\n",
       "[169 rows x 168 columns]"
      ]
     },
     "execution_count": 5,
     "metadata": {},
     "output_type": "execute_result"
    }
   ],
   "source": [
    "import pandas as pd\n",
    "\n",
    "coocc_df = pd.read_pickle('note_coocc.pickle')\n",
    "coocc_df"
   ]
  },
  {
   "cell_type": "code",
   "execution_count": 6,
   "metadata": {
    "ExecuteTime": {
     "end_time": "2019-12-29T09:43:05.785197Z",
     "start_time": "2019-12-29T09:43:05.778202Z"
    }
   },
   "outputs": [
    {
     "data": {
      "text/plain": [
       "['F4', 'A4', 'D5', 'D5', 'D5', 'A4', 'A4']"
      ]
     },
     "execution_count": 6,
     "metadata": {},
     "output_type": "execute_result"
    }
   ],
   "source": [
    "ml = measures[1].getSos()\n",
    "ml"
   ]
  },
  {
   "cell_type": "code",
   "execution_count": 7,
   "metadata": {
    "ExecuteTime": {
     "end_time": "2019-12-29T09:43:06.572074Z",
     "start_time": "2019-12-29T09:43:06.558074Z"
    }
   },
   "outputs": [],
   "source": [
    "import math\n",
    "\n",
    "def get_measure_fitness(measure):\n",
    "    '''get a fitness score for a measure'''\n",
    "    m_score = 0\n",
    "    rests = 0\n",
    "    ml = measure.getSos()\n",
    "    ml_len = len(ml)\n",
    "    for index in range(0,ml_len-1):\n",
    "        #handle naturals\n",
    "        prev_note = ml[index]\n",
    "        if len(ml[index])>2 and ml[index][1]=='n':\n",
    "            ml[index] = ml[index][0]+ml[index][2]\n",
    "        if len(ml[index+1])>2 and ml[index+1][1]=='n':\n",
    "            ml[index+1] = ml[index+1][0]+ml[index+1][2]\n",
    "        #can't compute rests\n",
    "        if ml[index]=='0' or ml[index+1]=='0':\n",
    "            rests += 1\n",
    "        #get fitness\n",
    "        else:\n",
    "            note_score = coocc_df[ml[index]][ml[index+1]]\n",
    "            m_score += note_score\n",
    "    m_score /= (ml_len-rests)\n",
    "    m_score = round(m_score,3)\n",
    "    return m_score\n",
    "            \n",
    "        "
   ]
  },
  {
   "cell_type": "code",
   "execution_count": 8,
   "metadata": {
    "ExecuteTime": {
     "end_time": "2019-12-29T09:43:07.339438Z",
     "start_time": "2019-12-29T09:43:07.331439Z"
    }
   },
   "outputs": [],
   "source": [
    "def get_measarr_fitness(measures):\n",
    "    score_fitness = 0\n",
    "    for measure in measures:\n",
    "        score_fitness+=get_measure_fitness(measure)\n",
    "    score_fitness /= len(measures)\n",
    "    score_fitness = round(score_fitness,2)\n",
    "    return score_fitness"
   ]
  },
  {
   "cell_type": "code",
   "execution_count": 9,
   "metadata": {
    "ExecuteTime": {
     "end_time": "2019-12-29T09:43:08.143311Z",
     "start_time": "2019-12-29T09:43:08.136311Z"
    }
   },
   "outputs": [],
   "source": [
    "def get_score_fitness(score):\n",
    "    measures = score.measures\n",
    "    score_fitness = 0\n",
    "    for measure in measures:\n",
    "        score_fitness+=get_measure_fitness(measure)\n",
    "    score_fitness /= len(measures)\n",
    "    score_fitness = round(score_fitness,2)\n",
    "    return score_fitness"
   ]
  },
  {
   "cell_type": "code",
   "execution_count": 10,
   "metadata": {
    "ExecuteTime": {
     "end_time": "2019-12-29T09:43:08.990178Z",
     "start_time": "2019-12-29T09:43:08.970181Z"
    }
   },
   "outputs": [
    {
     "name": "stdout",
     "output_type": "stream",
     "text": [
      "3061.5\n",
      "3078.143\n",
      "3843.143\n",
      "2747.0\n",
      "3525.875\n",
      "2799.875\n",
      "2226.143\n",
      "1580.167\n",
      "3061.5\n",
      "3078.143\n",
      "3843.143\n",
      "2941.889\n",
      "3967.625\n",
      "2799.875\n",
      "2226.143\n",
      "1943.0\n",
      "2820.667\n",
      "2024.182\n",
      "2780.333\n",
      "2686.455\n",
      "1959.333\n",
      "2024.182\n",
      "2780.333\n",
      "3231.182\n",
      "0.0\n"
     ]
    }
   ],
   "source": [
    "for measure in measures:\n",
    "    print(get_measure_fitness(measure))"
   ]
  },
  {
   "cell_type": "code",
   "execution_count": 11,
   "metadata": {
    "ExecuteTime": {
     "end_time": "2019-12-29T09:43:09.789060Z",
     "start_time": "2019-12-29T09:43:09.776063Z"
    }
   },
   "outputs": [
    {
     "data": {
      "text/plain": [
       "2681.19"
      ]
     },
     "execution_count": 11,
     "metadata": {},
     "output_type": "execute_result"
    }
   ],
   "source": [
    "get_score_fitness(Score(measures))"
   ]
  },
  {
   "cell_type": "markdown",
   "metadata": {},
   "source": [
    "# 4. Compare measures"
   ]
  },
  {
   "cell_type": "code",
   "execution_count": 12,
   "metadata": {
    "ExecuteTime": {
     "end_time": "2019-12-29T09:43:10.587320Z",
     "start_time": "2019-12-29T09:43:10.578320Z"
    }
   },
   "outputs": [],
   "source": [
    "def compare_measures(m1,m2):\n",
    "    measure_diff = 0\n",
    "    rests = 0\n",
    "    m1_notes = m1.notes\n",
    "    m2_notes = m2.notes\n",
    "    min_len = min(len(m1_notes),len(m2_notes))\n",
    "    for index in range(0, min_len):\n",
    "        if m1_notes[index]=='0' or m2_notes[index]=='0':\n",
    "            rests += 1\n",
    "        note_diff = compare_notes(m1_notes[index],m2_notes[index])\n",
    "        measure_diff+=note_diff\n",
    "    measure_diff /= (min_len-rests)\n",
    "    measure_diff = round(measure_diff,2)\n",
    "    return measure_diff\n",
    "        "
   ]
  },
  {
   "cell_type": "code",
   "execution_count": 13,
   "metadata": {
    "ExecuteTime": {
     "end_time": "2019-12-29T09:43:11.411077Z",
     "start_time": "2019-12-29T09:43:11.405079Z"
    }
   },
   "outputs": [],
   "source": [
    "def checkeq_measures(m1,m2):\n",
    "    if m1.getSos()==m2.getSos():\n",
    "        return True\n",
    "    else:\n",
    "        return False"
   ]
  },
  {
   "cell_type": "code",
   "execution_count": 14,
   "metadata": {
    "ExecuteTime": {
     "end_time": "2019-12-29T09:43:12.228962Z",
     "start_time": "2019-12-29T09:43:12.220963Z"
    }
   },
   "outputs": [
    {
     "data": {
      "text/plain": [
       "False"
      ]
     },
     "execution_count": 14,
     "metadata": {},
     "output_type": "execute_result"
    }
   ],
   "source": [
    "checkeq_measures(measures[1],measures[2])"
   ]
  },
  {
   "cell_type": "code",
   "execution_count": 15,
   "metadata": {
    "ExecuteTime": {
     "end_time": "2019-12-29T09:43:12.970927Z",
     "start_time": "2019-12-29T09:43:12.962928Z"
    }
   },
   "outputs": [
    {
     "data": {
      "text/plain": [
       "-0.86"
      ]
     },
     "execution_count": 15,
     "metadata": {},
     "output_type": "execute_result"
    }
   ],
   "source": [
    "compare_measures(measures[1],measures[2])"
   ]
  },
  {
   "cell_type": "code",
   "execution_count": 16,
   "metadata": {
    "ExecuteTime": {
     "end_time": "2019-12-29T09:43:13.744811Z",
     "start_time": "2019-12-29T09:43:13.738812Z"
    }
   },
   "outputs": [
    {
     "data": {
      "text/plain": [
       "3.43"
      ]
     },
     "execution_count": 16,
     "metadata": {},
     "output_type": "execute_result"
    }
   ],
   "source": [
    "compare_measures(measures[2],measures[3])"
   ]
  },
  {
   "cell_type": "code",
   "execution_count": 17,
   "metadata": {
    "ExecuteTime": {
     "end_time": "2019-12-29T09:43:14.555309Z",
     "start_time": "2019-12-29T09:43:14.548309Z"
    }
   },
   "outputs": [
    {
     "data": {
      "text/plain": [
       "2.86"
      ]
     },
     "execution_count": 17,
     "metadata": {},
     "output_type": "execute_result"
    }
   ],
   "source": [
    "compare_measures(measures[2],measures[4])"
   ]
  },
  {
   "cell_type": "markdown",
   "metadata": {},
   "source": [
    "# 4.2 Similarity"
   ]
  },
  {
   "cell_type": "code",
   "execution_count": 18,
   "metadata": {
    "ExecuteTime": {
     "end_time": "2019-12-29T09:43:15.324186Z",
     "start_time": "2019-12-29T09:43:15.311189Z"
    }
   },
   "outputs": [],
   "source": [
    "def similarityratio_measures(m1,m2):\n",
    "    m1_notes = m1.getSos()\n",
    "    m2_notes = m2.getSos()\n",
    "    min_len = min(len(m1_notes),len(m2_notes))\n",
    "    max_len = max(len(m1_notes),len(m2_notes))\n",
    "    same_notes = 0\n",
    "    for index in range(0, min_len):\n",
    "        if m1_notes[index]==m2_notes[index]:\n",
    "            same_notes += 1\n",
    "    ratio = round(same_notes/max_len,2)\n",
    "    return ratio\n",
    "            "
   ]
  },
  {
   "cell_type": "code",
   "execution_count": 19,
   "metadata": {
    "ExecuteTime": {
     "end_time": "2019-12-29T09:43:16.065070Z",
     "start_time": "2019-12-29T09:43:16.056072Z"
    }
   },
   "outputs": [],
   "source": [
    "def get_similarity_map(measures,threshold):\n",
    "    '''get similarity map given threshold for measures'''\n",
    "    meas_sim_dict = {}\n",
    "    for index1 in range(0,len(measures)):\n",
    "        meas_sim_dict[index1]=[]\n",
    "        for index2 in range(0,len(measures)):\n",
    "            if index2!=index1:\n",
    "                sim = similarityratio_measures(measures[index1],measures[index2])\n",
    "                if sim>threshold:\n",
    "                    meas_sim_dict[index1].append(index2)\n",
    "    return meas_sim_dict\n"
   ]
  },
  {
   "cell_type": "code",
   "execution_count": 20,
   "metadata": {
    "ExecuteTime": {
     "end_time": "2019-12-29T09:43:16.849966Z",
     "start_time": "2019-12-29T09:43:16.823969Z"
    }
   },
   "outputs": [
    {
     "data": {
      "text/plain": [
       "{0: [],\n",
       " 1: [9],\n",
       " 2: [10],\n",
       " 3: [],\n",
       " 4: [12],\n",
       " 5: [13],\n",
       " 6: [14],\n",
       " 7: [],\n",
       " 8: [],\n",
       " 9: [1],\n",
       " 10: [2],\n",
       " 11: [],\n",
       " 12: [4],\n",
       " 13: [5],\n",
       " 14: [6],\n",
       " 15: [],\n",
       " 16: [],\n",
       " 17: [21],\n",
       " 18: [22],\n",
       " 19: [23],\n",
       " 20: [],\n",
       " 21: [17],\n",
       " 22: [18],\n",
       " 23: [19],\n",
       " 24: []}"
      ]
     },
     "execution_count": 20,
     "metadata": {},
     "output_type": "execute_result"
    }
   ],
   "source": [
    "simMap =  get_similarity_map(measures,threshold=0.75)\n",
    "simMap\n"
   ]
  },
  {
   "cell_type": "code",
   "execution_count": 21,
   "metadata": {
    "ExecuteTime": {
     "end_time": "2019-12-29T09:43:17.651853Z",
     "start_time": "2019-12-29T09:43:17.643854Z"
    }
   },
   "outputs": [
    {
     "data": {
      "text/plain": [
       "0.12"
      ]
     },
     "execution_count": 21,
     "metadata": {},
     "output_type": "execute_result"
    }
   ],
   "source": [
    "similarityratio_measures(measures[2],measures[4])"
   ]
  },
  {
   "cell_type": "code",
   "execution_count": 22,
   "metadata": {
    "ExecuteTime": {
     "end_time": "2019-12-29T09:43:18.491721Z",
     "start_time": "2019-12-29T09:43:18.485721Z"
    }
   },
   "outputs": [
    {
     "data": {
      "text/plain": [
       "0.14"
      ]
     },
     "execution_count": 22,
     "metadata": {},
     "output_type": "execute_result"
    }
   ],
   "source": [
    "similarityratio_measures(measures[2],measures[9])"
   ]
  },
  {
   "cell_type": "markdown",
   "metadata": {},
   "source": [
    "# 5. GA"
   ]
  },
  {
   "cell_type": "markdown",
   "metadata": {},
   "source": [
    "# 5.1 Note mutation"
   ]
  },
  {
   "cell_type": "code",
   "execution_count": 9,
   "metadata": {
    "ExecuteTime": {
     "end_time": "2019-12-29T09:43:19.258613Z",
     "start_time": "2019-12-29T09:43:19.248616Z"
    }
   },
   "outputs": [],
   "source": [
    "import pandas as pd\n",
    "\n",
    "coocc_df = pd.read_pickle('note_coocc.pickle')"
   ]
  },
  {
   "cell_type": "code",
   "execution_count": 13,
   "metadata": {
    "ExecuteTime": {
     "end_time": "2019-12-29T09:39:13.575170Z",
     "start_time": "2019-12-29T09:39:13.562172Z"
    }
   },
   "outputs": [
    {
     "data": {
      "text/plain": [
       "level_0\n",
       "A4     5912.0\n",
       "G4     4399.0\n",
       "F4     4379.0\n",
       "B4     3998.0\n",
       "F#4    3671.0\n",
       "        ...  \n",
       "F1        1.0\n",
       "B6        1.0\n",
       "B7        1.0\n",
       "Eb7       1.0\n",
       "Fb5       1.0\n",
       "Name: A4, Length: 86, dtype: float64"
      ]
     },
     "execution_count": 13,
     "metadata": {},
     "output_type": "execute_result"
    }
   ],
   "source": [
    "ls = coocc_df['A4']\n",
    "ls = ls[ls>0]\n",
    "ls = ls.sort_values(ascending=False)\n",
    "ls"
   ]
  },
  {
   "cell_type": "code",
   "execution_count": 15,
   "metadata": {
    "ExecuteTime": {
     "end_time": "2019-12-29T09:39:15.372279Z",
     "start_time": "2019-12-29T09:39:15.363282Z"
    }
   },
   "outputs": [
    {
     "data": {
      "text/plain": [
       "'G4'"
      ]
     },
     "execution_count": 15,
     "metadata": {},
     "output_type": "execute_result"
    }
   ],
   "source": [
    "ls.index[1]"
   ]
  },
  {
   "cell_type": "code",
   "execution_count": 24,
   "metadata": {
    "ExecuteTime": {
     "end_time": "2019-12-29T09:43:20.098480Z",
     "start_time": "2019-12-29T09:43:20.082484Z"
    }
   },
   "outputs": [],
   "source": [
    "import random\n",
    "\n",
    "candidateAmt = 10\n",
    "\n",
    "def mutateNote(note):\n",
    "    '''mutates a note with probability proportional to noteoccurence'''\n",
    "    #DEBUG\n",
    "    #print('getting new note')\n",
    "    if note.getSo() != '0': #ignore rests\n",
    "        #get candidates\n",
    "        candidates = coocc_df['A4']\n",
    "        candidates = candidates[candidates>0]\n",
    "        candidates = candidates.sort_values(ascending=False)\n",
    "        #get new note\n",
    "        newnote_index = random.randint(0,candidateAmt)\n",
    "        new_note_so = candidates.index[newnote_index]\n",
    "        #change note\n",
    "        #DEBUG\n",
    "        #print('changing note')\n",
    "        if len(new_note_so)>2:\n",
    "            note.step = new_note_so[0]\n",
    "            note.octave = int(new_note_so[2])\n",
    "            note.accidental = new_note_so[1]\n",
    "        else:\n",
    "            note.step = new_note_so[0]\n",
    "            note.octave = int(new_note_so[1])\n",
    "        #change accidentla\n",
    "        note.accidental = None\n",
    "        return True\n",
    "    else:\n",
    "        return False\n",
    "    "
   ]
  },
  {
   "cell_type": "code",
   "execution_count": 30,
   "metadata": {
    "ExecuteTime": {
     "end_time": "2019-12-29T09:40:05.623670Z",
     "start_time": "2019-12-29T09:40:05.615676Z"
    }
   },
   "outputs": [
    {
     "data": {
      "text/plain": [
       "'A6'"
      ]
     },
     "execution_count": 30,
     "metadata": {},
     "output_type": "execute_result"
    }
   ],
   "source": [
    "ls.index[7]"
   ]
  },
  {
   "cell_type": "code",
   "execution_count": 31,
   "metadata": {
    "ExecuteTime": {
     "end_time": "2019-12-29T09:40:07.511150Z",
     "start_time": "2019-12-29T09:40:07.499153Z"
    }
   },
   "outputs": [
    {
     "data": {
      "text/plain": [
       "'A4'"
      ]
     },
     "execution_count": 31,
     "metadata": {},
     "output_type": "execute_result"
    }
   ],
   "source": [
    "n = Note('quarter','A','4',None,None,False)\n",
    "n.getSo()"
   ]
  },
  {
   "cell_type": "code",
   "execution_count": 32,
   "metadata": {
    "ExecuteTime": {
     "end_time": "2019-12-29T09:40:09.452728Z",
     "start_time": "2019-12-29T09:40:09.441732Z"
    }
   },
   "outputs": [
    {
     "data": {
      "text/plain": [
       "False"
      ]
     },
     "execution_count": 32,
     "metadata": {},
     "output_type": "execute_result"
    }
   ],
   "source": [
    "len(n.getSo())>2"
   ]
  },
  {
   "cell_type": "code",
   "execution_count": 33,
   "metadata": {
    "ExecuteTime": {
     "end_time": "2019-12-29T09:40:11.432804Z",
     "start_time": "2019-12-29T09:40:11.421807Z"
    }
   },
   "outputs": [
    {
     "data": {
      "text/plain": [
       "'A4'"
      ]
     },
     "execution_count": 33,
     "metadata": {},
     "output_type": "execute_result"
    }
   ],
   "source": [
    "mutateNote(n)\n",
    "n.getSo()"
   ]
  },
  {
   "cell_type": "code",
   "execution_count": 32,
   "metadata": {
    "ExecuteTime": {
     "end_time": "2019-12-29T09:44:37.800934Z",
     "start_time": "2019-12-29T09:44:37.774938Z"
    }
   },
   "outputs": [],
   "source": [
    "measMutProb = 0.9\n",
    "def mutateMeasure(index,curr_measure):\n",
    "    '''mutates a measure with prob measMutProb'''\n",
    "    meas_sos = curr_measure.getSos()\n",
    "    meas_len = len(meas_sos)\n",
    "    mut_prob  = random.randint(0,100)/100\n",
    "    mut_succ = False\n",
    "    if mut_prob <= measMutProb:\n",
    "        while not mut_succ:\n",
    "            #DEBUG\n",
    "            #print(\"calling mutating note...\")\n",
    "            mut_index = random.randint(0,meas_len-1)\n",
    "            note_to_mut = curr_measure.notes[mut_index]\n",
    "            prev_note_so = note_to_mut.getSo()\n",
    "            mut_succ = mutateNote(note_to_mut)\n",
    "            new_note_so = note_to_mut.getSo()\n",
    "\n",
    "        #change similar notes in similar measures\n",
    "        simMeasInd = simMap[index]\n",
    "        for i in simMeasInd:\n",
    "            iNotes = measures[i].notes\n",
    "            for iNote in iNotes:\n",
    "                if iNote.getSo() == prev_note_so:\n",
    "                    if len(new_note_so)>2:\n",
    "                        iNote.step = new_note_so[0]\n",
    "                        iNote.octave = int(new_note_so[2])\n",
    "                        iNote.accidental = new_note_so[1]\n",
    "                    else:\n",
    "                        iNote.step = new_note_so[0]\n",
    "                        iNote.octave = int(new_note_so[1])\n",
    "                    #change accidentla\n",
    "                    iNote.accidental = None\n"
   ]
  },
  {
   "cell_type": "code",
   "execution_count": 38,
   "metadata": {
    "ExecuteTime": {
     "end_time": "2019-12-29T09:41:16.140850Z",
     "start_time": "2019-12-29T09:41:16.131852Z"
    }
   },
   "outputs": [
    {
     "data": {
      "text/plain": [
       "['F4', 'A4', 'D5', 'D5', 'D5', 'A4', 'A4']"
      ]
     },
     "execution_count": 38,
     "metadata": {},
     "output_type": "execute_result"
    }
   ],
   "source": [
    "measures[1].getSos()"
   ]
  },
  {
   "cell_type": "code",
   "execution_count": 39,
   "metadata": {
    "ExecuteTime": {
     "end_time": "2019-12-29T09:41:18.076908Z",
     "start_time": "2019-12-29T09:41:18.066911Z"
    }
   },
   "outputs": [
    {
     "data": {
      "text/plain": [
       "['F4', 'A4', 'D5', 'D5', 'D5', 'A4', 'A4']"
      ]
     },
     "execution_count": 39,
     "metadata": {},
     "output_type": "execute_result"
    }
   ],
   "source": [
    "mutateMeasure(1,measures[1])\n",
    "measures[1].getSos()"
   ]
  },
  {
   "cell_type": "markdown",
   "metadata": {
    "ExecuteTime": {
     "end_time": "2019-12-29T09:05:17.586208Z",
     "start_time": "2019-12-29T09:05:17.581229Z"
    }
   },
   "source": [
    "# 6. GA as a class"
   ]
  },
  {
   "cell_type": "code",
   "execution_count": 82,
   "metadata": {
    "ExecuteTime": {
     "end_time": "2019-12-29T10:19:32.155967Z",
     "start_time": "2019-12-29T10:19:32.129993Z"
    }
   },
   "outputs": [],
   "source": [
    "import random\n",
    "from mxlParsing import *\n",
    "import math\n",
    "import pandas as pd\n",
    "import gc\n",
    "\n",
    "class GAComposition:\n",
    "    measSimThresh = 0\n",
    "    cooc_df = None\n",
    "    simMap = None\n",
    "    measMutProb = 0\n",
    "    scorePop = []\n",
    "    popMax = 0\n",
    "    scoreOriginal = None\n",
    "    #nondefinable\n",
    "    mutPerScoreThresh = 3\n",
    "    scorePool = []\n",
    "    \n",
    "    def __init__(self, score = None, accomp_measures=None, measSimThresh = 0.75, coocPath = 'note_coocc.pickle', \n",
    "                 measMutProb = 0.1, recombProb = 0.1, popMax = 30):\n",
    "        self.scoreOriginal = score\n",
    "        self.cooc_df = pd.read_pickle(coocPath)\n",
    "        self.simMap = get_similarity_map(measures,measSimThresh)\n",
    "        self.measSimThresh = measSimThresh\n",
    "        self.measMutProb = measMutProb\n",
    "        self.recombProb = recombProb\n",
    "        self.popMax = popMax\n",
    "        #functions\n",
    "        initPopulation()\n",
    "        \n",
    "    def initPopulation():\n",
    "        for i in range (0, self.popMax):\n",
    "            s = self.score.copyScore()\n",
    "            mutateScore(s)\n",
    "            self.scorePop.append(s)\n",
    "    \n",
    "    def mutateScore(score):\n",
    "        #how many mutations\n",
    "        scoreMutAmt = random.randint(1,self.mutPerScoreThresh)\n",
    "        #where\n",
    "        for mut in range(1,scoreMutAmt):\n",
    "            index = random.randint(0,score.length-1)\n",
    "            meas = score.measures[index]\n",
    "            mutateMeasure(index,meas)\n",
    "        \n",
    "    def mutateGeneration():\n",
    "        self.scorePool = []\n",
    "        #copy the parents\n",
    "        for s in self.scorePop:\n",
    "            self.scorePool.append(s.copyScore())\n",
    "        #mutate the offspring\n",
    "        for s in self.scorePool:\n",
    "            mutateScore(s)\n",
    "        #add parents to pool\n",
    "        for s in self.scorePop:\n",
    "            self.scorePool.append(s.copyScore())\n",
    "            \n",
    "    def survivalSelection():\n",
    "        self.scorePop = []\n",
    "        score_df = pd.DataFrame()\n",
    "        for index in self.scorePool:\n",
    "            score_df = score_df.append(get_score_fitness(self.scorePool[index]))\n",
    "        score_df.rest_index()\n",
    "        score_rank_df = score_df.sort_values(by=0)\n",
    "        for i in range(0,self.maxPop):\n",
    "            good_score_idx = score_rank_df[i]\n",
    "            self.scorePop.append(scorePool[good_score_idx])\n",
    "        self.scorePool = []\n",
    "        gc.collect()\n",
    "    \n",
    "    def evolve(generations=100):\n",
    "        for i in range(0,generations):\n",
    "            mutateGeneration()\n",
    "            survivalSelection()\n",
    "        \n",
    "    def returnTop3():\n",
    "        score_df = pd.DataFrame()\n",
    "        top3 = []\n",
    "        for index in self.scorePop:\n",
    "            score_df = score_df.append(get_score_fitness(self.scorePop[index]))\n",
    "        score_df.rest_index()\n",
    "        score_rank_df = score_df.sort_values(by=0)\n",
    "        for i in range(0,3):\n",
    "            good_score_idx = score_rank_df[i]\n",
    "            top3.append(scorePop[good_score_idx])\n",
    "        return top3"
   ]
  },
  {
   "cell_type": "code",
   "execution_count": 48,
   "metadata": {
    "ExecuteTime": {
     "end_time": "2019-12-29T09:46:41.821013Z",
     "start_time": "2019-12-29T09:46:41.812996Z"
    }
   },
   "outputs": [],
   "source": [
    "mutPerScoreThresh = 3\n",
    "def mutateScore(score):\n",
    "    #how many mutations\n",
    "    scoreMutAmt = random.randint(1,mutPerScoreThresh)\n",
    "    #where\n",
    "    for mut in range(1,scoreMutAmt):\n",
    "        index = random.randint(0,score.length-1)\n",
    "        meas = score.measures[index]\n",
    "        mutateMeasure(index,meas)"
   ]
  },
  {
   "cell_type": "code",
   "execution_count": 49,
   "metadata": {
    "ExecuteTime": {
     "end_time": "2019-12-29T09:46:42.723145Z",
     "start_time": "2019-12-29T09:46:42.719146Z"
    }
   },
   "outputs": [],
   "source": [
    "score = Score(measures)"
   ]
  },
  {
   "cell_type": "code",
   "execution_count": 50,
   "metadata": {
    "ExecuteTime": {
     "end_time": "2019-12-29T09:46:43.605048Z",
     "start_time": "2019-12-29T09:46:43.587050Z"
    }
   },
   "outputs": [
    {
     "data": {
      "text/plain": [
       "2129.78"
      ]
     },
     "execution_count": 50,
     "metadata": {},
     "output_type": "execute_result"
    }
   ],
   "source": [
    "get_score_fitness(score)"
   ]
  },
  {
   "cell_type": "code",
   "execution_count": 51,
   "metadata": {
    "ExecuteTime": {
     "end_time": "2019-12-29T09:46:44.416096Z",
     "start_time": "2019-12-29T09:46:44.408098Z"
    }
   },
   "outputs": [],
   "source": [
    "score2 = score.copyScore()"
   ]
  },
  {
   "cell_type": "code",
   "execution_count": 52,
   "metadata": {
    "ExecuteTime": {
     "end_time": "2019-12-29T09:46:45.499143Z",
     "start_time": "2019-12-29T09:46:45.204094Z"
    }
   },
   "outputs": [
    {
     "data": {
      "text/plain": [
       "1853.08"
      ]
     },
     "execution_count": 52,
     "metadata": {},
     "output_type": "execute_result"
    }
   ],
   "source": [
    "for i in range(0,100):\n",
    "    mutateScore(score2)\n",
    "get_score_fitness(score2)"
   ]
  },
  {
   "cell_type": "code",
   "execution_count": 70,
   "metadata": {
    "ExecuteTime": {
     "end_time": "2019-12-29T10:03:42.896721Z",
     "start_time": "2019-12-29T10:03:42.890727Z"
    }
   },
   "outputs": [],
   "source": [
    "df = pd.DataFrame()\n"
   ]
  },
  {
   "cell_type": "code",
   "execution_count": 71,
   "metadata": {
    "ExecuteTime": {
     "end_time": "2019-12-29T10:03:43.907561Z",
     "start_time": "2019-12-29T10:03:43.892563Z"
    }
   },
   "outputs": [
    {
     "data": {
      "text/html": [
       "<div>\n",
       "<style scoped>\n",
       "    .dataframe tbody tr th:only-of-type {\n",
       "        vertical-align: middle;\n",
       "    }\n",
       "\n",
       "    .dataframe tbody tr th {\n",
       "        vertical-align: top;\n",
       "    }\n",
       "\n",
       "    .dataframe thead th {\n",
       "        text-align: right;\n",
       "    }\n",
       "</style>\n",
       "<table border=\"1\" class=\"dataframe\">\n",
       "  <thead>\n",
       "    <tr style=\"text-align: right;\">\n",
       "      <th></th>\n",
       "      <th>0</th>\n",
       "    </tr>\n",
       "  </thead>\n",
       "  <tbody>\n",
       "    <tr>\n",
       "      <th>0</th>\n",
       "      <td>300</td>\n",
       "    </tr>\n",
       "  </tbody>\n",
       "</table>\n",
       "</div>"
      ],
      "text/plain": [
       "     0\n",
       "0  300"
      ]
     },
     "execution_count": 71,
     "metadata": {},
     "output_type": "execute_result"
    }
   ],
   "source": [
    "df = df.append([300])\n",
    "df"
   ]
  },
  {
   "cell_type": "code",
   "execution_count": 72,
   "metadata": {
    "ExecuteTime": {
     "end_time": "2019-12-29T10:03:44.698668Z",
     "start_time": "2019-12-29T10:03:44.683670Z"
    }
   },
   "outputs": [
    {
     "data": {
      "text/html": [
       "<div>\n",
       "<style scoped>\n",
       "    .dataframe tbody tr th:only-of-type {\n",
       "        vertical-align: middle;\n",
       "    }\n",
       "\n",
       "    .dataframe tbody tr th {\n",
       "        vertical-align: top;\n",
       "    }\n",
       "\n",
       "    .dataframe thead th {\n",
       "        text-align: right;\n",
       "    }\n",
       "</style>\n",
       "<table border=\"1\" class=\"dataframe\">\n",
       "  <thead>\n",
       "    <tr style=\"text-align: right;\">\n",
       "      <th></th>\n",
       "      <th>index</th>\n",
       "      <th>0</th>\n",
       "    </tr>\n",
       "  </thead>\n",
       "  <tbody>\n",
       "    <tr>\n",
       "      <th>0</th>\n",
       "      <td>0</td>\n",
       "      <td>300</td>\n",
       "    </tr>\n",
       "    <tr>\n",
       "      <th>1</th>\n",
       "      <td>0</td>\n",
       "      <td>400</td>\n",
       "    </tr>\n",
       "    <tr>\n",
       "      <th>2</th>\n",
       "      <td>1</td>\n",
       "      <td>100</td>\n",
       "    </tr>\n",
       "    <tr>\n",
       "      <th>3</th>\n",
       "      <td>2</td>\n",
       "      <td>500</td>\n",
       "    </tr>\n",
       "    <tr>\n",
       "      <th>4</th>\n",
       "      <td>3</td>\n",
       "      <td>12000</td>\n",
       "    </tr>\n",
       "    <tr>\n",
       "      <th>5</th>\n",
       "      <td>4</td>\n",
       "      <td>600</td>\n",
       "    </tr>\n",
       "    <tr>\n",
       "      <th>6</th>\n",
       "      <td>5</td>\n",
       "      <td>200</td>\n",
       "    </tr>\n",
       "    <tr>\n",
       "      <th>7</th>\n",
       "      <td>6</td>\n",
       "      <td>900</td>\n",
       "    </tr>\n",
       "  </tbody>\n",
       "</table>\n",
       "</div>"
      ],
      "text/plain": [
       "   index      0\n",
       "0      0    300\n",
       "1      0    400\n",
       "2      1    100\n",
       "3      2    500\n",
       "4      3  12000\n",
       "5      4    600\n",
       "6      5    200\n",
       "7      6    900"
      ]
     },
     "execution_count": 72,
     "metadata": {},
     "output_type": "execute_result"
    }
   ],
   "source": [
    "df = df.append([400,100,500,12000,600,200,900]).reset_index()\n",
    "df"
   ]
  },
  {
   "cell_type": "code",
   "execution_count": 74,
   "metadata": {
    "ExecuteTime": {
     "end_time": "2019-12-29T10:04:37.376166Z",
     "start_time": "2019-12-29T10:04:37.364168Z"
    }
   },
   "outputs": [
    {
     "data": {
      "text/html": [
       "<div>\n",
       "<style scoped>\n",
       "    .dataframe tbody tr th:only-of-type {\n",
       "        vertical-align: middle;\n",
       "    }\n",
       "\n",
       "    .dataframe tbody tr th {\n",
       "        vertical-align: top;\n",
       "    }\n",
       "\n",
       "    .dataframe thead th {\n",
       "        text-align: right;\n",
       "    }\n",
       "</style>\n",
       "<table border=\"1\" class=\"dataframe\">\n",
       "  <thead>\n",
       "    <tr style=\"text-align: right;\">\n",
       "      <th></th>\n",
       "      <th>index</th>\n",
       "      <th>0</th>\n",
       "    </tr>\n",
       "  </thead>\n",
       "  <tbody>\n",
       "    <tr>\n",
       "      <th>2</th>\n",
       "      <td>1</td>\n",
       "      <td>100</td>\n",
       "    </tr>\n",
       "    <tr>\n",
       "      <th>6</th>\n",
       "      <td>5</td>\n",
       "      <td>200</td>\n",
       "    </tr>\n",
       "    <tr>\n",
       "      <th>0</th>\n",
       "      <td>0</td>\n",
       "      <td>300</td>\n",
       "    </tr>\n",
       "    <tr>\n",
       "      <th>1</th>\n",
       "      <td>0</td>\n",
       "      <td>400</td>\n",
       "    </tr>\n",
       "    <tr>\n",
       "      <th>3</th>\n",
       "      <td>2</td>\n",
       "      <td>500</td>\n",
       "    </tr>\n",
       "    <tr>\n",
       "      <th>5</th>\n",
       "      <td>4</td>\n",
       "      <td>600</td>\n",
       "    </tr>\n",
       "    <tr>\n",
       "      <th>7</th>\n",
       "      <td>6</td>\n",
       "      <td>900</td>\n",
       "    </tr>\n",
       "    <tr>\n",
       "      <th>4</th>\n",
       "      <td>3</td>\n",
       "      <td>12000</td>\n",
       "    </tr>\n",
       "  </tbody>\n",
       "</table>\n",
       "</div>"
      ],
      "text/plain": [
       "   index      0\n",
       "2      1    100\n",
       "6      5    200\n",
       "0      0    300\n",
       "1      0    400\n",
       "3      2    500\n",
       "5      4    600\n",
       "7      6    900\n",
       "4      3  12000"
      ]
     },
     "execution_count": 74,
     "metadata": {},
     "output_type": "execute_result"
    }
   ],
   "source": [
    "sdf = df.sort_values(by=0)\n",
    "sdf"
   ]
  },
  {
   "cell_type": "code",
   "execution_count": 80,
   "metadata": {
    "ExecuteTime": {
     "end_time": "2019-12-29T10:09:00.042851Z",
     "start_time": "2019-12-29T10:09:00.036850Z"
    }
   },
   "outputs": [
    {
     "data": {
      "text/plain": [
       "2"
      ]
     },
     "execution_count": 80,
     "metadata": {},
     "output_type": "execute_result"
    }
   ],
   "source": [
    "sdf.index[0]"
   ]
  },
  {
   "cell_type": "code",
   "execution_count": null,
   "metadata": {},
   "outputs": [],
   "source": []
  },
  {
   "cell_type": "code",
   "execution_count": null,
   "metadata": {},
   "outputs": [],
   "source": []
  },
  {
   "cell_type": "code",
   "execution_count": null,
   "metadata": {},
   "outputs": [],
   "source": []
  },
  {
   "cell_type": "code",
   "execution_count": 29,
   "metadata": {},
   "outputs": [],
   "source": [
    "import numpy as np\n",
    "import random\n",
    "\n",
    "tuples = []\n",
    "\n",
    "while len(tuples)<42:\n",
    "\n",
    "    newcoord = False\n",
    "    t = (0,0)\n",
    "\n",
    "    while not newcoord:\n",
    "        x_c = random.randint(1,7)\n",
    "        y_c = random.randint(1,6)\n",
    "        t = (x_c,y_c)\n",
    "        if t not in tuples:\n",
    "            tuples.append(t)\n",
    "            newcoord = True\n",
    "            break\n",
    "\n",
    "    #print(t)"
   ]
  },
  {
   "cell_type": "code",
   "execution_count": 30,
   "metadata": {},
   "outputs": [
    {
     "data": {
      "text/plain": [
       "42"
      ]
     },
     "execution_count": 30,
     "metadata": {},
     "output_type": "execute_result"
    }
   ],
   "source": [
    "len(tuples)"
   ]
  },
  {
   "cell_type": "code",
   "execution_count": 31,
   "metadata": {
    "scrolled": true
   },
   "outputs": [
    {
     "name": "stdout",
     "output_type": "stream",
     "text": [
      "(2, 6)\n",
      "(5, 6)\n",
      "(7, 1)\n",
      "(5, 1)\n",
      "(4, 1)\n",
      "(7, 2)\n",
      "(4, 4)\n",
      "(2, 1)\n",
      "(2, 4)\n",
      "(5, 5)\n",
      "(6, 3)\n",
      "(7, 3)\n",
      "(2, 3)\n",
      "(4, 5)\n",
      "(3, 4)\n",
      "(4, 3)\n",
      "(3, 2)\n",
      "(7, 6)\n",
      "(2, 2)\n",
      "(6, 4)\n",
      "(1, 5)\n",
      "(5, 2)\n",
      "(1, 4)\n",
      "(6, 2)\n",
      "(3, 3)\n",
      "(5, 3)\n",
      "(3, 6)\n",
      "(4, 2)\n",
      "(4, 6)\n",
      "(7, 5)\n",
      "(6, 6)\n",
      "(1, 6)\n",
      "(1, 1)\n",
      "(3, 1)\n",
      "(5, 4)\n",
      "(1, 2)\n",
      "(6, 1)\n",
      "(1, 3)\n",
      "(7, 4)\n",
      "(6, 5)\n",
      "(3, 5)\n",
      "(2, 5)\n"
     ]
    }
   ],
   "source": [
    "for i in tuples:\n",
    "    print(i)"
   ]
  },
  {
   "cell_type": "code",
   "execution_count": null,
   "metadata": {},
   "outputs": [],
   "source": []
  }
 ],
 "metadata": {
  "kernelspec": {
   "display_name": "Python 3",
   "language": "python",
   "name": "python3"
  },
  "language_info": {
   "codemirror_mode": {
    "name": "ipython",
    "version": 3
   },
   "file_extension": ".py",
   "mimetype": "text/x-python",
   "name": "python",
   "nbconvert_exporter": "python",
   "pygments_lexer": "ipython3",
   "version": "3.6.8"
  },
  "varInspector": {
   "cols": {
    "lenName": 16,
    "lenType": 16,
    "lenVar": 40
   },
   "kernels_config": {
    "python": {
     "delete_cmd_postfix": "",
     "delete_cmd_prefix": "del ",
     "library": "var_list.py",
     "varRefreshCmd": "print(var_dic_list())"
    },
    "r": {
     "delete_cmd_postfix": ") ",
     "delete_cmd_prefix": "rm(",
     "library": "var_list.r",
     "varRefreshCmd": "cat(var_dic_list()) "
    }
   },
   "types_to_exclude": [
    "module",
    "function",
    "builtin_function_or_method",
    "instance",
    "_Feature"
   ],
   "window_display": false
  }
 },
 "nbformat": 4,
 "nbformat_minor": 2
}
