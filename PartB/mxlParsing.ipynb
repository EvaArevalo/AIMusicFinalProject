{
 "cells": [
  {
   "cell_type": "markdown",
   "metadata": {},
   "source": [
    "# 0. Extract from MXL"
   ]
  },
  {
   "cell_type": "code",
   "execution_count": 84,
   "metadata": {
    "ExecuteTime": {
     "end_time": "2019-12-22T04:48:39.921843Z",
     "start_time": "2019-12-22T04:48:39.904849Z"
    }
   },
   "outputs": [
    {
     "ename": "BadZipFile",
     "evalue": "File is not a zip file",
     "output_type": "error",
     "traceback": [
      "\u001b[0;31m---------------------------------------------------------------------------\u001b[0m",
      "\u001b[0;31mBadZipFile\u001b[0m                                Traceback (most recent call last)",
      "\u001b[0;32m<ipython-input-84-61c2b336e279>\u001b[0m in \u001b[0;36m<module>\u001b[0;34m\u001b[0m\n\u001b[1;32m      3\u001b[0m \u001b[0;34m\u001b[0m\u001b[0m\n\u001b[1;32m      4\u001b[0m \u001b[0mfilename\u001b[0m \u001b[0;34m=\u001b[0m \u001b[0;34m\"../../XMLs/jinglebells.xml\"\u001b[0m\u001b[0;34m\u001b[0m\u001b[0;34m\u001b[0m\u001b[0m\n\u001b[0;32m----> 5\u001b[0;31m \u001b[0;32mwith\u001b[0m \u001b[0mzipfile\u001b[0m\u001b[0;34m.\u001b[0m\u001b[0mZipFile\u001b[0m\u001b[0;34m(\u001b[0m\u001b[0mfilename\u001b[0m\u001b[0;34m,\u001b[0m \u001b[0;34m'r'\u001b[0m\u001b[0;34m)\u001b[0m \u001b[0;32mas\u001b[0m \u001b[0mzipfile\u001b[0m\u001b[0;34m:\u001b[0m\u001b[0;34m\u001b[0m\u001b[0;34m\u001b[0m\u001b[0m\n\u001b[0m\u001b[1;32m      6\u001b[0m     \u001b[0mzipfile\u001b[0m\u001b[0;34m.\u001b[0m\u001b[0mextractall\u001b[0m\u001b[0;34m(\u001b[0m\u001b[0;34m'jinglebells.musicxml'\u001b[0m\u001b[0;34m)\u001b[0m\u001b[0;34m\u001b[0m\u001b[0;34m\u001b[0m\u001b[0m\n",
      "\u001b[0;32m/usr/lib/python3.6/zipfile.py\u001b[0m in \u001b[0;36m__init__\u001b[0;34m(self, file, mode, compression, allowZip64)\u001b[0m\n\u001b[1;32m   1129\u001b[0m         \u001b[0;32mtry\u001b[0m\u001b[0;34m:\u001b[0m\u001b[0;34m\u001b[0m\u001b[0;34m\u001b[0m\u001b[0m\n\u001b[1;32m   1130\u001b[0m             \u001b[0;32mif\u001b[0m \u001b[0mmode\u001b[0m \u001b[0;34m==\u001b[0m \u001b[0;34m'r'\u001b[0m\u001b[0;34m:\u001b[0m\u001b[0;34m\u001b[0m\u001b[0;34m\u001b[0m\u001b[0m\n\u001b[0;32m-> 1131\u001b[0;31m                 \u001b[0mself\u001b[0m\u001b[0;34m.\u001b[0m\u001b[0m_RealGetContents\u001b[0m\u001b[0;34m(\u001b[0m\u001b[0;34m)\u001b[0m\u001b[0;34m\u001b[0m\u001b[0;34m\u001b[0m\u001b[0m\n\u001b[0m\u001b[1;32m   1132\u001b[0m             \u001b[0;32melif\u001b[0m \u001b[0mmode\u001b[0m \u001b[0;32min\u001b[0m \u001b[0;34m(\u001b[0m\u001b[0;34m'w'\u001b[0m\u001b[0;34m,\u001b[0m \u001b[0;34m'x'\u001b[0m\u001b[0;34m)\u001b[0m\u001b[0;34m:\u001b[0m\u001b[0;34m\u001b[0m\u001b[0;34m\u001b[0m\u001b[0m\n\u001b[1;32m   1133\u001b[0m                 \u001b[0;31m# set the modified flag so central directory gets written\u001b[0m\u001b[0;34m\u001b[0m\u001b[0;34m\u001b[0m\u001b[0;34m\u001b[0m\u001b[0m\n",
      "\u001b[0;32m/usr/lib/python3.6/zipfile.py\u001b[0m in \u001b[0;36m_RealGetContents\u001b[0;34m(self)\u001b[0m\n\u001b[1;32m   1196\u001b[0m             \u001b[0;32mraise\u001b[0m \u001b[0mBadZipFile\u001b[0m\u001b[0;34m(\u001b[0m\u001b[0;34m\"File is not a zip file\"\u001b[0m\u001b[0;34m)\u001b[0m\u001b[0;34m\u001b[0m\u001b[0;34m\u001b[0m\u001b[0m\n\u001b[1;32m   1197\u001b[0m         \u001b[0;32mif\u001b[0m \u001b[0;32mnot\u001b[0m \u001b[0mendrec\u001b[0m\u001b[0;34m:\u001b[0m\u001b[0;34m\u001b[0m\u001b[0;34m\u001b[0m\u001b[0m\n\u001b[0;32m-> 1198\u001b[0;31m             \u001b[0;32mraise\u001b[0m \u001b[0mBadZipFile\u001b[0m\u001b[0;34m(\u001b[0m\u001b[0;34m\"File is not a zip file\"\u001b[0m\u001b[0;34m)\u001b[0m\u001b[0;34m\u001b[0m\u001b[0;34m\u001b[0m\u001b[0m\n\u001b[0m\u001b[1;32m   1199\u001b[0m         \u001b[0;32mif\u001b[0m \u001b[0mself\u001b[0m\u001b[0;34m.\u001b[0m\u001b[0mdebug\u001b[0m \u001b[0;34m>\u001b[0m \u001b[0;36m1\u001b[0m\u001b[0;34m:\u001b[0m\u001b[0;34m\u001b[0m\u001b[0;34m\u001b[0m\u001b[0m\n\u001b[1;32m   1200\u001b[0m             \u001b[0mprint\u001b[0m\u001b[0;34m(\u001b[0m\u001b[0mendrec\u001b[0m\u001b[0;34m)\u001b[0m\u001b[0;34m\u001b[0m\u001b[0;34m\u001b[0m\u001b[0m\n",
      "\u001b[0;31mBadZipFile\u001b[0m: File is not a zip file"
     ]
    }
   ],
   "source": [
    "import zipfile\n",
    "import glob\n",
    "\n",
    "filename = \"../../XMLs/jinglebells.xml\"\n",
    "with zipfile.ZipFile(filename, 'r') as zipfile:\n",
    "    zipfile.extractall('jinglebells.musicxml')"
   ]
  },
  {
   "cell_type": "markdown",
   "metadata": {},
   "source": [
    "# 1. Read XML"
   ]
  },
  {
   "cell_type": "code",
   "execution_count": 4,
   "metadata": {
    "ExecuteTime": {
     "end_time": "2019-12-22T13:52:33.470969Z",
     "start_time": "2019-12-22T13:52:33.278005Z"
    }
   },
   "outputs": [],
   "source": [
    "import xml.etree.cElementTree as ET\n",
    "\n",
    "filename = \"../../XMLs/至少還有你_主旋律.musicxml\"\n",
    "tree = ET.parse(filename)"
   ]
  },
  {
   "cell_type": "code",
   "execution_count": 5,
   "metadata": {
    "ExecuteTime": {
     "end_time": "2019-12-22T13:52:33.684920Z",
     "start_time": "2019-12-22T13:52:33.666923Z"
    }
   },
   "outputs": [
    {
     "data": {
      "text/plain": [
       "('score-partwise', {'version': '3.1'})"
      ]
     },
     "execution_count": 5,
     "metadata": {},
     "output_type": "execute_result"
    }
   ],
   "source": [
    "root = tree.getroot()\n",
    "root.tag, root.attrib"
   ]
  },
  {
   "cell_type": "code",
   "execution_count": 6,
   "metadata": {
    "ExecuteTime": {
     "end_time": "2019-12-22T13:52:34.471875Z",
     "start_time": "2019-12-22T13:52:34.466875Z"
    }
   },
   "outputs": [],
   "source": [
    "all_notes = root.findall('.//note')"
   ]
  },
  {
   "cell_type": "code",
   "execution_count": 7,
   "metadata": {
    "ExecuteTime": {
     "end_time": "2019-12-22T13:52:37.281510Z",
     "start_time": "2019-12-22T13:52:37.263516Z"
    }
   },
   "outputs": [],
   "source": [
    "lyric_notes = []\n",
    "for note in all_notes:\n",
    "    n = {}\n",
    "    if note.find('lyric') is not None:\n",
    "        n['type'] = note.find('type').text\n",
    "        n['lyric'] = note.find('./lyric/text').text\n",
    "        n['pitch'] = note.find('./pitch/step').text + note.find('./pitch/octave').text\n",
    "        if note.find('./pitch/alter') is not None:\n",
    "            if note.find('./pitch/alter').text == '-1':\n",
    "                p = n['pitch'][0] + 'b' + n['pitch'][1]\n",
    "                n['pitch'] = p\n",
    "            else:\n",
    "                n['pitch'] = n['pitch'][0] + '#' + n['pitch'][1]\n",
    "                \n",
    "        lyric_notes.append(n)"
   ]
  },
  {
   "cell_type": "code",
   "execution_count": 8,
   "metadata": {
    "ExecuteTime": {
     "end_time": "2019-12-22T13:52:40.030297Z",
     "start_time": "2019-12-22T13:52:40.024302Z"
    }
   },
   "outputs": [
    {
     "data": {
      "text/plain": [
       "159"
      ]
     },
     "execution_count": 8,
     "metadata": {},
     "output_type": "execute_result"
    }
   ],
   "source": [
    "len(lyric_notes)"
   ]
  },
  {
   "cell_type": "code",
   "execution_count": 9,
   "metadata": {
    "ExecuteTime": {
     "end_time": "2019-12-22T13:52:40.479227Z",
     "start_time": "2019-12-22T13:52:40.458231Z"
    }
   },
   "outputs": [
    {
     "data": {
      "text/plain": [
       "[{'type': '16th', 'lyric': '我', 'pitch': 'G4'},\n",
       " {'type': '16th', 'lyric': '怕', 'pitch': 'G4'},\n",
       " {'type': 'eighth', 'lyric': '來', 'pitch': 'F#4'},\n",
       " {'type': '16th', 'lyric': '不', 'pitch': 'A4'},\n",
       " {'type': '16th', 'lyric': '幾', 'pitch': 'D5'},\n",
       " {'type': '16th', 'lyric': '我', 'pitch': 'A4'},\n",
       " {'type': '16th', 'lyric': '要', 'pitch': 'A4'},\n",
       " {'type': 'eighth', 'lyric': '抱', 'pitch': 'D5'},\n",
       " {'type': '16th', 'lyric': '著', 'pitch': 'A4'},\n",
       " {'type': '16th', 'lyric': '你', 'pitch': 'B4'},\n",
       " {'type': '16th', 'lyric': '直', 'pitch': 'G4'},\n",
       " {'type': '16th', 'lyric': '到', 'pitch': 'G4'},\n",
       " {'type': 'eighth', 'lyric': '感', 'pitch': 'F#4'},\n",
       " {'type': 'eighth', 'lyric': '覺', 'pitch': 'A4'},\n",
       " {'type': 'eighth', 'lyric': '你', 'pitch': 'D5'},\n",
       " {'type': '16th', 'lyric': '的', 'pitch': 'E5'},\n",
       " {'type': '16th', 'lyric': '皺', 'pitch': 'E5'},\n",
       " {'type': 'eighth', 'lyric': '紋', 'pitch': 'D5'},\n",
       " {'type': '16th', 'lyric': '有', 'pitch': 'D5'},\n",
       " {'type': '16th', 'lyric': '了', 'pitch': 'E5'},\n",
       " {'type': 'eighth', 'lyric': '歲', 'pitch': 'F#5'},\n",
       " {'type': '16th', 'lyric': '月', 'pitch': 'C#5'},\n",
       " {'type': '16th', 'lyric': '的', 'pitch': 'C#5'},\n",
       " {'type': 'eighth', 'lyric': '痕', 'pitch': 'B4'},\n",
       " {'type': 'quarter', 'lyric': '跡', 'pitch': 'C#5'},\n",
       " {'type': '16th', 'lyric': '直', 'pitch': 'A4'},\n",
       " {'type': '16th', 'lyric': '到', 'pitch': 'A4'},\n",
       " {'type': 'eighth', 'lyric': '肯', 'pitch': 'B4'},\n",
       " {'type': 'eighth', 'lyric': '定', 'pitch': 'D5'},\n",
       " {'type': 'eighth', 'lyric': '你', 'pitch': 'D5'},\n",
       " {'type': '16th', 'lyric': '是', 'pitch': 'B4'},\n",
       " {'type': '16th', 'lyric': '真', 'pitch': 'E5'},\n",
       " {'type': 'eighth', 'lyric': '的', 'pitch': 'D5'},\n",
       " {'type': 'eighth', 'lyric': '直', 'pitch': 'A4'},\n",
       " {'type': 'eighth', 'lyric': '到', 'pitch': 'A4'},\n",
       " {'type': 'eighth', 'lyric': '不', 'pitch': 'F#5'},\n",
       " {'type': '16th', 'lyric': '能', 'pitch': 'G5'},\n",
       " {'type': '16th', 'lyric': '呼', 'pitch': 'G5'},\n",
       " {'type': 'quarter', 'lyric': '吸', 'pitch': 'F#5'},\n",
       " {'type': 'eighth', 'lyric': '為', 'pitch': 'F#5'},\n",
       " {'type': '16th', 'lyric': '了', 'pitch': 'B4'},\n",
       " {'type': '16th', 'lyric': '你', 'pitch': 'D5'},\n",
       " {'type': '16th', 'lyric': '我', 'pitch': 'Bb4'},\n",
       " {'type': 'eighth', 'lyric': '願', 'pitch': 'Bb4'},\n",
       " {'type': 'half', 'lyric': '意', 'pitch': 'A4'},\n",
       " {'type': '16th', 'lyric': '動', 'pitch': 'G4'},\n",
       " {'type': '16th', 'lyric': '也', 'pitch': 'G4'},\n",
       " {'type': 'eighth', 'lyric': '不', 'pitch': 'F#4'},\n",
       " {'type': '16th', 'lyric': '能', 'pitch': 'A4'},\n",
       " {'type': '16th', 'lyric': '動', 'pitch': 'D5'},\n",
       " {'type': '16th', 'lyric': '也', 'pitch': 'A4'},\n",
       " {'type': '16th', 'lyric': '要', 'pitch': 'A4'},\n",
       " {'type': 'eighth', 'lyric': '看', 'pitch': 'D5'},\n",
       " {'type': '16th', 'lyric': '著', 'pitch': 'A4'},\n",
       " {'type': '16th', 'lyric': '你', 'pitch': 'B4'},\n",
       " {'type': '16th', 'lyric': '直', 'pitch': 'G4'},\n",
       " {'type': '16th', 'lyric': '到', 'pitch': 'G4'},\n",
       " {'type': 'eighth', 'lyric': '感', 'pitch': 'F#4'},\n",
       " {'type': '16th', 'lyric': '覺', 'pitch': 'A4'},\n",
       " {'type': '16th', 'lyric': '你', 'pitch': 'D5'},\n",
       " {'type': '16th', 'lyric': '的', 'pitch': 'E5'},\n",
       " {'type': '16th', 'lyric': '髮', 'pitch': 'E5'},\n",
       " {'type': 'eighth', 'lyric': '線', 'pitch': 'D5'},\n",
       " {'type': '16th', 'lyric': '有', 'pitch': 'D5'},\n",
       " {'type': '16th', 'lyric': '了', 'pitch': 'E5'},\n",
       " {'type': 'eighth', 'lyric': '白', 'pitch': 'F#5'},\n",
       " {'type': '16th', 'lyric': '雪', 'pitch': 'C#5'},\n",
       " {'type': '16th', 'lyric': '的', 'pitch': 'C#5'},\n",
       " {'type': 'eighth', 'lyric': '痕', 'pitch': 'D5'},\n",
       " {'type': 'quarter', 'lyric': '跡', 'pitch': 'C#5'},\n",
       " {'type': '16th', 'lyric': '直', 'pitch': 'A4'},\n",
       " {'type': '16th', 'lyric': '到', 'pitch': 'A4'},\n",
       " {'type': 'eighth', 'lyric': '視', 'pitch': 'B4'},\n",
       " {'type': 'eighth', 'lyric': '線', 'pitch': 'D5'},\n",
       " {'type': 'eighth', 'lyric': '變', 'pitch': 'D5'},\n",
       " {'type': '16th', 'lyric': '的', 'pitch': 'B4'},\n",
       " {'type': '16th', 'lyric': '模', 'pitch': 'E5'},\n",
       " {'type': 'eighth', 'lyric': '糊', 'pitch': 'D5'},\n",
       " {'type': 'eighth', 'lyric': '直', 'pitch': 'A4'},\n",
       " {'type': 'eighth', 'lyric': '到', 'pitch': 'A4'},\n",
       " {'type': 'eighth', 'lyric': '不', 'pitch': 'F#5'},\n",
       " {'type': '16th', 'lyric': '能', 'pitch': 'G5'},\n",
       " {'type': '16th', 'lyric': '呼', 'pitch': 'G5'},\n",
       " {'type': 'quarter', 'lyric': '吸', 'pitch': 'F#5'},\n",
       " {'type': 'eighth', 'lyric': '讓', 'pitch': 'F#5'},\n",
       " {'type': '16th', 'lyric': '你', 'pitch': 'B4'},\n",
       " {'type': '16th', 'lyric': '我', 'pitch': 'D5'},\n",
       " {'type': '16th', 'lyric': '形', 'pitch': 'A4'},\n",
       " {'type': 'eighth', 'lyric': '影', 'pitch': 'B4'},\n",
       " {'type': 'eighth', 'lyric': '不', 'pitch': 'D5'},\n",
       " {'type': 'half', 'lyric': '離', 'pitch': 'D5'},\n",
       " {'type': 'quarter', 'lyric': '如', 'pitch': 'D5'},\n",
       " {'type': 'quarter', 'lyric': '果', 'pitch': 'E5'},\n",
       " {'type': 'eighth', 'lyric': '全', 'pitch': 'F#5'},\n",
       " {'type': 'eighth', 'lyric': '世', 'pitch': 'F#5'},\n",
       " {'type': 'eighth', 'lyric': '界', 'pitch': 'F#5'},\n",
       " {'type': '16th', 'lyric': '我', 'pitch': 'F#5'},\n",
       " {'type': '16th', 'lyric': '也', 'pitch': 'E5'},\n",
       " {'type': '16th', 'lyric': '可', 'pitch': 'F#5'},\n",
       " {'type': '16th', 'lyric': '以', 'pitch': 'F#5'},\n",
       " {'type': 'eighth', 'lyric': '放', 'pitch': 'A5'},\n",
       " {'type': 'eighth', 'lyric': '棄', 'pitch': 'A5'},\n",
       " {'type': '16th', 'lyric': '至', 'pitch': 'A4'},\n",
       " {'type': '16th', 'lyric': '少', 'pitch': 'A4'},\n",
       " {'type': 'eighth', 'lyric': '還', 'pitch': 'F#5'},\n",
       " {'type': '16th', 'lyric': '有', 'pitch': 'E5'},\n",
       " {'type': '16th', 'lyric': '你', 'pitch': 'E5'},\n",
       " {'type': '16th', 'lyric': '值', 'pitch': 'E5'},\n",
       " {'type': '16th', 'lyric': '得', 'pitch': 'D5'},\n",
       " {'type': '16th', 'lyric': '我', 'pitch': 'E5'},\n",
       " {'type': '16th', 'lyric': '去', 'pitch': 'E5'},\n",
       " {'type': 'eighth', 'lyric': '珍', 'pitch': 'A5'},\n",
       " {'type': 'eighth', 'lyric': '惜', 'pitch': 'A5'},\n",
       " {'type': '16th', 'lyric': '而', 'pitch': 'A4'},\n",
       " {'type': '16th', 'lyric': '你', 'pitch': 'A4'},\n",
       " {'type': 'eighth', 'lyric': '在', 'pitch': 'E5'},\n",
       " {'type': '16th', 'lyric': '這', 'pitch': 'D5'},\n",
       " {'type': '16th', 'lyric': '裡', 'pitch': 'D5'},\n",
       " {'type': '16th', 'lyric': '就', 'pitch': 'A4'},\n",
       " {'type': '16th', 'lyric': '是', 'pitch': 'A4'},\n",
       " {'type': '16th', 'lyric': '生', 'pitch': 'F5'},\n",
       " {'type': 'eighth', 'lyric': '命', 'pitch': 'E5'},\n",
       " {'type': 'eighth', 'lyric': '的', 'pitch': 'E5'},\n",
       " {'type': '16th', 'lyric': '奇', 'pitch': 'Bb4'},\n",
       " {'type': '16th', 'lyric': '蹟', 'pitch': 'A4'},\n",
       " {'type': 'quarter', 'lyric': '也', 'pitch': 'D5'},\n",
       " {'type': 'quarter', 'lyric': '許', 'pitch': 'E5'},\n",
       " {'type': 'eighth', 'lyric': '全', 'pitch': 'F#5'},\n",
       " {'type': 'eighth', 'lyric': '世', 'pitch': 'F#5'},\n",
       " {'type': 'eighth', 'lyric': '界', 'pitch': 'F#5'},\n",
       " {'type': '16th', 'lyric': '我', 'pitch': 'F#5'},\n",
       " {'type': '16th', 'lyric': '也', 'pitch': 'E5'},\n",
       " {'type': '16th', 'lyric': '可', 'pitch': 'F#5'},\n",
       " {'type': '16th', 'lyric': '以', 'pitch': 'F#5'},\n",
       " {'type': 'eighth', 'lyric': '忘', 'pitch': 'A5'},\n",
       " {'type': 'eighth', 'lyric': '記', 'pitch': 'A5'},\n",
       " {'type': '16th', 'lyric': '就', 'pitch': 'A4'},\n",
       " {'type': '16th', 'lyric': '是', 'pitch': 'A4'},\n",
       " {'type': 'eighth', 'lyric': '不', 'pitch': 'F#5'},\n",
       " {'type': '16th', 'lyric': '願', 'pitch': 'E5'},\n",
       " {'type': '16th', 'lyric': '意', 'pitch': 'E5'},\n",
       " {'type': '16th', 'lyric': '失', 'pitch': 'E5'},\n",
       " {'type': '16th', 'lyric': '去', 'pitch': 'D5'},\n",
       " {'type': '16th', 'lyric': '你', 'pitch': 'E5'},\n",
       " {'type': '16th', 'lyric': '的', 'pitch': 'E5'},\n",
       " {'type': 'eighth', 'lyric': '消', 'pitch': 'A5'},\n",
       " {'type': 'eighth', 'lyric': '息', 'pitch': 'A5'},\n",
       " {'type': '16th', 'lyric': '你', 'pitch': 'A4'},\n",
       " {'type': '16th', 'lyric': '掌', 'pitch': 'A4'},\n",
       " {'type': 'eighth', 'lyric': '心', 'pitch': 'E5'},\n",
       " {'type': '16th', 'lyric': '的', 'pitch': 'D5'},\n",
       " {'type': '16th', 'lyric': '痣', 'pitch': 'D5'},\n",
       " {'type': '16th', 'lyric': '我', 'pitch': 'A4'},\n",
       " {'type': '16th', 'lyric': '總', 'pitch': 'A4'},\n",
       " {'type': '16th', 'lyric': '記', 'pitch': 'F5'},\n",
       " {'type': 'eighth', 'lyric': '得', 'pitch': 'E5'},\n",
       " {'type': 'eighth', 'lyric': '在', 'pitch': 'E5'},\n",
       " {'type': '16th', 'lyric': '哪', 'pitch': 'D5'},\n",
       " {'type': '16th', 'lyric': '裡', 'pitch': 'D5'}]"
      ]
     },
     "execution_count": 9,
     "metadata": {},
     "output_type": "execute_result"
    }
   ],
   "source": [
    "lyric_notes"
   ]
  },
  {
   "cell_type": "markdown",
   "metadata": {},
   "source": [
    "# 2. Exploring "
   ]
  },
  {
   "cell_type": "code",
   "execution_count": 10,
   "metadata": {
    "ExecuteTime": {
     "end_time": "2019-12-22T13:52:41.887077Z",
     "start_time": "2019-12-22T13:52:41.882079Z"
    }
   },
   "outputs": [],
   "source": [
    "time = root.find('.//time')"
   ]
  },
  {
   "cell_type": "code",
   "execution_count": 11,
   "metadata": {
    "ExecuteTime": {
     "end_time": "2019-12-22T13:52:42.250021Z",
     "start_time": "2019-12-22T13:52:42.242023Z"
    }
   },
   "outputs": [
    {
     "data": {
      "text/plain": [
       "'4'"
      ]
     },
     "execution_count": 11,
     "metadata": {},
     "output_type": "execute_result"
    }
   ],
   "source": [
    "time.find(\".//beats\").text"
   ]
  },
  {
   "cell_type": "code",
   "execution_count": 12,
   "metadata": {
    "ExecuteTime": {
     "end_time": "2019-12-22T13:52:42.876928Z",
     "start_time": "2019-12-22T13:52:42.870921Z"
    }
   },
   "outputs": [
    {
     "data": {
      "text/plain": [
       "'4'"
      ]
     },
     "execution_count": 12,
     "metadata": {},
     "output_type": "execute_result"
    }
   ],
   "source": [
    "time.find(\".//beat-type\").text"
   ]
  },
  {
   "cell_type": "markdown",
   "metadata": {},
   "source": [
    "# 3. Helper classes /functions"
   ]
  },
  {
   "cell_type": "markdown",
   "metadata": {},
   "source": [
    "## 3.1 Helper classes"
   ]
  },
  {
   "cell_type": "code",
   "execution_count": 13,
   "metadata": {
    "ExecuteTime": {
     "end_time": "2019-12-22T13:52:20.464871Z",
     "start_time": "2019-12-22T13:52:20.456895Z"
    }
   },
   "outputs": [],
   "source": [
    "from enum import Enum\n",
    "\n",
    "class NoteTypes(Enum):\n",
    "    '''Class defining types of notes'''\n",
    "    whole = 1\n",
    "    half = 2\n",
    "    quarter = 4\n",
    "    eight = 8\n",
    "    sixteenth = 16\n",
    "    thirtysecond = 32"
   ]
  },
  {
   "cell_type": "code",
   "execution_count": 14,
   "metadata": {
    "ExecuteTime": {
     "end_time": "2019-12-22T13:52:20.780822Z",
     "start_time": "2019-12-22T13:52:20.773826Z"
    }
   },
   "outputs": [],
   "source": [
    "class NoteLetters(Enum):\n",
    "    C = 0\n",
    "    D = 2\n",
    "    E = 4\n",
    "    F = 6\n",
    "    G = 8\n",
    "    A = 10\n",
    "    B = 12"
   ]
  },
  {
   "cell_type": "code",
   "execution_count": 80,
   "metadata": {
    "ExecuteTime": {
     "end_time": "2019-12-22T13:52:21.098771Z",
     "start_time": "2019-12-22T13:52:21.073779Z"
    }
   },
   "outputs": [],
   "source": [
    "import math\n",
    "\n",
    "class Note:\n",
    "    '''Class representing a musical note'''\n",
    "    notetype = None\n",
    "    step = ''\n",
    "    octave = 0\n",
    "    so = None\n",
    "    tie = None\n",
    "    accidental = None\n",
    "    \n",
    "    def __init__(self,notetype,step,octave,tie,accidental):\n",
    "        self.notetype = notetype\n",
    "        self.step = step\n",
    "        self.octave = int(octave)\n",
    "        self.tie = tie\n",
    "        self.accidental = accidental\n",
    "        \n",
    "    def get_so(self):\n",
    "        if self.accidental:\n",
    "            so = self.step + self.accidental + str(self.octave)\n",
    "        else:\n",
    "            \n",
    "            so = self.step + str(self.octave)\n",
    "        return so\n",
    "    \n",
    "    def printNote(self):\n",
    "        if self.step=='':\n",
    "            print('Note: ' + 'rest' + ' / ' +\n",
    "              str(self.notetype))\n",
    "        else:\n",
    "            print('Note: ' + str(self.get_so()) + ' / ' +\n",
    "              str(self.notetype) + ' / ' +\n",
    "              str(self.tie))\n",
    "            \n",
    "    def addOctaves(self,addOct):\n",
    "        self.octave += addOct\n",
    "        \n",
    "    def copyNote(self):\n",
    "        ncopy = Note(self.notetype,self.step,self.octave,self.tie,self.accidental)\n",
    "        return ncopy\n",
    "    \n",
    "    def addSemiTones(self,semiTToAdd):\n",
    "        \n",
    "        #get relative position of new note\n",
    "        newVal = getattr(NoteLetters,self.step).value + semiTToAdd\n",
    "        #DEBUG\n",
    "        #print(newVal)\n",
    "        \n",
    "        #handle semitones first\n",
    "        if (semiTToAdd%2!=0):\n",
    "            \n",
    "            if self.accidental == '#':\n",
    "                self.accidental = None\n",
    "                newVal += 1\n",
    "\n",
    "            elif self.accidental == 'b':\n",
    "                self.accidental = None\n",
    "                newVal -= 1\n",
    "            \n",
    "            elif not self.accidental:\n",
    "                self.accidental = '#'\n",
    "                newVal -= 1\n",
    "                \n",
    "            #natural, assumes sharps in score\n",
    "            else:\n",
    "                self.accidental = None\n",
    "                newVal -= 1\n",
    "\n",
    "       \n",
    "        #Change step\n",
    "        self.step = NoteLetters(newVal% 14).name\n",
    "        \n",
    "        #change octave\n",
    "        self.octave += math.floor(newVal/14)   \n",
    "\n",
    "        "
   ]
  },
  {
   "cell_type": "code",
   "execution_count": 16,
   "metadata": {
    "ExecuteTime": {
     "end_time": "2019-12-22T13:52:21.375728Z",
     "start_time": "2019-12-22T13:52:21.362730Z"
    }
   },
   "outputs": [],
   "source": [
    "class Measure:\n",
    "    '''Class representing a measure'''\n",
    "    notes = []\n",
    "    \n",
    "    def __init__(self,notes):\n",
    "        self.notes = notes\n",
    "    \n",
    "    def get_sos(self):\n",
    "        sos = []\n",
    "        for note in self.notes:\n",
    "            sos.append(note.get_so())\n",
    "        return sos\n",
    "    \n",
    "    def get_notetypes(self):\n",
    "        notetypes = []\n",
    "        for note in self.notes:\n",
    "            notetypes.append(note.notetype)\n",
    "        return notetypes \n",
    "    \n",
    "    def get_ties(self):\n",
    "        ties = []\n",
    "        for tie in self.notes:\n",
    "            ties.append(note.tie)\n",
    "        return ties \n",
    "    \n",
    "    def printMeasure(self):\n",
    "        for note in self.notes:\n",
    "            note.printNote()\n",
    "            \n",
    "    def get_notes(self):\n",
    "        return notes"
   ]
  },
  {
   "cell_type": "markdown",
   "metadata": {},
   "source": [
    "## 3.2 Helper functions"
   ]
  },
  {
   "cell_type": "code",
   "execution_count": 17,
   "metadata": {
    "ExecuteTime": {
     "end_time": "2019-12-22T13:52:22.014627Z",
     "start_time": "2019-12-22T13:52:22.005628Z"
    }
   },
   "outputs": [],
   "source": [
    "def get_ts_xml(root):\n",
    "    '''Gets time signature for a musicxml file.\n",
    "    Input: Root of XML Tree\n",
    "    Output:top and bottom numbers of the Time signature'''\n",
    "    time = root.find('.//time')\n",
    "    top = int(time.find(\".//beats\").text)\n",
    "    bottom = int(time.find(\".//beat-type\").text)\n",
    "    return top,bottom"
   ]
  },
  {
   "cell_type": "code",
   "execution_count": 18,
   "metadata": {
    "ExecuteTime": {
     "end_time": "2019-12-22T13:52:50.092800Z",
     "start_time": "2019-12-22T13:52:50.086804Z"
    }
   },
   "outputs": [
    {
     "data": {
      "text/plain": [
       "(4, 4)"
      ]
     },
     "execution_count": 18,
     "metadata": {},
     "output_type": "execute_result"
    }
   ],
   "source": [
    "get_ts_xml(root)"
   ]
  },
  {
   "cell_type": "code",
   "execution_count": 19,
   "metadata": {
    "ExecuteTime": {
     "end_time": "2019-12-22T13:52:50.710703Z",
     "start_time": "2019-12-22T13:52:50.703704Z"
    }
   },
   "outputs": [],
   "source": [
    "def get_bpm_xml(root):\n",
    "    '''Gets beats per minute as well as type of beats for a musicxml file.\n",
    "    Input: Root of XML Tree\n",
    "    Output: beats per minute, noteType'''\n",
    "    metronome = root.find('.//metronome')\n",
    "    beats_per_min = int(metronome.find('.//per-minute').text)\n",
    "    beat_type = metronome.find('.//beat-unit').text\n",
    "    #beat_type = getattr(NoteTypes, str(beat_type))\n",
    "    return beats_per_min, beat_type"
   ]
  },
  {
   "cell_type": "code",
   "execution_count": 20,
   "metadata": {
    "ExecuteTime": {
     "end_time": "2019-12-22T13:52:51.476583Z",
     "start_time": "2019-12-22T13:52:51.471585Z"
    }
   },
   "outputs": [
    {
     "data": {
      "text/plain": [
       "(62, 'quarter')"
      ]
     },
     "execution_count": 20,
     "metadata": {},
     "output_type": "execute_result"
    }
   ],
   "source": [
    "get_bpm_xml(root)"
   ]
  },
  {
   "cell_type": "code",
   "execution_count": 21,
   "metadata": {
    "ExecuteTime": {
     "end_time": "2019-12-22T13:52:52.555477Z",
     "start_time": "2019-12-22T13:52:52.544477Z"
    }
   },
   "outputs": [],
   "source": [
    "def decode_xml_note(xml_note):\n",
    "    '''Gets note type, step, octave and tie type'''\n",
    "    try:\n",
    "        notetype = xml_note.find('.//type').text\n",
    "    except:\n",
    "        notetype = None\n",
    "    try:\n",
    "        step = xml_note.find('.//step').text\n",
    "    except:\n",
    "        step = ''\n",
    "    try:\n",
    "        octave = xml_note.find('.//octave').text\n",
    "    except:\n",
    "        octave = 0\n",
    "    try:\n",
    "        tie = xml_note.find('.//tie').get('type')\n",
    "    except:\n",
    "        tie = None\n",
    "    try:\n",
    "        accidental = xml_note.find('.//accidental').text\n",
    "        if accidental == 'natural':\n",
    "            accidental = 'n'\n",
    "        if accidental == 'flat':\n",
    "            accidental = 'b'\n",
    "        if accidental == 'sharp':\n",
    "            accidental = '#'\n",
    "            \n",
    "    except:\n",
    "        accidental = None\n",
    "        \n",
    "    note = Note(notetype,step,octave,tie,accidental)\n",
    "    #DEBUG\n",
    "    #note.printNote()\n",
    "    \n",
    "    return note"
   ]
  },
  {
   "cell_type": "code",
   "execution_count": 22,
   "metadata": {
    "ExecuteTime": {
     "end_time": "2019-12-22T13:52:53.107389Z",
     "start_time": "2019-12-22T13:52:53.100392Z"
    }
   },
   "outputs": [
    {
     "data": {
      "text/plain": [
       "<__main__.Note at 0x7f0106e1e240>"
      ]
     },
     "execution_count": 22,
     "metadata": {},
     "output_type": "execute_result"
    }
   ],
   "source": [
    "measures = root.findall('.//measure')\n",
    "xml_measure_notes = measures[4].findall('.//note')\n",
    "xml_note = xml_measure_notes[0]\n",
    "decode_xml_note(xml_note)"
   ]
  },
  {
   "cell_type": "code",
   "execution_count": 23,
   "metadata": {
    "ExecuteTime": {
     "end_time": "2019-12-22T13:52:53.472331Z",
     "start_time": "2019-12-22T13:52:53.467331Z"
    }
   },
   "outputs": [],
   "source": [
    "def get_meas_notes_xml(xml_measure_notes):\n",
    "    ''''return all notes in an xml measure'''\n",
    "    notes = []\n",
    "    for xml_note in xml_measure_notes:\n",
    "        note = decode_xml_note(xml_note)\n",
    "        if note.notetype:\n",
    "            notes.append(note)\n",
    "        #DEBUG\n",
    "        #note.printNote()\n",
    "    return notes"
   ]
  },
  {
   "cell_type": "code",
   "execution_count": 24,
   "metadata": {
    "ExecuteTime": {
     "end_time": "2019-12-22T13:52:53.836275Z",
     "start_time": "2019-12-22T13:52:53.824279Z"
    }
   },
   "outputs": [],
   "source": [
    "def compare_notes(n1,n2):\n",
    "    '''returns the difference in semitones between 2 notes'''\n",
    "    val1 = getattr(NoteLetters,n1.step).value\n",
    "    val2 = getattr(NoteLetters,n2.step).value\n",
    "    difference = val2 - val1\n",
    "    #add octaves\n",
    "    difference += (n2.octave - n1.octave) * 14\n",
    "    #add accidentals\n",
    "    if (n1.accidental):\n",
    "        if n1.accidental == '#':\n",
    "            difference-=1\n",
    "        elif n1.accidental == 'b':\n",
    "            difference+=1\n",
    "        #naturals,assumes the sheet music has flat alterations only\n",
    "        else:\n",
    "            difference+=1\n",
    "    if (n2.accidental):\n",
    "        if n1.accidental == '#':\n",
    "            difference+=1\n",
    "        elif n1.accidental == 'b':\n",
    "            difference-=1\n",
    "        #naturals,assumes the sheet music has flat alterations only\n",
    "        else:\n",
    "            difference-=1\n",
    "    return difference"
   ]
  },
  {
   "cell_type": "code",
   "execution_count": 65,
   "metadata": {
    "ExecuteTime": {
     "end_time": "2019-12-22T13:52:55.280083Z",
     "start_time": "2019-12-22T13:52:55.271084Z"
    }
   },
   "outputs": [],
   "source": [
    "def get_inverted_measure(measure):\n",
    "    \n",
    "    #get first note\n",
    "    inv_notes = []\n",
    "    prevNoteNew = measure.notes[0].copyNote()\n",
    "    if prevNoteNew.step!= '':\n",
    "        prevNoteNew.addSemiTones(-14)\n",
    "    #DEBUG\n",
    "    #prevNoteNew.printNote()\n",
    "    inv_notes.append(prevNoteNew)\n",
    "    prevNoteOg = measure.notes[0].copyNote()\n",
    "    \n",
    "    for nextNoteOg in measure.notes[1:]:\n",
    "        #handle rests\n",
    "        if nextNoteOg.step == '':\n",
    "            nextNoteNew = nextNoteOg.copyNote()\n",
    "        else:\n",
    "             #if previous measure is a rest\n",
    "            if prevNoteOg.step!='':\n",
    "                nextNoteNew = Note(nextNoteOg.notetype,prevNoteNew.step,prevNoteNew.octave,nextNoteOg.tie,nextNoteOg.accidental)\n",
    "                diff = compare_notes(prevNoteOg,nextNoteOg)\n",
    "            else:\n",
    "                nextNoteNew = nextNoteOg.copyNote()\n",
    "                diff = 14\n",
    "            nextNoteNew.addSemiTones(-diff)\n",
    "        inv_notes.append(nextNoteNew)\n",
    "        prevNoteOg = nextNoteOg\n",
    "        prevNoteNew = nextNoteNew\n",
    "            #DEBUG \n",
    "            #print(diff)\n",
    "            #prevNoteNew.printNote()\n",
    "\n",
    "    inv_meas = Measure(inv_notes)\n",
    "    return inv_meas\n",
    "    "
   ]
  },
  {
   "cell_type": "code",
   "execution_count": 61,
   "metadata": {
    "ExecuteTime": {
     "end_time": "2019-12-22T13:52:57.832753Z",
     "start_time": "2019-12-22T13:52:57.824754Z"
    }
   },
   "outputs": [
    {
     "data": {
      "text/plain": [
       "[<__main__.Note at 0x7f0106ef9908>,\n",
       " <__main__.Note at 0x7f0106ef9240>,\n",
       " <__main__.Note at 0x7f0106ef9e80>,\n",
       " <__main__.Note at 0x7f0106ef9278>,\n",
       " <__main__.Note at 0x7f011406b9b0>,\n",
       " <__main__.Note at 0x7f011406bdd8>,\n",
       " <__main__.Note at 0x7f011406be10>]"
      ]
     },
     "execution_count": 61,
     "metadata": {},
     "output_type": "execute_result"
    }
   ],
   "source": [
    "get_meas_notes_xml(xml_measure_notes)"
   ]
  },
  {
   "cell_type": "markdown",
   "metadata": {},
   "source": [
    "## 3.3 Try to use classes"
   ]
  },
  {
   "cell_type": "code",
   "execution_count": 27,
   "metadata": {
    "ExecuteTime": {
     "end_time": "2019-12-22T13:52:59.086602Z",
     "start_time": "2019-12-22T13:52:59.078605Z"
    }
   },
   "outputs": [
    {
     "name": "stdout",
     "output_type": "stream",
     "text": [
      "Note: rest / half\n"
     ]
    }
   ],
   "source": [
    "#get a note\n",
    "xml_measures = root.findall('.//measure')\n",
    "xml_measure = xml_measures[3].findall('.//note')\n",
    "xml_note = xml_measure[0]\n",
    "note = decode_xml_note(xml_note)\n",
    "note.printNote()"
   ]
  },
  {
   "cell_type": "code",
   "execution_count": 28,
   "metadata": {
    "ExecuteTime": {
     "end_time": "2019-12-22T13:52:59.629519Z",
     "start_time": "2019-12-22T13:52:59.624520Z"
    }
   },
   "outputs": [],
   "source": [
    "note.so"
   ]
  },
  {
   "cell_type": "code",
   "execution_count": 29,
   "metadata": {
    "ExecuteTime": {
     "end_time": "2019-12-22T13:53:00.542373Z",
     "start_time": "2019-12-22T13:53:00.536374Z"
    }
   },
   "outputs": [
    {
     "data": {
      "text/plain": [
       "'half'"
      ]
     },
     "execution_count": 29,
     "metadata": {},
     "output_type": "execute_result"
    }
   ],
   "source": [
    "note.notetype"
   ]
  },
  {
   "cell_type": "code",
   "execution_count": 30,
   "metadata": {
    "ExecuteTime": {
     "end_time": "2019-12-22T13:53:01.070290Z",
     "start_time": "2019-12-22T13:53:01.066311Z"
    }
   },
   "outputs": [],
   "source": [
    "note.tie"
   ]
  },
  {
   "cell_type": "code",
   "execution_count": 31,
   "metadata": {
    "ExecuteTime": {
     "end_time": "2019-12-22T13:53:01.370243Z",
     "start_time": "2019-12-22T13:53:01.363243Z"
    }
   },
   "outputs": [
    {
     "name": "stdout",
     "output_type": "stream",
     "text": [
      "Note: rest / half\n",
      "Note: rest / quarter\n",
      "Note: rest / eighth\n",
      "Note: G4 / 16th / None\n",
      "Note: G4 / 16th / None\n"
     ]
    }
   ],
   "source": [
    "#get a measure\n",
    "measure = Measure(get_meas_notes_xml(xml_measure))\n",
    "measure.printMeasure()"
   ]
  },
  {
   "cell_type": "code",
   "execution_count": 32,
   "metadata": {
    "ExecuteTime": {
     "end_time": "2019-12-22T13:53:01.607476Z",
     "start_time": "2019-12-22T13:53:01.601478Z"
    }
   },
   "outputs": [
    {
     "data": {
      "text/plain": [
       "['0', '0', '0', 'G4', 'G4']"
      ]
     },
     "execution_count": 32,
     "metadata": {},
     "output_type": "execute_result"
    }
   ],
   "source": [
    "measure.get_sos()"
   ]
  },
  {
   "cell_type": "code",
   "execution_count": 33,
   "metadata": {
    "ExecuteTime": {
     "end_time": "2019-12-22T13:53:01.874487Z",
     "start_time": "2019-12-22T13:53:01.867487Z"
    }
   },
   "outputs": [
    {
     "data": {
      "text/plain": [
       "['half', 'quarter', 'eighth', '16th', '16th']"
      ]
     },
     "execution_count": 33,
     "metadata": {},
     "output_type": "execute_result"
    }
   ],
   "source": [
    "measure.get_notetypes()"
   ]
  },
  {
   "cell_type": "code",
   "execution_count": 34,
   "metadata": {
    "ExecuteTime": {
     "end_time": "2019-12-22T13:53:02.171847Z",
     "start_time": "2019-12-22T13:53:02.164850Z"
    }
   },
   "outputs": [
    {
     "data": {
      "text/plain": [
       "[None, None, None, None, None]"
      ]
     },
     "execution_count": 34,
     "metadata": {},
     "output_type": "execute_result"
    }
   ],
   "source": [
    "measure.get_ties()"
   ]
  },
  {
   "cell_type": "code",
   "execution_count": 35,
   "metadata": {
    "ExecuteTime": {
     "end_time": "2019-12-22T13:53:02.725826Z",
     "start_time": "2019-12-22T13:53:02.711828Z"
    }
   },
   "outputs": [],
   "source": [
    "#read all measures\n",
    "xml_measures = root.findall('.//measure')\n",
    "measures = []\n",
    "\n",
    "for xml_measure in xml_measures:\n",
    "    measure = Measure(get_meas_notes_xml(xml_measure))\n",
    "    if not measure.get_sos()==['0']:\n",
    "        measures.append(measure)"
   ]
  },
  {
   "cell_type": "code",
   "execution_count": 36,
   "metadata": {
    "ExecuteTime": {
     "end_time": "2019-12-22T13:53:03.215463Z",
     "start_time": "2019-12-22T13:53:03.207465Z"
    }
   },
   "outputs": [
    {
     "name": "stdout",
     "output_type": "stream",
     "text": [
      "Note: A4 / 16th / None\n",
      "Note: A4 / 16th / None\n"
     ]
    }
   ],
   "source": [
    "#try adding semitones\n",
    "n1 = measures[1].notes[1]\n",
    "n1.printNote()\n",
    "n2 = n1.copyNote()\n",
    "n2.printNote()"
   ]
  },
  {
   "cell_type": "markdown",
   "metadata": {},
   "source": [
    "## 3.4 Add/remove semitones and compare notes"
   ]
  },
  {
   "cell_type": "code",
   "execution_count": 37,
   "metadata": {
    "ExecuteTime": {
     "end_time": "2019-12-22T13:53:03.986567Z",
     "start_time": "2019-12-22T13:53:03.976566Z"
    }
   },
   "outputs": [
    {
     "name": "stdout",
     "output_type": "stream",
     "text": [
      "Note: B4 / quarter / None\n"
     ]
    },
    {
     "data": {
      "text/plain": [
       "14"
      ]
     },
     "execution_count": 37,
     "metadata": {},
     "output_type": "execute_result"
    }
   ],
   "source": [
    "#new note at the nottom, lower by 2 semitones\n",
    "n3 = Note('quarter','B','4',None,None)\n",
    "n3.printNote()\n",
    "newval = getattr(NoteLetters,n3.step).value+2\n",
    "newval"
   ]
  },
  {
   "cell_type": "code",
   "execution_count": 38,
   "metadata": {
    "ExecuteTime": {
     "end_time": "2019-12-22T13:53:04.242524Z",
     "start_time": "2019-12-22T13:53:04.234526Z"
    }
   },
   "outputs": [
    {
     "data": {
      "text/plain": [
       "<NoteLetters.C: 0>"
      ]
     },
     "execution_count": 38,
     "metadata": {},
     "output_type": "execute_result"
    }
   ],
   "source": [
    "NoteLetters(newval%14)"
   ]
  },
  {
   "cell_type": "code",
   "execution_count": 39,
   "metadata": {
    "ExecuteTime": {
     "end_time": "2019-12-22T13:53:04.473945Z",
     "start_time": "2019-12-22T13:53:04.466946Z"
    }
   },
   "outputs": [
    {
     "data": {
      "text/plain": [
       "'C'"
      ]
     },
     "execution_count": 39,
     "metadata": {},
     "output_type": "execute_result"
    }
   ],
   "source": [
    "NoteLetters(newval%14).name"
   ]
  },
  {
   "cell_type": "code",
   "execution_count": 40,
   "metadata": {
    "ExecuteTime": {
     "end_time": "2019-12-22T13:53:04.693910Z",
     "start_time": "2019-12-22T13:53:04.686912Z"
    }
   },
   "outputs": [
    {
     "name": "stdout",
     "output_type": "stream",
     "text": [
      "Note: A4 / quarter / None\n"
     ]
    }
   ],
   "source": [
    "#try the function\n",
    "n4 = Note('quarter','B','4',None,None)\n",
    "n4.addSemiTones(-2)\n",
    "n4.printNote()"
   ]
  },
  {
   "cell_type": "code",
   "execution_count": 41,
   "metadata": {
    "ExecuteTime": {
     "end_time": "2019-12-22T13:53:04.909364Z",
     "start_time": "2019-12-22T13:53:04.904364Z"
    }
   },
   "outputs": [
    {
     "name": "stdout",
     "output_type": "stream",
     "text": [
      "Note: C5 / quarter / None\n"
     ]
    }
   ],
   "source": [
    "#try the function\n",
    "n4 = Note('quarter','B','4',None,None)\n",
    "n4.addSemiTones(2)\n",
    "n4.printNote()"
   ]
  },
  {
   "cell_type": "markdown",
   "metadata": {},
   "source": [
    "## 3.5 Compare 2 notes"
   ]
  },
  {
   "cell_type": "code",
   "execution_count": 42,
   "metadata": {
    "ExecuteTime": {
     "end_time": "2019-12-22T13:53:05.372290Z",
     "start_time": "2019-12-22T13:53:05.366292Z"
    }
   },
   "outputs": [],
   "source": [
    "#1st try\n",
    "n1 = Note('quarter','B','4',None,None)\n",
    "n2 = Note('quarter','D','4',None,None)\n",
    "n3 = n1.copyNote()"
   ]
  },
  {
   "cell_type": "code",
   "execution_count": 43,
   "metadata": {
    "ExecuteTime": {
     "end_time": "2019-12-22T13:53:05.903206Z",
     "start_time": "2019-12-22T13:53:05.897206Z"
    }
   },
   "outputs": [
    {
     "data": {
      "text/plain": [
       "-10"
      ]
     },
     "execution_count": 43,
     "metadata": {},
     "output_type": "execute_result"
    }
   ],
   "source": [
    "diff = compare_notes(n1,n2)\n",
    "diff"
   ]
  },
  {
   "cell_type": "code",
   "execution_count": 44,
   "metadata": {
    "ExecuteTime": {
     "end_time": "2019-12-22T13:53:06.343136Z",
     "start_time": "2019-12-22T13:53:06.338140Z"
    }
   },
   "outputs": [
    {
     "name": "stdout",
     "output_type": "stream",
     "text": [
      "Note: G5 / quarter / None\n"
     ]
    }
   ],
   "source": [
    "n3.addSemiTones(-diff)\n",
    "n3.printNote()"
   ]
  },
  {
   "cell_type": "code",
   "execution_count": 45,
   "metadata": {
    "ExecuteTime": {
     "end_time": "2019-12-22T13:53:06.686083Z",
     "start_time": "2019-12-22T13:53:06.677084Z"
    }
   },
   "outputs": [
    {
     "name": "stdout",
     "output_type": "stream",
     "text": [
      "Note: D3 / quarter / None\n"
     ]
    }
   ],
   "source": [
    "#2nd try\n",
    "n1 = Note('quarter','D','3',None,None)\n",
    "n2 = Note('quarter','A','5',None,None)\n",
    "n3 = n1.copyNote()\n",
    "n1.printNote()"
   ]
  },
  {
   "cell_type": "code",
   "execution_count": 46,
   "metadata": {
    "ExecuteTime": {
     "end_time": "2019-12-22T13:53:06.930128Z",
     "start_time": "2019-12-22T13:53:06.922131Z"
    }
   },
   "outputs": [
    {
     "data": {
      "text/plain": [
       "36"
      ]
     },
     "execution_count": 46,
     "metadata": {},
     "output_type": "execute_result"
    }
   ],
   "source": [
    "diff = compare_notes(n1,n2)\n",
    "diff"
   ]
  },
  {
   "cell_type": "code",
   "execution_count": 47,
   "metadata": {
    "ExecuteTime": {
     "end_time": "2019-12-22T13:53:07.184089Z",
     "start_time": "2019-12-22T13:53:07.179089Z"
    }
   },
   "outputs": [
    {
     "name": "stdout",
     "output_type": "stream",
     "text": [
      "Note: A5 / quarter / None\n"
     ]
    }
   ],
   "source": [
    "n3.addSemiTones(diff)\n",
    "n3.printNote()"
   ]
  },
  {
   "cell_type": "markdown",
   "metadata": {
    "ExecuteTime": {
     "end_time": "2019-12-22T08:11:58.119218Z",
     "start_time": "2019-12-22T08:11:58.115221Z"
    }
   },
   "source": [
    "# 3.6 invert notes"
   ]
  },
  {
   "cell_type": "code",
   "execution_count": 66,
   "metadata": {
    "ExecuteTime": {
     "end_time": "2019-12-22T13:53:10.965192Z",
     "start_time": "2019-12-22T13:53:10.960192Z"
    }
   },
   "outputs": [],
   "source": [
    "#use function\n",
    "m1 = measures[4]"
   ]
  },
  {
   "cell_type": "code",
   "execution_count": 67,
   "metadata": {
    "ExecuteTime": {
     "end_time": "2019-12-22T13:53:40.964174Z",
     "start_time": "2019-12-22T13:53:40.957175Z"
    }
   },
   "outputs": [
    {
     "name": "stdout",
     "output_type": "stream",
     "text": [
      "Note: F5 / eighth / None\n",
      "Note: C5 / 16th / None\n",
      "Note: C5 / 16th / start\n",
      "Note: C5 / eighth / stop\n",
      "Note: B4 / eighth / None\n",
      "Note: C5 / quarter / None\n",
      "Note: A4 / 16th / None\n",
      "Note: A4 / 16th / None\n"
     ]
    }
   ],
   "source": [
    "m1.printMeasure()"
   ]
  },
  {
   "cell_type": "code",
   "execution_count": 68,
   "metadata": {
    "ExecuteTime": {
     "end_time": "2019-12-22T13:53:13.110203Z",
     "start_time": "2019-12-22T13:53:13.103207Z"
    }
   },
   "outputs": [
    {
     "name": "stdout",
     "output_type": "stream",
     "text": [
      "Note: F4 / eighth / None\n",
      "Note: B4 / 16th / None\n",
      "Note: B4 / 16th / start\n",
      "Note: B4 / eighth / stop\n",
      "Note: C5 / eighth / None\n",
      "Note: B4 / quarter / None\n",
      "Note: D5 / 16th / None\n",
      "Note: D5 / 16th / None\n"
     ]
    }
   ],
   "source": [
    "inv_m2 = None\n",
    "inv_m2 = get_inverted_measure(m1)\n",
    "inv_m2.printMeasure()"
   ]
  },
  {
   "cell_type": "code",
   "execution_count": 69,
   "metadata": {},
   "outputs": [
    {
     "name": "stdout",
     "output_type": "stream",
     "text": [
      "Note: rest / half\n",
      "Note: rest / quarter\n",
      "Note: rest / eighth\n",
      "Note: G3 / 16th / None\n",
      "Note: G3 / 16th / None\n"
     ]
    }
   ],
   "source": [
    "inv_m2 = get_inverted_measure(measures[0])\n",
    "inv_m2.printMeasure()"
   ]
  },
  {
   "cell_type": "code",
   "execution_count": null,
   "metadata": {
    "ExecuteTime": {
     "end_time": "2019-12-22T13:53:15.632130Z",
     "start_time": "2019-12-22T13:53:15.624151Z"
    }
   },
   "outputs": [],
   "source": [
    "compare_notes(measures[4].notes[0],measures[4].notes[1])"
   ]
  },
  {
   "cell_type": "code",
   "execution_count": 81,
   "metadata": {},
   "outputs": [
    {
     "name": "stdout",
     "output_type": "stream",
     "text": [
      "0\n",
      "Note: rest / half\n",
      "Note: rest / quarter\n",
      "Note: rest / eighth\n",
      "Note: G3 / 16th / None\n",
      "Note: G3 / 16th / None\n",
      "1\n",
      "Note: F3 / eighth / None\n",
      "Note: D3 / 16th / None\n",
      "Note: A2 / 16th / start\n",
      "Note: A2 / half / stop\n",
      "Note: A2 / eighth / stop\n",
      "Note: D3 / 16th / None\n",
      "Note: D3 / 16th / None\n",
      "2\n",
      "Note: D4 / eighth / None\n",
      "Note: G4 / 16th / None\n",
      "Note: F4 / 16th / start\n",
      "Note: F4 / half / stop\n",
      "Note: F4 / eighth / stop\n",
      "Note: A4 / 16th / None\n",
      "Note: A4 / 16th / None\n",
      "3\n",
      "Note: F3 / eighth / None\n",
      "Note: D3 / eighth / None\n",
      "Note: A2 / eighth / None\n",
      "Note: G2 / 16th / None\n",
      "Note: G2 / 16th / start\n",
      "Note: G2 / 16th / stop\n",
      "Note: A2 / eighth / None\n",
      "Note: rest / eighth\n",
      "Note: D4 / 16th / None\n",
      "Note: C4 / 16th / None\n",
      "4\n",
      "Note: F4 / eighth / None\n",
      "Note: B4 / 16th / None\n",
      "Note: B4 / 16th / start\n",
      "Note: B4 / eighth / stop\n",
      "Note: C5 / eighth / None\n",
      "Note: B4 / quarter / None\n",
      "Note: D5 / 16th / None\n",
      "Note: D5 / 16th / None\n",
      "5\n",
      "Note: B3 / eighth / None\n",
      "Note: G3 / eighth / None\n",
      "Note: G3 / eighth / None\n",
      "Note: B3 / 16th / None\n",
      "Note: F3 / 16th / start\n",
      "Note: F3 / 16th / stop\n",
      "Note: G3 / eighth / start\n",
      "Note: G3 / quarter / stop\n",
      "6\n",
      "Note: A3 / eighth / None\n",
      "Note: A3 / eighth / None\n",
      "Note: C3 / eighth / None\n",
      "Note: B2 / 16th / None\n",
      "Note: B2 / 16th / start\n",
      "Note: B2 / eighth / stop\n",
      "Note: C3 / quarter / None\n",
      "7\n",
      "Note: F4 / eighth / None\n",
      "Note: C5 / 16th / None\n",
      "Note: A4 / 16th / start\n",
      "Note: A4 / half / stop\n",
      "Note: C5 / 16th / None\n",
      "Note: B#4 / eighth / None\n",
      "8\n",
      "Note: A3 / half / None\n",
      "Note: rest / eighth\n",
      "Note: G3 / 16th / None\n",
      "Note: G3 / 16th / None\n",
      "9\n",
      "Note: F3 / eighth / None\n",
      "Note: D3 / 16th / None\n",
      "Note: A2 / 16th / start\n",
      "Note: A2 / half / stop\n",
      "Note: A2 / eighth / stop\n",
      "Note: D3 / 16th / None\n",
      "Note: D3 / 16th / None\n",
      "10\n",
      "Note: D4 / eighth / None\n",
      "Note: G4 / 16th / None\n",
      "Note: F4 / 16th / start\n",
      "Note: F4 / half / stop\n",
      "Note: F4 / eighth / stop\n",
      "Note: A4 / 16th / None\n",
      "Note: A4 / 16th / None\n",
      "11\n",
      "Note: F3 / eighth / None\n",
      "Note: D3 / 16th / None\n",
      "Note: A2 / 16th / start\n",
      "Note: A2 / eighth / stop\n",
      "Note: G2 / 16th / None\n",
      "Note: G2 / 16th / start\n",
      "Note: G2 / 16th / stop\n",
      "Note: A2 / eighth / None\n",
      "Note: rest / eighth\n",
      "Note: D4 / 16th / None\n",
      "Note: C4 / 16th / None\n",
      "12\n",
      "Note: F4 / eighth / None\n",
      "Note: B4 / 16th / None\n",
      "Note: B4 / 16th / start\n",
      "Note: B4 / eighth / stop\n",
      "Note: A4 / eighth / None\n",
      "Note: B4 / quarter / None\n",
      "Note: D5 / 16th / None\n",
      "Note: D5 / 16th / None\n",
      "13\n",
      "Note: B3 / eighth / None\n",
      "Note: G3 / eighth / None\n",
      "Note: G3 / eighth / None\n",
      "Note: B3 / 16th / None\n",
      "Note: F3 / 16th / start\n",
      "Note: F3 / 16th / stop\n",
      "Note: G3 / eighth / start\n",
      "Note: G3 / quarter / stop\n",
      "14\n",
      "Note: A3 / eighth / None\n",
      "Note: A3 / eighth / None\n",
      "Note: C3 / eighth / None\n",
      "Note: B2 / 16th / None\n",
      "Note: B2 / 16th / start\n",
      "Note: B2 / eighth / stop\n",
      "Note: C3 / quarter / None\n",
      "15\n",
      "Note: F4 / eighth / None\n",
      "Note: C5 / 16th / None\n",
      "Note: A4 / 16th / start\n",
      "Note: A4 / quarter / stop\n",
      "Note: rest / eighth\n",
      "Note: A3 / 16th / None\n",
      "Note: G3 / eighth / None\n",
      "Note: E3 / eighth / None\n",
      "16\n",
      "Note: D4 / half / None\n",
      "Note: D4 / quarter / None\n",
      "Note: C4 / quarter / None\n",
      "17\n",
      "Note: F4 / eighth / None\n",
      "Note: F4 / eighth / None\n",
      "Note: F4 / eighth / None\n",
      "Note: F4 / 16th / None\n",
      "Note: G4 / 16th / None\n",
      "Note: F4 / 16th / None\n",
      "Note: F4 / 16th / None\n",
      "Note: D4 / eighth / None\n",
      "Note: D4 / eighth / None\n",
      "Note: D5 / 16th / None\n",
      "Note: D5 / 16th / None\n",
      "18\n",
      "Note: F4 / eighth / None\n",
      "Note: G4 / 16th / None\n",
      "Note: G4 / 16th / start\n",
      "Note: G4 / eighth / stop\n",
      "Note: G4 / 16th / None\n",
      "Note: A4 / 16th / None\n",
      "Note: G4 / 16th / None\n",
      "Note: G4 / 16th / None\n",
      "Note: D4 / eighth / None\n",
      "Note: D4 / eighth / None\n",
      "Note: D5 / 16th / None\n",
      "Note: D5 / 16th / None\n",
      "19\n",
      "Note: E4 / eighth / None\n",
      "Note: F4 / 16th / None\n",
      "Note: F4 / 16th / start\n",
      "Note: F4 / eighth / stop\n",
      "Note: B4 / 16th / None\n",
      "Note: B4 / 16th / None\n",
      "Note: D4 / 16th / None\n",
      "Note: D#4 / eighth / None\n",
      "Note: D4 / eighth / None\n",
      "Note: G4 / 16th / None\n",
      "Note: G#4 / 16th / start\n",
      "20\n",
      "Note: A3 / half / stop\n",
      "Note: E3 / quarter / None\n",
      "Note: D3 / quarter / None\n",
      "21\n",
      "Note: F4 / eighth / None\n",
      "Note: F4 / eighth / None\n",
      "Note: F4 / eighth / None\n",
      "Note: F4 / 16th / None\n",
      "Note: G4 / 16th / None\n",
      "Note: F4 / 16th / None\n",
      "Note: F4 / 16th / None\n",
      "Note: D4 / eighth / None\n",
      "Note: D4 / eighth / None\n",
      "Note: D5 / 16th / None\n",
      "Note: D5 / 16th / None\n",
      "22\n",
      "Note: F4 / eighth / None\n",
      "Note: G4 / 16th / None\n",
      "Note: G4 / 16th / start\n",
      "Note: G4 / eighth / stop\n",
      "Note: G4 / 16th / None\n",
      "Note: A4 / 16th / None\n",
      "Note: G4 / 16th / None\n",
      "Note: G4 / 16th / None\n",
      "Note: D4 / eighth / None\n",
      "Note: D4 / eighth / None\n",
      "Note: D5 / 16th / None\n",
      "Note: D5 / 16th / None\n",
      "23\n",
      "Note: E4 / eighth / None\n",
      "Note: F4 / 16th / None\n",
      "Note: F4 / 16th / start\n",
      "Note: F4 / eighth / stop\n",
      "Note: B4 / 16th / None\n",
      "Note: B4 / 16th / None\n",
      "Note: D4 / 16th / None\n",
      "Note: D#4 / eighth / None\n",
      "Note: D4 / eighth / None\n",
      "Note: E4 / 16th / None\n",
      "Note: E4 / 16th / start\n",
      "24\n",
      "Note: D4 / half / stop\n",
      "Note: rest / quarter\n"
     ]
    }
   ],
   "source": [
    "i=0\n",
    "for measure in measures:\n",
    "    inv_meas = get_inverted_measure(measure)\n",
    "    print(i)\n",
    "    i+=1\n",
    "    inv_meas.printMeasure()"
   ]
  },
  {
   "cell_type": "code",
   "execution_count": 79,
   "metadata": {},
   "outputs": [
    {
     "name": "stdout",
     "output_type": "stream",
     "text": [
      "Note: F5 / eighth / None\n",
      "Note: E5 / 16th / None\n",
      "Note: E5 / 16th / start\n",
      "Note: E5 / eighth / stop\n",
      "Note: E5 / 16th / None\n",
      "Note: D5 / 16th / None\n",
      "Note: E5 / 16th / None\n",
      "Note: E5 / 16th / None\n",
      "Note: A5 / eighth / None\n",
      "Note: A5 / eighth / None\n",
      "Note: A4 / 16th / None\n",
      "Note: A4 / 16th / None\n"
     ]
    }
   ],
   "source": [
    "measures[18].printMeasure()"
   ]
  },
  {
   "cell_type": "markdown",
   "metadata": {},
   "source": [
    "# 4. Read XML and get measures to invert chords"
   ]
  },
  {
   "cell_type": "code",
   "execution_count": null,
   "metadata": {
    "ExecuteTime": {
     "end_time": "2019-12-22T13:09:57.592064Z",
     "start_time": "2019-12-22T13:09:57.577065Z"
    }
   },
   "outputs": [],
   "source": [
    "xml_measures = root.findall('.//measure')\n",
    "measures = []\n",
    "\n",
    "for xml_measure in xml_measures:\n",
    "    measure = Measure(get_meas_notes_xml(xml_measure))\n",
    "    measures.append(measure)\n",
    "    "
   ]
  },
  {
   "cell_type": "code",
   "execution_count": null,
   "metadata": {},
   "outputs": [],
   "source": [
    "for measure in measures:\n",
    "    measure.printMeasure()"
   ]
  },
  {
   "cell_type": "code",
   "execution_count": null,
   "metadata": {},
   "outputs": [],
   "source": []
  }
 ],
 "metadata": {
  "kernelspec": {
   "display_name": "Python 3",
   "language": "python",
   "name": "python3"
  },
  "language_info": {
   "codemirror_mode": {
    "name": "ipython",
    "version": 3
   },
   "file_extension": ".py",
   "mimetype": "text/x-python",
   "name": "python",
   "nbconvert_exporter": "python",
   "pygments_lexer": "ipython3",
   "version": "3.6.8"
  },
  "varInspector": {
   "cols": {
    "lenName": 16,
    "lenType": 16,
    "lenVar": 40
   },
   "kernels_config": {
    "python": {
     "delete_cmd_postfix": "",
     "delete_cmd_prefix": "del ",
     "library": "var_list.py",
     "varRefreshCmd": "print(var_dic_list())"
    },
    "r": {
     "delete_cmd_postfix": ") ",
     "delete_cmd_prefix": "rm(",
     "library": "var_list.r",
     "varRefreshCmd": "cat(var_dic_list()) "
    }
   },
   "types_to_exclude": [
    "module",
    "function",
    "builtin_function_or_method",
    "instance",
    "_Feature"
   ],
   "window_display": false
  }
 },
 "nbformat": 4,
 "nbformat_minor": 2
}
