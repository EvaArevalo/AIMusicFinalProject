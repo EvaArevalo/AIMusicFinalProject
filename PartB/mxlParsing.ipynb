{
 "cells": [
  {
   "cell_type": "markdown",
   "metadata": {},
   "source": [
    "# 0. Extract from MXL"
   ]
  },
  {
   "cell_type": "code",
   "execution_count": null,
   "metadata": {
    "ExecuteTime": {
     "end_time": "2019-12-22T04:48:39.921843Z",
     "start_time": "2019-12-22T04:48:39.904849Z"
    }
   },
   "outputs": [],
   "source": [
    "import zipfile\n",
    "import glob\n",
    "\n",
    "filename = \"XMLs/Alta_cancion.mxl\"\n",
    "with zipfile.ZipFile(filename, 'r') as zipfile:\n",
    "    zipfile.extractall('XMLs/Alta_cancion')"
   ]
  },
  {
   "cell_type": "markdown",
   "metadata": {},
   "source": [
    "# 1. Read XML"
   ]
  },
  {
   "cell_type": "code",
   "execution_count": 119,
   "metadata": {
    "ExecuteTime": {
     "end_time": "2019-12-22T04:48:53.100758Z",
     "start_time": "2019-12-22T04:48:53.087761Z"
    }
   },
   "outputs": [],
   "source": [
    "import xml.etree.cElementTree as ET\n",
    "\n",
    "filename = \"../../XMLs/至少還有你_主旋律.musicxml\"\n",
    "tree = ET.parse(filename)"
   ]
  },
  {
   "cell_type": "code",
   "execution_count": 120,
   "metadata": {
    "ExecuteTime": {
     "end_time": "2019-12-22T04:48:53.289727Z",
     "start_time": "2019-12-22T04:48:53.282728Z"
    }
   },
   "outputs": [
    {
     "data": {
      "text/plain": [
       "('score-partwise', {'version': '3.1'})"
      ]
     },
     "execution_count": 120,
     "metadata": {},
     "output_type": "execute_result"
    }
   ],
   "source": [
    "root = tree.getroot()\n",
    "root.tag, root.attrib"
   ]
  },
  {
   "cell_type": "code",
   "execution_count": 121,
   "metadata": {
    "ExecuteTime": {
     "end_time": "2019-12-22T04:48:53.491695Z",
     "start_time": "2019-12-22T04:48:53.485695Z"
    }
   },
   "outputs": [],
   "source": [
    "all_notes = root.findall('.//note')"
   ]
  },
  {
   "cell_type": "code",
   "execution_count": 122,
   "metadata": {
    "ExecuteTime": {
     "end_time": "2019-12-22T04:48:53.766653Z",
     "start_time": "2019-12-22T04:48:53.749655Z"
    }
   },
   "outputs": [],
   "source": [
    "lyric_notes = []\n",
    "for note in all_notes:\n",
    "    n = {}\n",
    "    if note.find('lyric') is not None:\n",
    "        n['type'] = note.find('type').text\n",
    "        n['lyric'] = note.find('./lyric/text').text\n",
    "        n['pitch'] = note.find('./pitch/step').text + note.find('./pitch/octave').text\n",
    "        if note.find('./pitch/alter') is not None:\n",
    "            if note.find('./pitch/alter').text == '-1':\n",
    "                p = n['pitch'][0] + 'b' + n['pitch'][1]\n",
    "                n['pitch'] = p\n",
    "            else:\n",
    "                n['pitch'] = n['pitch'][0] + '#' + n['pitch'][1]\n",
    "                \n",
    "        lyric_notes.append(n)"
   ]
  },
  {
   "cell_type": "code",
   "execution_count": 123,
   "metadata": {
    "ExecuteTime": {
     "end_time": "2019-12-22T04:48:54.573524Z",
     "start_time": "2019-12-22T04:48:54.567524Z"
    }
   },
   "outputs": [
    {
     "data": {
      "text/plain": [
       "159"
      ]
     },
     "execution_count": 123,
     "metadata": {},
     "output_type": "execute_result"
    }
   ],
   "source": [
    "len(lyric_notes)"
   ]
  },
  {
   "cell_type": "code",
   "execution_count": 124,
   "metadata": {
    "ExecuteTime": {
     "end_time": "2019-12-22T04:48:54.800488Z",
     "start_time": "2019-12-22T04:48:54.773494Z"
    }
   },
   "outputs": [
    {
     "data": {
      "text/plain": [
       "[{'type': '16th', 'lyric': '我', 'pitch': 'G4'},\n",
       " {'type': '16th', 'lyric': '怕', 'pitch': 'G4'},\n",
       " {'type': 'eighth', 'lyric': '來', 'pitch': 'F#4'},\n",
       " {'type': '16th', 'lyric': '不', 'pitch': 'A4'},\n",
       " {'type': '16th', 'lyric': '幾', 'pitch': 'D5'},\n",
       " {'type': '16th', 'lyric': '我', 'pitch': 'A4'},\n",
       " {'type': '16th', 'lyric': '要', 'pitch': 'A4'},\n",
       " {'type': 'eighth', 'lyric': '抱', 'pitch': 'D5'},\n",
       " {'type': '16th', 'lyric': '著', 'pitch': 'A4'},\n",
       " {'type': '16th', 'lyric': '你', 'pitch': 'B4'},\n",
       " {'type': '16th', 'lyric': '直', 'pitch': 'G4'},\n",
       " {'type': '16th', 'lyric': '到', 'pitch': 'G4'},\n",
       " {'type': 'eighth', 'lyric': '感', 'pitch': 'F#4'},\n",
       " {'type': 'eighth', 'lyric': '覺', 'pitch': 'A4'},\n",
       " {'type': 'eighth', 'lyric': '你', 'pitch': 'D5'},\n",
       " {'type': '16th', 'lyric': '的', 'pitch': 'E5'},\n",
       " {'type': '16th', 'lyric': '皺', 'pitch': 'E5'},\n",
       " {'type': 'eighth', 'lyric': '紋', 'pitch': 'D5'},\n",
       " {'type': '16th', 'lyric': '有', 'pitch': 'D5'},\n",
       " {'type': '16th', 'lyric': '了', 'pitch': 'E5'},\n",
       " {'type': 'eighth', 'lyric': '歲', 'pitch': 'F#5'},\n",
       " {'type': '16th', 'lyric': '月', 'pitch': 'C#5'},\n",
       " {'type': '16th', 'lyric': '的', 'pitch': 'C#5'},\n",
       " {'type': 'eighth', 'lyric': '痕', 'pitch': 'B4'},\n",
       " {'type': 'quarter', 'lyric': '跡', 'pitch': 'C#5'},\n",
       " {'type': '16th', 'lyric': '直', 'pitch': 'A4'},\n",
       " {'type': '16th', 'lyric': '到', 'pitch': 'A4'},\n",
       " {'type': 'eighth', 'lyric': '肯', 'pitch': 'B4'},\n",
       " {'type': 'eighth', 'lyric': '定', 'pitch': 'D5'},\n",
       " {'type': 'eighth', 'lyric': '你', 'pitch': 'D5'},\n",
       " {'type': '16th', 'lyric': '是', 'pitch': 'B4'},\n",
       " {'type': '16th', 'lyric': '真', 'pitch': 'E5'},\n",
       " {'type': 'eighth', 'lyric': '的', 'pitch': 'D5'},\n",
       " {'type': 'eighth', 'lyric': '直', 'pitch': 'A4'},\n",
       " {'type': 'eighth', 'lyric': '到', 'pitch': 'A4'},\n",
       " {'type': 'eighth', 'lyric': '不', 'pitch': 'F#5'},\n",
       " {'type': '16th', 'lyric': '能', 'pitch': 'G5'},\n",
       " {'type': '16th', 'lyric': '呼', 'pitch': 'G5'},\n",
       " {'type': 'quarter', 'lyric': '吸', 'pitch': 'F#5'},\n",
       " {'type': 'eighth', 'lyric': '為', 'pitch': 'F#5'},\n",
       " {'type': '16th', 'lyric': '了', 'pitch': 'B4'},\n",
       " {'type': '16th', 'lyric': '你', 'pitch': 'D5'},\n",
       " {'type': '16th', 'lyric': '我', 'pitch': 'Bb4'},\n",
       " {'type': 'eighth', 'lyric': '願', 'pitch': 'Bb4'},\n",
       " {'type': 'half', 'lyric': '意', 'pitch': 'A4'},\n",
       " {'type': '16th', 'lyric': '動', 'pitch': 'G4'},\n",
       " {'type': '16th', 'lyric': '也', 'pitch': 'G4'},\n",
       " {'type': 'eighth', 'lyric': '不', 'pitch': 'F#4'},\n",
       " {'type': '16th', 'lyric': '能', 'pitch': 'A4'},\n",
       " {'type': '16th', 'lyric': '動', 'pitch': 'D5'},\n",
       " {'type': '16th', 'lyric': '也', 'pitch': 'A4'},\n",
       " {'type': '16th', 'lyric': '要', 'pitch': 'A4'},\n",
       " {'type': 'eighth', 'lyric': '看', 'pitch': 'D5'},\n",
       " {'type': '16th', 'lyric': '著', 'pitch': 'A4'},\n",
       " {'type': '16th', 'lyric': '你', 'pitch': 'B4'},\n",
       " {'type': '16th', 'lyric': '直', 'pitch': 'G4'},\n",
       " {'type': '16th', 'lyric': '到', 'pitch': 'G4'},\n",
       " {'type': 'eighth', 'lyric': '感', 'pitch': 'F#4'},\n",
       " {'type': '16th', 'lyric': '覺', 'pitch': 'A4'},\n",
       " {'type': '16th', 'lyric': '你', 'pitch': 'D5'},\n",
       " {'type': '16th', 'lyric': '的', 'pitch': 'E5'},\n",
       " {'type': '16th', 'lyric': '髮', 'pitch': 'E5'},\n",
       " {'type': 'eighth', 'lyric': '線', 'pitch': 'D5'},\n",
       " {'type': '16th', 'lyric': '有', 'pitch': 'D5'},\n",
       " {'type': '16th', 'lyric': '了', 'pitch': 'E5'},\n",
       " {'type': 'eighth', 'lyric': '白', 'pitch': 'F#5'},\n",
       " {'type': '16th', 'lyric': '雪', 'pitch': 'C#5'},\n",
       " {'type': '16th', 'lyric': '的', 'pitch': 'C#5'},\n",
       " {'type': 'eighth', 'lyric': '痕', 'pitch': 'D5'},\n",
       " {'type': 'quarter', 'lyric': '跡', 'pitch': 'C#5'},\n",
       " {'type': '16th', 'lyric': '直', 'pitch': 'A4'},\n",
       " {'type': '16th', 'lyric': '到', 'pitch': 'A4'},\n",
       " {'type': 'eighth', 'lyric': '視', 'pitch': 'B4'},\n",
       " {'type': 'eighth', 'lyric': '線', 'pitch': 'D5'},\n",
       " {'type': 'eighth', 'lyric': '變', 'pitch': 'D5'},\n",
       " {'type': '16th', 'lyric': '的', 'pitch': 'B4'},\n",
       " {'type': '16th', 'lyric': '模', 'pitch': 'E5'},\n",
       " {'type': 'eighth', 'lyric': '糊', 'pitch': 'D5'},\n",
       " {'type': 'eighth', 'lyric': '直', 'pitch': 'A4'},\n",
       " {'type': 'eighth', 'lyric': '到', 'pitch': 'A4'},\n",
       " {'type': 'eighth', 'lyric': '不', 'pitch': 'F#5'},\n",
       " {'type': '16th', 'lyric': '能', 'pitch': 'G5'},\n",
       " {'type': '16th', 'lyric': '呼', 'pitch': 'G5'},\n",
       " {'type': 'quarter', 'lyric': '吸', 'pitch': 'F#5'},\n",
       " {'type': 'eighth', 'lyric': '讓', 'pitch': 'F#5'},\n",
       " {'type': '16th', 'lyric': '你', 'pitch': 'B4'},\n",
       " {'type': '16th', 'lyric': '我', 'pitch': 'D5'},\n",
       " {'type': '16th', 'lyric': '形', 'pitch': 'A4'},\n",
       " {'type': 'eighth', 'lyric': '影', 'pitch': 'B4'},\n",
       " {'type': 'eighth', 'lyric': '不', 'pitch': 'D5'},\n",
       " {'type': 'half', 'lyric': '離', 'pitch': 'D5'},\n",
       " {'type': 'quarter', 'lyric': '如', 'pitch': 'D5'},\n",
       " {'type': 'quarter', 'lyric': '果', 'pitch': 'E5'},\n",
       " {'type': 'eighth', 'lyric': '全', 'pitch': 'F#5'},\n",
       " {'type': 'eighth', 'lyric': '世', 'pitch': 'F#5'},\n",
       " {'type': 'eighth', 'lyric': '界', 'pitch': 'F#5'},\n",
       " {'type': '16th', 'lyric': '我', 'pitch': 'F#5'},\n",
       " {'type': '16th', 'lyric': '也', 'pitch': 'E5'},\n",
       " {'type': '16th', 'lyric': '可', 'pitch': 'F#5'},\n",
       " {'type': '16th', 'lyric': '以', 'pitch': 'F#5'},\n",
       " {'type': 'eighth', 'lyric': '放', 'pitch': 'A5'},\n",
       " {'type': 'eighth', 'lyric': '棄', 'pitch': 'A5'},\n",
       " {'type': '16th', 'lyric': '至', 'pitch': 'A4'},\n",
       " {'type': '16th', 'lyric': '少', 'pitch': 'A4'},\n",
       " {'type': 'eighth', 'lyric': '還', 'pitch': 'F#5'},\n",
       " {'type': '16th', 'lyric': '有', 'pitch': 'E5'},\n",
       " {'type': '16th', 'lyric': '你', 'pitch': 'E5'},\n",
       " {'type': '16th', 'lyric': '值', 'pitch': 'E5'},\n",
       " {'type': '16th', 'lyric': '得', 'pitch': 'D5'},\n",
       " {'type': '16th', 'lyric': '我', 'pitch': 'E5'},\n",
       " {'type': '16th', 'lyric': '去', 'pitch': 'E5'},\n",
       " {'type': 'eighth', 'lyric': '珍', 'pitch': 'A5'},\n",
       " {'type': 'eighth', 'lyric': '惜', 'pitch': 'A5'},\n",
       " {'type': '16th', 'lyric': '而', 'pitch': 'A4'},\n",
       " {'type': '16th', 'lyric': '你', 'pitch': 'A4'},\n",
       " {'type': 'eighth', 'lyric': '在', 'pitch': 'E5'},\n",
       " {'type': '16th', 'lyric': '這', 'pitch': 'D5'},\n",
       " {'type': '16th', 'lyric': '裡', 'pitch': 'D5'},\n",
       " {'type': '16th', 'lyric': '就', 'pitch': 'A4'},\n",
       " {'type': '16th', 'lyric': '是', 'pitch': 'A4'},\n",
       " {'type': '16th', 'lyric': '生', 'pitch': 'F5'},\n",
       " {'type': 'eighth', 'lyric': '命', 'pitch': 'E5'},\n",
       " {'type': 'eighth', 'lyric': '的', 'pitch': 'E5'},\n",
       " {'type': '16th', 'lyric': '奇', 'pitch': 'Bb4'},\n",
       " {'type': '16th', 'lyric': '蹟', 'pitch': 'A4'},\n",
       " {'type': 'quarter', 'lyric': '也', 'pitch': 'D5'},\n",
       " {'type': 'quarter', 'lyric': '許', 'pitch': 'E5'},\n",
       " {'type': 'eighth', 'lyric': '全', 'pitch': 'F#5'},\n",
       " {'type': 'eighth', 'lyric': '世', 'pitch': 'F#5'},\n",
       " {'type': 'eighth', 'lyric': '界', 'pitch': 'F#5'},\n",
       " {'type': '16th', 'lyric': '我', 'pitch': 'F#5'},\n",
       " {'type': '16th', 'lyric': '也', 'pitch': 'E5'},\n",
       " {'type': '16th', 'lyric': '可', 'pitch': 'F#5'},\n",
       " {'type': '16th', 'lyric': '以', 'pitch': 'F#5'},\n",
       " {'type': 'eighth', 'lyric': '忘', 'pitch': 'A5'},\n",
       " {'type': 'eighth', 'lyric': '記', 'pitch': 'A5'},\n",
       " {'type': '16th', 'lyric': '就', 'pitch': 'A4'},\n",
       " {'type': '16th', 'lyric': '是', 'pitch': 'A4'},\n",
       " {'type': 'eighth', 'lyric': '不', 'pitch': 'F#5'},\n",
       " {'type': '16th', 'lyric': '願', 'pitch': 'E5'},\n",
       " {'type': '16th', 'lyric': '意', 'pitch': 'E5'},\n",
       " {'type': '16th', 'lyric': '失', 'pitch': 'E5'},\n",
       " {'type': '16th', 'lyric': '去', 'pitch': 'D5'},\n",
       " {'type': '16th', 'lyric': '你', 'pitch': 'E5'},\n",
       " {'type': '16th', 'lyric': '的', 'pitch': 'E5'},\n",
       " {'type': 'eighth', 'lyric': '消', 'pitch': 'A5'},\n",
       " {'type': 'eighth', 'lyric': '息', 'pitch': 'A5'},\n",
       " {'type': '16th', 'lyric': '你', 'pitch': 'A4'},\n",
       " {'type': '16th', 'lyric': '掌', 'pitch': 'A4'},\n",
       " {'type': 'eighth', 'lyric': '心', 'pitch': 'E5'},\n",
       " {'type': '16th', 'lyric': '的', 'pitch': 'D5'},\n",
       " {'type': '16th', 'lyric': '痣', 'pitch': 'D5'},\n",
       " {'type': '16th', 'lyric': '我', 'pitch': 'A4'},\n",
       " {'type': '16th', 'lyric': '總', 'pitch': 'A4'},\n",
       " {'type': '16th', 'lyric': '記', 'pitch': 'F5'},\n",
       " {'type': 'eighth', 'lyric': '得', 'pitch': 'E5'},\n",
       " {'type': 'eighth', 'lyric': '在', 'pitch': 'E5'},\n",
       " {'type': '16th', 'lyric': '哪', 'pitch': 'D5'},\n",
       " {'type': '16th', 'lyric': '裡', 'pitch': 'D5'}]"
      ]
     },
     "execution_count": 124,
     "metadata": {},
     "output_type": "execute_result"
    }
   ],
   "source": [
    "lyric_notes"
   ]
  },
  {
   "cell_type": "markdown",
   "metadata": {},
   "source": [
    "# 2. Exploring "
   ]
  },
  {
   "cell_type": "code",
   "execution_count": 88,
   "metadata": {},
   "outputs": [],
   "source": [
    "time = root.find('.//time')"
   ]
  },
  {
   "cell_type": "code",
   "execution_count": 90,
   "metadata": {},
   "outputs": [
    {
     "data": {
      "text/plain": [
       "'4'"
      ]
     },
     "execution_count": 90,
     "metadata": {},
     "output_type": "execute_result"
    }
   ],
   "source": [
    "time.find(\".//beats\").text"
   ]
  },
  {
   "cell_type": "code",
   "execution_count": 92,
   "metadata": {},
   "outputs": [
    {
     "data": {
      "text/plain": [
       "'4'"
      ]
     },
     "execution_count": 92,
     "metadata": {},
     "output_type": "execute_result"
    }
   ],
   "source": [
    "time.find(\".//beat-type\").text"
   ]
  },
  {
   "cell_type": "markdown",
   "metadata": {},
   "source": [
    "# 3. Helper classes /functions"
   ]
  },
  {
   "cell_type": "markdown",
   "metadata": {},
   "source": [
    "## 3.1 Helper classes"
   ]
  },
  {
   "cell_type": "code",
   "execution_count": 125,
   "metadata": {
    "ExecuteTime": {
     "end_time": "2019-12-22T04:49:04.461048Z",
     "start_time": "2019-12-22T04:49:04.454048Z"
    }
   },
   "outputs": [],
   "source": [
    "from enum import Enum\n",
    "\n",
    "class NoteTypes(Enum):\n",
    "    '''Class defining types of notes'''\n",
    "    whole = 1\n",
    "    half = 2\n",
    "    quarter = 4\n",
    "    eight = 8\n",
    "    sixteenth = 16\n",
    "    thirtysecond = 32"
   ]
  },
  {
   "cell_type": "code",
   "execution_count": 126,
   "metadata": {
    "ExecuteTime": {
     "end_time": "2019-12-22T04:49:04.639020Z",
     "start_time": "2019-12-22T04:49:04.608026Z"
    }
   },
   "outputs": [],
   "source": [
    "class NoteLetters(Enum):\n",
    "    C = 0\n",
    "    D = 2\n",
    "    E = 4\n",
    "    F = 6\n",
    "    G = 8\n",
    "    A = 10\n",
    "    B = 12"
   ]
  },
  {
   "cell_type": "code",
   "execution_count": 127,
   "metadata": {
    "ExecuteTime": {
     "end_time": "2019-12-22T04:49:04.762000Z",
     "start_time": "2019-12-22T04:49:04.732007Z"
    }
   },
   "outputs": [
    {
     "name": "stdout",
     "output_type": "stream",
     "text": [
      "Note: C4 / quarter / None\n"
     ]
    }
   ],
   "source": [
    "n2 = Note('quarter','C','4',None,None)\n",
    "n2.printNote()"
   ]
  },
  {
   "cell_type": "code",
   "execution_count": 128,
   "metadata": {
    "ExecuteTime": {
     "end_time": "2019-12-22T04:49:04.918975Z",
     "start_time": "2019-12-22T04:49:04.886981Z"
    }
   },
   "outputs": [
    {
     "data": {
      "text/plain": [
       "2"
      ]
     },
     "execution_count": 128,
     "metadata": {},
     "output_type": "execute_result"
    }
   ],
   "source": [
    "#raise by 2 semitones\n",
    "newval = getattr(NoteLetters,n2.step).value+2\n",
    "newval"
   ]
  },
  {
   "cell_type": "code",
   "execution_count": 129,
   "metadata": {
    "ExecuteTime": {
     "end_time": "2019-12-22T04:49:05.029958Z",
     "start_time": "2019-12-22T04:49:05.023958Z"
    }
   },
   "outputs": [
    {
     "data": {
      "text/plain": [
       "2"
      ]
     },
     "execution_count": 129,
     "metadata": {},
     "output_type": "execute_result"
    }
   ],
   "source": [
    "newval%14"
   ]
  },
  {
   "cell_type": "code",
   "execution_count": 130,
   "metadata": {
    "ExecuteTime": {
     "end_time": "2019-12-22T04:49:05.159937Z",
     "start_time": "2019-12-22T04:49:05.154938Z"
    }
   },
   "outputs": [
    {
     "data": {
      "text/plain": [
       "<NoteLetters.D: 2>"
      ]
     },
     "execution_count": 130,
     "metadata": {},
     "output_type": "execute_result"
    }
   ],
   "source": [
    "NoteLetters(newval%14)"
   ]
  },
  {
   "cell_type": "code",
   "execution_count": 131,
   "metadata": {
    "ExecuteTime": {
     "end_time": "2019-12-22T04:49:05.281919Z",
     "start_time": "2019-12-22T04:49:05.276919Z"
    }
   },
   "outputs": [
    {
     "data": {
      "text/plain": [
       "'D'"
      ]
     },
     "execution_count": 131,
     "metadata": {},
     "output_type": "execute_result"
    }
   ],
   "source": [
    "NoteLetters(newval).name"
   ]
  },
  {
   "cell_type": "code",
   "execution_count": 132,
   "metadata": {
    "ExecuteTime": {
     "end_time": "2019-12-22T04:49:05.414899Z",
     "start_time": "2019-12-22T04:49:05.406898Z"
    }
   },
   "outputs": [
    {
     "data": {
      "text/plain": [
       "-2"
      ]
     },
     "execution_count": 132,
     "metadata": {},
     "output_type": "execute_result"
    }
   ],
   "source": [
    "#lower by 2 semitones\n",
    "newval = getattr(NoteLetters,n2.step).value-2\n",
    "newval"
   ]
  },
  {
   "cell_type": "code",
   "execution_count": 133,
   "metadata": {
    "ExecuteTime": {
     "end_time": "2019-12-22T04:49:05.544875Z",
     "start_time": "2019-12-22T04:49:05.538878Z"
    }
   },
   "outputs": [
    {
     "data": {
      "text/plain": [
       "<NoteLetters.B: 12>"
      ]
     },
     "execution_count": 133,
     "metadata": {},
     "output_type": "execute_result"
    }
   ],
   "source": [
    "NoteLetters(newval%14)"
   ]
  },
  {
   "cell_type": "code",
   "execution_count": 134,
   "metadata": {
    "ExecuteTime": {
     "end_time": "2019-12-22T04:49:05.683855Z",
     "start_time": "2019-12-22T04:49:05.677855Z"
    }
   },
   "outputs": [
    {
     "data": {
      "text/plain": [
       "'B'"
      ]
     },
     "execution_count": 134,
     "metadata": {},
     "output_type": "execute_result"
    }
   ],
   "source": [
    "NoteLetters(newval%14).name"
   ]
  },
  {
   "cell_type": "code",
   "execution_count": 135,
   "metadata": {
    "ExecuteTime": {
     "end_time": "2019-12-22T04:49:06.326795Z",
     "start_time": "2019-12-22T04:49:06.318793Z"
    }
   },
   "outputs": [
    {
     "name": "stdout",
     "output_type": "stream",
     "text": [
      "Note: B4 / quarter / None\n"
     ]
    },
    {
     "data": {
      "text/plain": [
       "14"
      ]
     },
     "execution_count": 135,
     "metadata": {},
     "output_type": "execute_result"
    }
   ],
   "source": [
    "#new note at the nottom, lower by 2 semitones\n",
    "n3 = Note('quarter','B','4',None,None)\n",
    "n3.printNote()\n",
    "newval = getattr(NoteLetters,n3.step).value+2\n",
    "newval"
   ]
  },
  {
   "cell_type": "code",
   "execution_count": 136,
   "metadata": {
    "ExecuteTime": {
     "end_time": "2019-12-22T04:49:06.552759Z",
     "start_time": "2019-12-22T04:49:06.546757Z"
    }
   },
   "outputs": [
    {
     "data": {
      "text/plain": [
       "<NoteLetters.C: 0>"
      ]
     },
     "execution_count": 136,
     "metadata": {},
     "output_type": "execute_result"
    }
   ],
   "source": [
    "NoteLetters(newval%14)"
   ]
  },
  {
   "cell_type": "code",
   "execution_count": 137,
   "metadata": {
    "ExecuteTime": {
     "end_time": "2019-12-22T04:49:07.601626Z",
     "start_time": "2019-12-22T04:49:07.595627Z"
    }
   },
   "outputs": [
    {
     "data": {
      "text/plain": [
       "'C'"
      ]
     },
     "execution_count": 137,
     "metadata": {},
     "output_type": "execute_result"
    }
   ],
   "source": [
    "NoteLetters(newval%14).name"
   ]
  },
  {
   "cell_type": "code",
   "execution_count": 242,
   "metadata": {
    "ExecuteTime": {
     "end_time": "2019-12-22T05:01:57.584895Z",
     "start_time": "2019-12-22T05:01:57.565898Z"
    }
   },
   "outputs": [],
   "source": [
    "class Note:\n",
    "    '''Class representing a musical note'''\n",
    "    notetype = None\n",
    "    step = ''\n",
    "    octave = 0\n",
    "    so = None\n",
    "    tie = None\n",
    "    accidental = None\n",
    "    \n",
    "    def __init__(self,notetype,step,octave,tie,accidental):\n",
    "        self.notetype = notetype\n",
    "        self.step = step\n",
    "        self.octave = int(octave)\n",
    "        self.tie = tie\n",
    "        self.accidental = accidental\n",
    "        \n",
    "    def get_so(self):\n",
    "        if self.accidental:\n",
    "            so = self.step + self.accidental + str(self.octave)\n",
    "        else:\n",
    "            \n",
    "            so = self.step + str(self.octave)\n",
    "        return so\n",
    "    \n",
    "    def printNote(self):\n",
    "        if self.step=='':\n",
    "            print('Note: ' + 'rest' + ' / ' +\n",
    "              str(self.notetype))\n",
    "        else:\n",
    "            print('Note: ' + str(self.get_so()) + ' / ' +\n",
    "              str(self.notetype) + ' / ' +\n",
    "              str(self.tie))\n",
    "            \n",
    "    def addOctaves(self,addOct):\n",
    "        self.octave += addOct\n",
    "        \n",
    "    def copyNote(self):\n",
    "        ncopy = Note(self.notetype,self.step,self.octave,self.tie,self.accidental)\n",
    "        return ncopy\n",
    "    \n",
    "    def addSemiTone(self,semiTToAdd):\n",
    "        \n",
    "        #get relative position of new note\n",
    "        newVal = getattr(NoteLetters,self.step).value + semiTToAdd\n",
    "        \n",
    "        #handle semitones first\n",
    "        if (semiTToAdd%2!=0):\n",
    "            \n",
    "            if self.accidental == '#':\n",
    "                self.accidental = None\n",
    "                newVal += 1\n",
    "\n",
    "            elif self.accidental == 'b':\n",
    "                self.accidental = None\n",
    "                newVal -= 1\n",
    "            \n",
    "            elif not self.accidental:\n",
    "                self.accidental = '#'\n",
    "                newVal -= 1\n",
    "                \n",
    "            #natural, assumes sharps in score\n",
    "            else:\n",
    "                self.accidental = None\n",
    "\n",
    "        \n",
    "\n",
    "       \n",
    "        #Change step within same octave\n",
    "        if newVal>=0 and newVal<14:\n",
    "            self.step=NoteLetters(newVal).name\n",
    "        \n",
    "        #change step to a lower octave\n",
    "        elif newVal<0:\n",
    "            self.step = NoteLetters(newVal%14).name\n",
    "            self.octave -= 1\n",
    "        \n",
    "        #change step to a higher octave\n",
    "        elif newVal>=14:\n",
    "            self.step = NoteLetters(newVal%14).name\n",
    "            self.octave += 1     \n",
    "\n",
    "        "
   ]
  },
  {
   "cell_type": "code",
   "execution_count": 202,
   "metadata": {
    "ExecuteTime": {
     "end_time": "2019-12-22T04:57:18.182890Z",
     "start_time": "2019-12-22T04:57:18.170895Z"
    }
   },
   "outputs": [],
   "source": [
    "class Measure:\n",
    "    '''Class representing a measure'''\n",
    "    notes = []\n",
    "    \n",
    "    def __init__(self,notes):\n",
    "        self.notes = notes\n",
    "    \n",
    "    def get_sos(self):\n",
    "        sos = []\n",
    "        for note in self.notes:\n",
    "            sos.append(note.get_so())\n",
    "        return sos\n",
    "    \n",
    "    def get_notetypes(self):\n",
    "        notetypes = []\n",
    "        for note in self.notes:\n",
    "            notetypes.append(note.notetype)\n",
    "        return notetypes \n",
    "    \n",
    "    def get_ties(self):\n",
    "        ties = []\n",
    "        for tie in self.notes:\n",
    "            ties.append(note.tie)\n",
    "        return ties \n",
    "    \n",
    "    def printMeasure(self):\n",
    "        for note in self.notes:\n",
    "            note.printNote()"
   ]
  },
  {
   "cell_type": "markdown",
   "metadata": {},
   "source": [
    "## 3.2 Helper functions"
   ]
  },
  {
   "cell_type": "code",
   "execution_count": 203,
   "metadata": {
    "ExecuteTime": {
     "end_time": "2019-12-22T04:57:18.488844Z",
     "start_time": "2019-12-22T04:57:18.483844Z"
    }
   },
   "outputs": [],
   "source": [
    "def get_ts_xml(root):\n",
    "    '''Gets time signature for a musicxml file.\n",
    "    Input: Root of XML Tree\n",
    "    Output:top and bottom numbers of the Time signature'''\n",
    "    time = root.find('.//time')\n",
    "    top = int(time.find(\".//beats\").text)\n",
    "    bottom = int(time.find(\".//beat-type\").text)\n",
    "    return top,bottom"
   ]
  },
  {
   "cell_type": "code",
   "execution_count": 204,
   "metadata": {
    "ExecuteTime": {
     "end_time": "2019-12-22T04:57:18.635820Z",
     "start_time": "2019-12-22T04:57:18.629820Z"
    }
   },
   "outputs": [
    {
     "data": {
      "text/plain": [
       "(4, 4)"
      ]
     },
     "execution_count": 204,
     "metadata": {},
     "output_type": "execute_result"
    }
   ],
   "source": [
    "get_ts_xml(root)"
   ]
  },
  {
   "cell_type": "code",
   "execution_count": 205,
   "metadata": {
    "ExecuteTime": {
     "end_time": "2019-12-22T04:57:18.797793Z",
     "start_time": "2019-12-22T04:57:18.788794Z"
    }
   },
   "outputs": [],
   "source": [
    "def get_bpm_xml(root):\n",
    "    '''Gets beats per minute as well as type of beats for a musicxml file.\n",
    "    Input: Root of XML Tree\n",
    "    Output: beats per minute, noteType'''\n",
    "    metronome = root.find('.//metronome')\n",
    "    beats_per_min = int(metronome.find('.//per-minute').text)\n",
    "    beat_type = metronome.find('.//beat-unit').text\n",
    "    #beat_type = getattr(NoteTypes, str(beat_type))\n",
    "    return beats_per_min, beat_type"
   ]
  },
  {
   "cell_type": "code",
   "execution_count": 206,
   "metadata": {
    "ExecuteTime": {
     "end_time": "2019-12-22T04:57:18.936772Z",
     "start_time": "2019-12-22T04:57:18.915774Z"
    }
   },
   "outputs": [
    {
     "data": {
      "text/plain": [
       "(62, 'quarter')"
      ]
     },
     "execution_count": 206,
     "metadata": {},
     "output_type": "execute_result"
    }
   ],
   "source": [
    "get_bpm_xml(root)"
   ]
  },
  {
   "cell_type": "code",
   "execution_count": 207,
   "metadata": {
    "ExecuteTime": {
     "end_time": "2019-12-22T04:57:19.113746Z",
     "start_time": "2019-12-22T04:57:19.076751Z"
    }
   },
   "outputs": [],
   "source": [
    "def decode_xml_note(xml_note):\n",
    "    '''Gets note type, step, octave and tie type'''\n",
    "    try:\n",
    "        notetype = xml_note.find('.//type').text\n",
    "    except:\n",
    "        notetype = None\n",
    "    try:\n",
    "        step = xml_note.find('.//step').text\n",
    "    except:\n",
    "        step = ''\n",
    "    try:\n",
    "        octave = xml_note.find('.//octave').text\n",
    "    except:\n",
    "        octave = 0\n",
    "    try:\n",
    "        tie = xml_note.find('.//tie').get('type')\n",
    "    except:\n",
    "        tie = None\n",
    "    try:\n",
    "        accidental = xml_note.find('.//accidental').text\n",
    "        if accidental == 'natural':\n",
    "            accidental = '*'\n",
    "        if accidental == 'flat':\n",
    "            accidental = 'b'\n",
    "        if accidental == 'sharp':\n",
    "            accidental = '#'\n",
    "            \n",
    "    except:\n",
    "        accidental = None\n",
    "        \n",
    "    note = Note(notetype,step,octave,tie,accidental)\n",
    "    #DEBUG\n",
    "    #note.printNote()\n",
    "    \n",
    "    return note"
   ]
  },
  {
   "cell_type": "code",
   "execution_count": 208,
   "metadata": {
    "ExecuteTime": {
     "end_time": "2019-12-22T04:57:19.270719Z",
     "start_time": "2019-12-22T04:57:19.214727Z"
    }
   },
   "outputs": [
    {
     "data": {
      "text/plain": [
       "<__main__.Note at 0x1b8371083c8>"
      ]
     },
     "execution_count": 208,
     "metadata": {},
     "output_type": "execute_result"
    }
   ],
   "source": [
    "measures = root.findall('.//measure')\n",
    "xml_measure_notes = measures[4].findall('.//note')\n",
    "xml_note = xml_measure_notes[0]\n",
    "decode_xml_note(xml_note)"
   ]
  },
  {
   "cell_type": "code",
   "execution_count": 209,
   "metadata": {
    "ExecuteTime": {
     "end_time": "2019-12-22T04:57:19.393700Z",
     "start_time": "2019-12-22T04:57:19.380702Z"
    }
   },
   "outputs": [],
   "source": [
    "# return all notes in a measure\n",
    "def get_meas_notes_xml(xml_measure_notes):\n",
    "    notes = []\n",
    "    for xml_note in xml_measure_notes:\n",
    "        note = decode_xml_note(xml_note)\n",
    "        if note.notetype:\n",
    "            notes.append(note)\n",
    "        #DEBUG\n",
    "        #note.printNote()\n",
    "    return notes"
   ]
  },
  {
   "cell_type": "code",
   "execution_count": 210,
   "metadata": {
    "ExecuteTime": {
     "end_time": "2019-12-22T04:57:19.518681Z",
     "start_time": "2019-12-22T04:57:19.511680Z"
    }
   },
   "outputs": [
    {
     "data": {
      "text/plain": [
       "[<__main__.Note at 0x1b837104400>,\n",
       " <__main__.Note at 0x1b837104518>,\n",
       " <__main__.Note at 0x1b837104fd0>,\n",
       " <__main__.Note at 0x1b837104ac8>,\n",
       " <__main__.Note at 0x1b837104cc0>,\n",
       " <__main__.Note at 0x1b837104d68>,\n",
       " <__main__.Note at 0x1b8371042e8>]"
      ]
     },
     "execution_count": 210,
     "metadata": {},
     "output_type": "execute_result"
    }
   ],
   "source": [
    "get_meas_notes_xml(xml_measure_notes)"
   ]
  },
  {
   "cell_type": "markdown",
   "metadata": {},
   "source": [
    "## 3.3 Try to use classes"
   ]
  },
  {
   "cell_type": "code",
   "execution_count": 211,
   "metadata": {
    "ExecuteTime": {
     "end_time": "2019-12-22T04:57:19.795636Z",
     "start_time": "2019-12-22T04:57:19.788636Z"
    }
   },
   "outputs": [
    {
     "name": "stdout",
     "output_type": "stream",
     "text": [
      "Note: rest / half\n"
     ]
    }
   ],
   "source": [
    "#get a note\n",
    "xml_measures = root.findall('.//measure')\n",
    "xml_measure = xml_measures[3].findall('.//note')\n",
    "xml_note = xml_measure[0]\n",
    "note = decode_xml_note(xml_note)\n",
    "note.printNote()"
   ]
  },
  {
   "cell_type": "code",
   "execution_count": 212,
   "metadata": {
    "ExecuteTime": {
     "end_time": "2019-12-22T04:57:19.941614Z",
     "start_time": "2019-12-22T04:57:19.937615Z"
    }
   },
   "outputs": [],
   "source": [
    "note.so"
   ]
  },
  {
   "cell_type": "code",
   "execution_count": 213,
   "metadata": {
    "ExecuteTime": {
     "end_time": "2019-12-22T04:57:20.084591Z",
     "start_time": "2019-12-22T04:57:20.079591Z"
    }
   },
   "outputs": [
    {
     "data": {
      "text/plain": [
       "'half'"
      ]
     },
     "execution_count": 213,
     "metadata": {},
     "output_type": "execute_result"
    }
   ],
   "source": [
    "note.notetype"
   ]
  },
  {
   "cell_type": "code",
   "execution_count": 214,
   "metadata": {
    "ExecuteTime": {
     "end_time": "2019-12-22T04:57:20.233568Z",
     "start_time": "2019-12-22T04:57:20.229569Z"
    }
   },
   "outputs": [],
   "source": [
    "note.tie"
   ]
  },
  {
   "cell_type": "code",
   "execution_count": 215,
   "metadata": {
    "ExecuteTime": {
     "end_time": "2019-12-22T04:57:20.384543Z",
     "start_time": "2019-12-22T04:57:20.378543Z"
    }
   },
   "outputs": [
    {
     "name": "stdout",
     "output_type": "stream",
     "text": [
      "Note: rest / half\n",
      "Note: rest / quarter\n",
      "Note: rest / eighth\n",
      "Note: G4 / 16th / None\n",
      "Note: G4 / 16th / None\n"
     ]
    }
   ],
   "source": [
    "#get a measure\n",
    "measure = Measure(get_meas_notes_xml(xml_measure))\n",
    "measure.printMeasure()"
   ]
  },
  {
   "cell_type": "code",
   "execution_count": 216,
   "metadata": {
    "ExecuteTime": {
     "end_time": "2019-12-22T04:57:20.507523Z",
     "start_time": "2019-12-22T04:57:20.501527Z"
    }
   },
   "outputs": [
    {
     "data": {
      "text/plain": [
       "['0', '0', '0', 'G4', 'G4']"
      ]
     },
     "execution_count": 216,
     "metadata": {},
     "output_type": "execute_result"
    }
   ],
   "source": [
    "measure.get_sos()"
   ]
  },
  {
   "cell_type": "code",
   "execution_count": 217,
   "metadata": {
    "ExecuteTime": {
     "end_time": "2019-12-22T04:57:20.667499Z",
     "start_time": "2019-12-22T04:57:20.661499Z"
    }
   },
   "outputs": [
    {
     "data": {
      "text/plain": [
       "['half', 'quarter', 'eighth', '16th', '16th']"
      ]
     },
     "execution_count": 217,
     "metadata": {},
     "output_type": "execute_result"
    }
   ],
   "source": [
    "measure.get_notetypes()"
   ]
  },
  {
   "cell_type": "code",
   "execution_count": 218,
   "metadata": {
    "ExecuteTime": {
     "end_time": "2019-12-22T04:57:20.815476Z",
     "start_time": "2019-12-22T04:57:20.807477Z"
    }
   },
   "outputs": [
    {
     "data": {
      "text/plain": [
       "[None, None, None, None, None]"
      ]
     },
     "execution_count": 218,
     "metadata": {},
     "output_type": "execute_result"
    }
   ],
   "source": [
    "measure.get_ties()"
   ]
  },
  {
   "cell_type": "code",
   "execution_count": 219,
   "metadata": {
    "ExecuteTime": {
     "end_time": "2019-12-22T04:57:21.298401Z",
     "start_time": "2019-12-22T04:57:21.285401Z"
    }
   },
   "outputs": [],
   "source": [
    "#read all measures\n",
    "xml_measures = root.findall('.//measure')\n",
    "measures = []\n",
    "\n",
    "for xml_measure in xml_measures:\n",
    "    measure = Measure(get_meas_notes_xml(xml_measure))\n",
    "    if not measure.get_sos()==['0']:\n",
    "        measures.append(measure)"
   ]
  },
  {
   "cell_type": "code",
   "execution_count": 243,
   "metadata": {
    "ExecuteTime": {
     "end_time": "2019-12-22T05:02:02.962911Z",
     "start_time": "2019-12-22T05:02:02.956915Z"
    }
   },
   "outputs": [
    {
     "name": "stdout",
     "output_type": "stream",
     "text": [
      "Note: A4 / 16th / None\n",
      "Note: A4 / 16th / None\n"
     ]
    }
   ],
   "source": [
    "#try adding semitones\n",
    "n1 = measures[1].notes[1]\n",
    "n1.printNote()\n",
    "n2 = n1.copyNote()\n",
    "n2.printNote()"
   ]
  },
  {
   "cell_type": "code",
   "execution_count": 244,
   "metadata": {
    "ExecuteTime": {
     "end_time": "2019-12-22T05:02:03.545857Z",
     "start_time": "2019-12-22T05:02:03.540860Z"
    }
   },
   "outputs": [
    {
     "name": "stdout",
     "output_type": "stream",
     "text": [
      "Note: C5 / 16th / None\n"
     ]
    }
   ],
   "source": [
    "n2.addSemiTone(4)\n",
    "n2.printNote()"
   ]
  },
  {
   "cell_type": "code",
   "execution_count": 245,
   "metadata": {
    "ExecuteTime": {
     "end_time": "2019-12-22T05:02:06.146604Z",
     "start_time": "2019-12-22T05:02:06.141605Z"
    }
   },
   "outputs": [
    {
     "name": "stdout",
     "output_type": "stream",
     "text": [
      "Note: C#5 / 16th / None\n"
     ]
    }
   ],
   "source": [
    "n2.addSemiTone(1)\n",
    "n2.printNote()"
   ]
  },
  {
   "cell_type": "code",
   "execution_count": 246,
   "metadata": {
    "ExecuteTime": {
     "end_time": "2019-12-22T05:02:07.393576Z",
     "start_time": "2019-12-22T05:02:07.388577Z"
    }
   },
   "outputs": [
    {
     "name": "stdout",
     "output_type": "stream",
     "text": [
      "Note: C5 / 16th / None\n"
     ]
    }
   ],
   "source": [
    "n2.addSemiTone(-1)\n",
    "n2.printNote()"
   ]
  },
  {
   "cell_type": "code",
   "execution_count": 247,
   "metadata": {
    "ExecuteTime": {
     "end_time": "2019-12-22T05:02:09.188449Z",
     "start_time": "2019-12-22T05:02:09.182469Z"
    }
   },
   "outputs": [
    {
     "name": "stdout",
     "output_type": "stream",
     "text": [
      "Note: A4 / 16th / None\n"
     ]
    }
   ],
   "source": [
    "n2.addSemiTone(-4)\n",
    "n2.printNote()"
   ]
  },
  {
   "cell_type": "markdown",
   "metadata": {},
   "source": [
    "# 4. Read XML and get measures to invert chords"
   ]
  },
  {
   "cell_type": "code",
   "execution_count": 479,
   "metadata": {},
   "outputs": [],
   "source": [
    "xml_measures = root.findall('.//measure')\n",
    "measures = []\n",
    "\n",
    "for xml_measure in xml_measures:\n",
    "    measure = Measure(get_meas_notes_xml(xml_measure))\n",
    "    measures.append(measure)\n",
    "    "
   ]
  },
  {
   "cell_type": "code",
   "execution_count": 474,
   "metadata": {},
   "outputs": [],
   "source": [
    "for measure in measures:\n",
    "    measure.printMeasure()"
   ]
  },
  {
   "cell_type": "code",
   "execution_count": null,
   "metadata": {},
   "outputs": [],
   "source": []
  }
 ],
 "metadata": {
  "kernelspec": {
   "display_name": "Python 3",
   "language": "python",
   "name": "python3"
  },
  "language_info": {
   "codemirror_mode": {
    "name": "ipython",
    "version": 3
   },
   "file_extension": ".py",
   "mimetype": "text/x-python",
   "name": "python",
   "nbconvert_exporter": "python",
   "pygments_lexer": "ipython3",
   "version": "3.7.0"
  },
  "varInspector": {
   "cols": {
    "lenName": 16,
    "lenType": 16,
    "lenVar": 40
   },
   "kernels_config": {
    "python": {
     "delete_cmd_postfix": "",
     "delete_cmd_prefix": "del ",
     "library": "var_list.py",
     "varRefreshCmd": "print(var_dic_list())"
    },
    "r": {
     "delete_cmd_postfix": ") ",
     "delete_cmd_prefix": "rm(",
     "library": "var_list.r",
     "varRefreshCmd": "cat(var_dic_list()) "
    }
   },
   "types_to_exclude": [
    "module",
    "function",
    "builtin_function_or_method",
    "instance",
    "_Feature"
   ],
   "window_display": false
  }
 },
 "nbformat": 4,
 "nbformat_minor": 2
}
